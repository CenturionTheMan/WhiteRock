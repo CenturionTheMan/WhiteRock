{
 "cells": [
  {
   "cell_type": "code",
   "execution_count": 92,
   "id": "cd00bb9b",
   "metadata": {},
   "outputs": [],
   "source": [
    "import numpy as np\n",
    "import pandas as pd\n",
    "import yfinance as yf\n",
    "import pandas_ta as ta\n",
    "import matplotlib.pyplot as plt\n",
    "import tabulate as tb"
   ]
  },
  {
   "cell_type": "code",
   "execution_count": 93,
   "id": "0f4f43b6",
   "metadata": {},
   "outputs": [],
   "source": [
    "TICKER = \"AAPL\"\n",
    "START_DATE = \"2000-01-01\"\n",
    "END_DATE = None\n",
    "TIMEFRAME = \"1d\"    # 1d, 1h, 15m, 5m"
   ]
  },
  {
   "cell_type": "code",
   "execution_count": 94,
   "id": "51a4c5f5",
   "metadata": {},
   "outputs": [
    {
     "name": "stderr",
     "output_type": "stream",
     "text": [
      "C:\\Users\\BPX Michał Dziedziak\\AppData\\Local\\Temp\\ipykernel_7692\\3251543518.py:1: FutureWarning: YF.download() has changed argument auto_adjust default to True\n",
      "  df = yf.download(\n"
     ]
    },
    {
     "name": "stdout",
     "output_type": "stream",
     "text": [
      "+---------------------+---------+--------+--------+--------+-------------+\n",
      "| Date                |   Close |   High |    Low |   Open |      Volume |\n",
      "|---------------------+---------+--------+--------+--------+-------------|\n",
      "| 2025-10-16 00:00:00 |  247.45 | 249.04 | 245.13 | 248.25 | 3.9777e+07  |\n",
      "| 2025-10-17 00:00:00 |  252.29 | 253.38 | 247.27 | 248.02 | 4.9147e+07  |\n",
      "| 2025-10-20 00:00:00 |  262.24 | 264.38 | 255.63 | 255.89 | 9.0483e+07  |\n",
      "| 2025-10-21 00:00:00 |  262.77 | 265.29 | 261.83 | 261.88 | 4.66959e+07 |\n",
      "| 2025-10-22 00:00:00 |  258.45 | 262.85 | 255.43 | 262.65 | 4.49543e+07 |\n",
      "+---------------------+---------+--------+--------+--------+-------------+\n"
     ]
    }
   ],
   "source": [
    "df = yf.download(\n",
    "    TICKER, \n",
    "    start=START_DATE,\n",
    "    end=END_DATE,\n",
    "    interval=TIMEFRAME,\n",
    "    progress=False\n",
    ")\n",
    "\n",
    "if isinstance(df.columns, pd.MultiIndex):\n",
    "    df.columns = [col[0] for col in df.columns]\n",
    "\n",
    "df.dropna(inplace=True)\n",
    "print(tb.tabulate(df.tail(), headers='keys', tablefmt='psql'))"
   ]
  },
  {
   "cell_type": "code",
   "execution_count": null,
   "id": "b9052ded",
   "metadata": {},
   "outputs": [],
   "source": [
    "df[\"rsi\"] = ta.rsi(df[\"Close\"], length=14)\n",
    "macd = ta.macd(df[\"Close\"])\n",
    "df = df.join(macd)\n",
    "\n",
    "bbands = ta.bbands(df[\"Close\"], length=20)\n",
    "df = df.join(bbands)\n",
    "\n",
    "df[\"ema_10\"] = ta.ema(df[\"Close\"], length=10)\n",
    "df[\"ema_20\"] = ta.ema(df[\"Close\"], length=20)\n",
    "df[\"ema_50\"] = ta.ema(df[\"Close\"], length=50)\n",
    "df[\"atr\"] = ta.atr(df[\"High\"], df[\"Low\"], df[\"Close\"], length=14)\n",
    "stoch = ta.stoch(df[\"High\"], df[\"Low\"], df[\"Close\"])\n",
    "df[\"stoch_k\"] = stoch.iloc[:, 0]\n",
    "df[\"stoch_d\"] = stoch.iloc[:, 1]\n",
    "df[\"returns\"] = df[\"Close\"].pct_change()\n",
    "df['direction'] = np.where(df['returns'] > 0, 1, 0)\n",
    "\n",
    "movement_low, movement_mid, movement_high = abs(df['returns']).quantile([0.33, 0.66, 0.96])\n",
    "print(f\"Movement thresholds: low={movement_low:.4f}, mid={movement_mid:.4f}, high={movement_high:.4f}\")\n",
    "df['movement_category'] = df['returns'].apply(\n",
    "    lambda r: 0 if abs(r) <= movement_low else (1 if abs(r) <= movement_mid else 2)\n",
    ")\n",
    "print(df['movement_category'].value_counts(normalize=True))\n",
    "\n",
    "\n",
    "df.dropna(inplace=True)\n",
    "\n",
    "print(tb.tabulate(df.head(), headers='keys', tablefmt='psql'))\n",
    "print(tb.tabulate(df.tail(), headers='keys', tablefmt='psql'))\n",
    "\n",
    "\n",
    "\n",
    "df.to_csv(f\"./../data/{TICKER}.csv\")"
   ]
  }
 ],
 "metadata": {
  "kernelspec": {
   "display_name": ".venv",
   "language": "python",
   "name": "python3"
  },
  "language_info": {
   "codemirror_mode": {
    "name": "ipython",
    "version": 3
   },
   "file_extension": ".py",
   "mimetype": "text/x-python",
   "name": "python",
   "nbconvert_exporter": "python",
   "pygments_lexer": "ipython3",
   "version": "3.13.9"
  }
 },
 "nbformat": 4,
 "nbformat_minor": 5
}
