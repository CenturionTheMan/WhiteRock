{
 "cells": [
  {
   "cell_type": "code",
   "execution_count": null,
   "id": "76a4c7b1",
   "metadata": {},
   "outputs": [],
   "source": [
    "import numpy as np\n",
    "import pandas as pd\n",
    "import yfinance as yf\n",
    "import ta as ta\n",
    "from sklearn.preprocessing import StandardScaler\n",
    "from sklearn.metrics import accuracy_score, classification_report\n",
    "import tensorflow as tf\n",
    "import matplotlib.pyplot as plt\n",
    "import tabulate as tb"
   ]
  },
  {
   "cell_type": "code",
   "execution_count": null,
   "id": "bcbeda54",
   "metadata": {},
   "outputs": [],
   "source": [
    "TICKER = \"AAPL\"\n",
    "START_DATE = \"2015-01-01\"\n",
    "END_DATE = None\n",
    "TIMEFRAME = \"1d\"    # 1d, 1h, 15m, 5m\n",
    "\n",
    "RANDOM_SEED = 42\n",
    "np.random.seed(RANDOM_SEED)\n",
    "tf.random.set_seed(RANDOM_SEED)"
   ]
  },
  {
   "cell_type": "code",
   "execution_count": null,
   "id": "cc2a4526",
   "metadata": {},
   "outputs": [],
   "source": [
    "df = yf.download(\n",
    "    TICKER, \n",
    "    start=START_DATE,\n",
    "    end=END_DATE,\n",
    "    interval=TIMEFRAME,\n",
    "    progress=False\n",
    ")\n",
    "df.dropna(inplace=True)\n",
    "\n",
    "print(tb.tabulate(df.tail(5), headers='keys', tablefmt='psql'))"
   ]
  },
  {
   "cell_type": "code",
   "execution_count": null,
   "id": "b9d0cea4",
   "metadata": {},
   "outputs": [],
   "source": [
    "df[\"rsi\"] = ta.rsi(df[\"Close\"], length=14)\n",
    "macd = ta.macd(df[\"Close\"])\n",
    "df = df.join(macd)\n",
    "\n",
    "bbands = ta.bbands(df[\"Close\"], length=20)\n",
    "df = df.join(bbands)\n",
    "\n",
    "df[\"ema_10\"] = ta.ema(df[\"Close\"], length=10)\n",
    "df[\"ema_20\"] = ta.ema(df[\"Close\"], length=20)\n",
    "df[\"ema_50\"] = ta.ema(df[\"Close\"], length=50)\n",
    "df[\"atr\"] = ta.atr(df[\"High\"], df[\"Low\"], df[\"Close\"], length=14)\n",
    "stoch = ta.stoch(df[\"High\"], df[\"Low\"], df[\"Close\"])\n",
    "df[\"stoch_k\"] = stoch.iloc[:, 0]\n",
    "df[\"stoch_d\"] = stoch.iloc[:, 1]\n",
    "df[\"returns\"] = df[\"Close\"].pct_change()\n",
    "\n",
    "df.dropna(inplace=True)\n",
    "\n",
    "feature_cols = [\n",
    "    \"rsi\",\n",
    "    \"MACD_12_26_9\",\n",
    "    \"MACDs_12_26_9\",\n",
    "    \"MACDh_12_26_9\",\n",
    "    \"BBL_20_2.0\",\n",
    "    \"BBM_20_2.0\",\n",
    "    \"BBU_20_2.0\",\n",
    "    \"BBB_20_2.0\",\n",
    "    \"BBP_20_2.0\",\n",
    "    \"ema_10\",\n",
    "    \"ema_20\",\n",
    "    \"ema_50\",\n",
    "    \"atr\",\n",
    "    \"stoch_k\",\n",
    "    \"stoch_d\",\n",
    "    \"returns\",\n",
    "]\n",
    "print(pd.DataFrame(df[feature_cols].tail(5)))"
   ]
  }
 ],
 "metadata": {
  "kernelspec": {
   "display_name": ".venv",
   "language": "python",
   "name": "python3"
  },
  "language_info": {
   "name": "python",
   "version": "3.12.10"
  }
 },
 "nbformat": 4,
 "nbformat_minor": 5
}
