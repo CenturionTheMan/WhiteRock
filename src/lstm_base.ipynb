{
 "cells": [
  {
   "cell_type": "code",
   "execution_count": null,
   "id": "e897c11c",
   "metadata": {},
   "outputs": [],
   "source": [
    "import pandas as pd\n",
    "import numpy as np\n",
    "from sklearn.preprocessing import MinMaxScaler\n",
    "from tensorflow.keras.models import Sequential\n",
    "from tensorflow.keras.layers import LSTM, Dense, Dropout\n",
    "import tabulate as tb\n",
    "import matplotlib.pyplot as plt\n",
    "import seaborn as sns\n",
    "\n",
    "\n",
    "CSV_PATH = \"./../data/GOOGL.csv\"\n",
    "LOOKBACK = 30               # number of past days used as input\n",
    "INITIAL_TRAIN_DAYS = 5000   # number of days to use initially for training (or use fraction)\n",
    "BATCH_SIZE = 32\n",
    "INITIAL_EPOCHS = 30\n",
    "UPDATE_EPOCHS = 2\n",
    "LEARNING_RATE = 1e-3\n",
    "FINE_TUNE_LR = 1e-4\n",
    "MODEL_SAVE_PATH = \"lstm_multi_step.h5\"\n",
    "SCALER_SAVE_PATH = \"scaler.save\"\n",
    "\n",
    "FEATURES = [\n",
    "   'Open', 'High', 'Low', 'Close', 'Volume',\n",
    "   'rsi', 'MACD_12_26_9', 'MACDh_12_26_9', 'MACDs_12_26_9',\n",
    "   'BBL_20_2.0_2.0','BBM_20_2.0_2.0','BBU_20_2.0_2.0','BBB_20_2.0_2.0','BBP_20_2.0_2.0',\n",
    "   'ema_10','ema_20','ema_50','atr','stoch_k','stoch_d'\n",
    "]\n",
    "TARGET = 'Close'\n"
   ]
  },
  {
   "cell_type": "code",
   "execution_count": null,
   "id": "58f626c4",
   "metadata": {},
   "outputs": [
    {
     "name": "stdout",
     "output_type": "stream",
     "text": [
      "+---------------------+---------+---------+---------+---------+-------------+---------+----------------+-----------------+-----------------+------------------+------------------+------------------+------------------+------------------+----------+----------+----------+----------+-----------+-----------+-------------+\n",
      "| Date                |   Close |    High |     Low |    Open |      Volume |     rsi |   MACD_12_26_9 |   MACDh_12_26_9 |   MACDs_12_26_9 |   BBL_20_2.0_2.0 |   BBM_20_2.0_2.0 |   BBU_20_2.0_2.0 |   BBB_20_2.0_2.0 |   BBP_20_2.0_2.0 |   ema_10 |   ema_20 |   ema_50 |      atr |   stoch_k |   stoch_d |     returns |\n",
      "|---------------------+---------+---------+---------+---------+-------------+---------+----------------+-----------------+-----------------+------------------+------------------+------------------+------------------+------------------+----------+----------+----------+----------+-----------+-----------+-------------|\n",
      "| 2004-10-28 00:00:00 | 4.8042  | 4.83129 | 4.61283 | 4.63967 | 5.93278e+08 | 82.5206 |       0.421614 |       0.104915  |        0.316699 |          2.7546  |          3.76185 |          4.76911 |          53.5512 |         1.01742  |  4.22416 |  3.86713 |  3.15757 | 0.211765 |   87.8639 |   85.4615 |  0.0394148  |\n",
      "| 2004-10-29 00:00:00 | 4.73809 | 4.96948 | 4.7371  | 4.94313 | 8.45654e+08 | 79.6036 |       0.438451 |       0.0974012 |        0.34105  |          2.76283 |          3.834   |          4.90518 |          55.8778 |         0.922006 |  4.31761 |  3.95008 |  3.21955 | 0.213238 |   90.099  |   87.5348 | -0.013761   |\n",
      "| 2004-11-01 00:00:00 | 4.87205 | 4.91281 | 4.75375 | 4.81042 | 4.88507e+08 | 81.0643 |       0.457332 |       0.0930257 |        0.364306 |          2.76865 |          3.90977 |          5.05089 |          58.3726 |         0.92164  |  4.41841 |  4.03788 |  3.28436 | 0.210486 |   92.5912 |   90.1847 |  0.0282731  |\n",
      "| 2004-11-02 00:00:00 | 4.84322 | 4.95208 | 4.8052  | 4.9404  | 4.53398e+08 | 79.7408 |       0.464613 |       0.0802455 |        0.384367 |          2.78911 |          3.97998 |          5.17085 |          59.843  |         0.862441 |  4.49565 |  4.11458 |  3.34549 | 0.205944 |   90.45   |   91.0467 | -0.00591743 |\n",
      "| 2004-11-03 00:00:00 | 4.76369 | 5.01049 | 4.74083 | 4.92549 | 5.54992e+08 | 76.052  |       0.458678 |       0.0594488 |        0.39923  |          2.83994 |          4.04782 |          5.2557  |          59.6804 |         0.796334 |  4.54439 |  4.1764  |  3.4011  | 0.210495 |   89.7745 |   90.9386 | -0.0164212  |\n",
      "+---------------------+---------+---------+---------+---------+-------------+---------+----------------+-----------------+-----------------+------------------+------------------+------------------+------------------+------------------+----------+----------+----------+----------+-----------+-----------+-------------+\n"
     ]
    }
   ],
   "source": [
    "df = pd.read_csv(CSV_PATH, parse_dates=['Date'], index_col='Date')\n",
    "df = df.sort_index()\n",
    "\n",
    "X, y = [], []\n",
    "    \n",
    "\n",
    "print(tb.tabulate(df.head(), headers='keys', tablefmt='psql'))"
   ]
  },
  {
   "cell_type": "code",
   "execution_count": null,
   "id": "b53cf1f7",
   "metadata": {},
   "outputs": [],
   "source": []
  }
 ],
 "metadata": {
  "kernelspec": {
   "display_name": ".venv (3.12.3)",
   "language": "python",
   "name": "python3"
  },
  "language_info": {
   "codemirror_mode": {
    "name": "ipython",
    "version": 3
   },
   "file_extension": ".py",
   "mimetype": "text/x-python",
   "name": "python",
   "nbconvert_exporter": "python",
   "pygments_lexer": "ipython3",
   "version": "3.12.3"
  }
 },
 "nbformat": 4,
 "nbformat_minor": 5
}
