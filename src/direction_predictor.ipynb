{
 "cells": [
  {
   "cell_type": "code",
   "execution_count": 31,
   "id": "872719e5",
   "metadata": {},
   "outputs": [],
   "source": [
    "import pandas as pd\n",
    "import numpy as np\n",
    "import matplotlib.pyplot as plt\n",
    "from sklearn.preprocessing import MinMaxScaler, StandardScaler\n",
    "from sklearn.metrics import mean_squared_error, mean_absolute_error, r2_score\n",
    "from sklearn.model_selection import train_test_split\n",
    "import tensorflow as tf\n",
    "from tensorflow import keras\n",
    "import joblib\n",
    "import tabulate as tb\n",
    "from tensorflow.keras.layers import LSTM, Dense, Dropout, Input\n",
    "from tensorflow.keras.models import Sequential\n",
    "from tensorflow.keras.losses import Huber\n",
    "from tensorflow.keras import Sequential, layers, optimizers, losses\n",
    "from sklearn.metrics import accuracy_score, precision_score, recall_score, f1_score, confusion_matrix\n",
    "\n"
   ]
  },
  {
   "cell_type": "code",
   "execution_count": 32,
   "id": "e8788a3a",
   "metadata": {},
   "outputs": [],
   "source": [
    "CSV_PATH = './../data/GOOGL.csv'\n",
    "DATE_COL = 'Date'\n",
    "\n",
    "SEQ_LENGTH = 90\n",
    "BATCH_SIZE = 32\n",
    "LEARNING_RATE = 0.001\n",
    "EPOCHS = 100\n",
    "VAL_SPLIT = 0.1\n",
    "\n",
    "FEATURES = [\n",
    "    'Open', 'High', 'Low', 'Close', 'Volume',\n",
    "    'rsi', 'MACD_12_26_9', 'MACDh_12_26_9', 'MACDs_12_26_9',\n",
    "    'BBL_20_2.0_2.0','BBM_20_2.0_2.0','BBU_20_2.0_2.0','BBB_20_2.0_2.0','BBP_20_2.0_2.0',\n",
    "    'ema_10','ema_20','ema_50','atr','stoch_k','stoch_d'\n",
    "]\n",
    "\n",
    "TARGET = 'direction'\n",
    "\n",
    "TRAINING_RANGE = [('2010-01-01', '2019-12-31'), ('2023-01-01', '2025-08-30')]\n",
    "TESTING_RANGE = [('2025-09-01', '2025-10-23')]"
   ]
  },
  {
   "cell_type": "code",
   "execution_count": 33,
   "id": "533b6fa3",
   "metadata": {},
   "outputs": [],
   "source": [
    "SEED = 42\n",
    "np.random.seed(SEED)\n",
    "tf.random.set_seed(SEED)"
   ]
  },
  {
   "cell_type": "code",
   "execution_count": 34,
   "id": "0d57f806",
   "metadata": {},
   "outputs": [
    {
     "name": "stdout",
     "output_type": "stream",
     "text": [
      "+----+---------+---------+---------+---------+-------------+---------+----------------+-----------------+-----------------+------------------+------------------+------------------+------------------+------------------+----------+----------+----------+----------+-----------+-----------+\n",
      "|    |    Open |    High |     Low |   Close |      Volume |     rsi |   MACD_12_26_9 |   MACDh_12_26_9 |   MACDs_12_26_9 |   BBL_20_2.0_2.0 |   BBM_20_2.0_2.0 |   BBU_20_2.0_2.0 |   BBB_20_2.0_2.0 |   BBP_20_2.0_2.0 |   ema_10 |   ema_20 |   ema_50 |      atr |   stoch_k |   stoch_d |\n",
      "|----+---------+---------+---------+---------+-------------+---------+----------------+-----------------+-----------------+------------------+------------------+------------------+------------------+------------------+----------+----------+----------+----------+-----------+-----------|\n",
      "|  0 | 4.63967 | 4.83129 | 4.61283 | 4.8042  | 5.93278e+08 | 82.5206 |       0.421614 |       0.104915  |        0.316699 |          2.7546  |          3.76185 |          4.76911 |          53.5512 |         1.01742  |  4.22416 |  3.86713 |  3.15757 | 0.211765 |   87.8639 |   85.4615 |\n",
      "|  1 | 4.94313 | 4.96948 | 4.7371  | 4.73809 | 8.45654e+08 | 79.6037 |       0.438451 |       0.0974012 |        0.34105  |          2.76282 |          3.834   |          4.90518 |          55.8778 |         0.922006 |  4.31761 |  3.95008 |  3.21955 | 0.213238 |   90.099  |   87.5348 |\n",
      "|  2 | 4.81042 | 4.91281 | 4.75375 | 4.87205 | 4.88507e+08 | 81.0643 |       0.457332 |       0.0930258 |        0.364306 |          2.76865 |          3.90977 |          5.05089 |          58.3726 |         0.92164  |  4.41841 |  4.03788 |  3.28436 | 0.210487 |   92.5912 |   90.1847 |\n",
      "|  3 | 4.9404  | 4.95208 | 4.8052  | 4.84322 | 4.53398e+08 | 79.7408 |       0.464613 |       0.0802456 |        0.384367 |          2.78911 |          3.97998 |          5.17085 |          59.843  |         0.862441 |  4.49565 |  4.11458 |  3.34549 | 0.205944 |   90.45   |   91.0467 |\n",
      "|  4 | 4.92549 | 5.01049 | 4.74083 | 4.76369 | 5.54992e+08 | 76.052  |       0.458679 |       0.0594488 |        0.39923  |          2.83994 |          4.04782 |          5.2557  |          59.6804 |         0.796334 |  4.54439 |  4.1764  |  3.4011  | 0.210495 |   89.7745 |   90.9386 |\n",
      "+----+---------+---------+---------+---------+-------------+---------+----------------+-----------------+-----------------+------------------+------------------+------------------+------------------+------------------+----------+----------+----------+----------+-----------+-----------+\n",
      "+-------------+\n",
      "|   direction |\n",
      "|-------------|\n",
      "|           1 |\n",
      "|           0 |\n",
      "|           1 |\n",
      "|           0 |\n",
      "|           0 |\n",
      "+-------------+\n"
     ]
    }
   ],
   "source": [
    "df = pd.read_csv(CSV_PATH, parse_dates=[DATE_COL])\n",
    "df = df.sort_values(DATE_COL).reset_index(drop=True)\n",
    "df = df[[DATE_COL] + FEATURES + [TARGET]]\n",
    "df.dropna(inplace=True)\n",
    "\n",
    "feature_data = df[FEATURES]\n",
    "target_data = df[[TARGET]].values\n",
    "\n",
    "print(tb.tabulate(feature_data[:5], headers=FEATURES, tablefmt='psql'))\n",
    "print(tb.tabulate(target_data[:5], headers=[TARGET], tablefmt='psql'))"
   ]
  },
  {
   "cell_type": "code",
   "execution_count": 35,
   "id": "ee50b76e",
   "metadata": {},
   "outputs": [
    {
     "name": "stdout",
     "output_type": "stream",
     "text": [
      "Feature data shape: (5190, 90, 20)\n",
      "Target data shape: (5190, 1)\n"
     ]
    }
   ],
   "source": [
    "X, y = [], []\n",
    "dates = []\n",
    "for i in range(SEQ_LENGTH, len(feature_data)):\n",
    "    tmp = feature_data[i - SEQ_LENGTH:i]\n",
    "    X.append(tmp)\n",
    "    dates.append(df[DATE_COL].values[i])\n",
    "    y.append(target_data[i])\n",
    "\n",
    "X, y = np.array(X), np.array(y)\n",
    "\n",
    "print(f\"Feature data shape: {X.shape}\")\n",
    "print(f\"Target data shape: {y.shape}\")"
   ]
  },
  {
   "cell_type": "code",
   "execution_count": 36,
   "id": "0b96f6ba",
   "metadata": {},
   "outputs": [
    {
     "name": "stdout",
     "output_type": "stream",
     "text": [
      "X_train shape: (2866, 90, 20), y_train shape: (2866, 1)\n",
      "X_val shape: (319, 90, 20), y_val shape: (319, 1)\n",
      "X_test shape: (37, 90, 20), y_test shape: (37, 1)\n",
      "+-----------+-----------+-----------+-----------+----------+----------+----------------+-----------------+-----------------+------------------+------------------+------------------+------------------+------------------+-----------+-----------+-----------+-----------+-----------+-----------+\n",
      "|      Open |      High |       Low |     Close |   Volume |      rsi |   MACD_12_26_9 |   MACDh_12_26_9 |   MACDs_12_26_9 |   BBL_20_2.0_2.0 |   BBM_20_2.0_2.0 |   BBU_20_2.0_2.0 |   BBB_20_2.0_2.0 |   BBP_20_2.0_2.0 |    ema_10 |    ema_20 |    ema_50 |       atr |   stoch_k |   stoch_d |\n",
      "|-----------+-----------+-----------+-----------+----------+----------+----------------+-----------------+-----------------+------------------+------------------+------------------+------------------+------------------+-----------+-----------+-----------+-----------+-----------+-----------|\n",
      "| -0.927383 | -0.926407 | -0.926543 | -0.925287 | 0.646693 | 0.933926 |     -0.0428945 |     -0.00230291 |      -0.0458825 |        -0.942217 |        -0.939725 |        -0.935978 |        -0.459186 |         1.24129  | -0.935457 | -0.940458 | -0.95275  | -0.771849 |  1.22405  |  0.320832 |\n",
      "| -0.926036 | -0.923223 | -0.923258 | -0.923293 | 0.560227 | 1.04021  |     -0.0224284 |      0.0410164  |      -0.0402406 |        -0.941641 |        -0.938519 |        -0.934217 |        -0.393451 |         1.26325  | -0.933478 | -0.939019 | -0.951701 | -0.778527 |  1.31961  |  0.994163 |\n",
      "| -0.923289 | -0.924232 | -0.924801 | -0.925839 | 0.288519 | 0.772502 |     -0.0173457 |      0.0408083  |      -0.0346187 |        -0.939525 |        -0.937304 |        -0.933801 |        -0.48064  |         0.905412 | -0.932325 | -0.937962 | -0.950795 | -0.783354 |  1.14776  |  1.27059  |\n",
      "| -0.926452 | -0.927536 | -0.929363 | -0.927304 | 0.297058 | 0.619365 |     -0.0209205 |      0.0210211  |      -0.0309007 |        -0.938635 |        -0.936523 |        -0.933117 |        -0.489539 |         0.644543 | -0.931649 | -0.937147 | -0.949984 | -0.784656 |  0.926726 |  1.16828  |\n",
      "| -0.925938 | -0.924703 | -0.927338 | -0.928294 | 0.122202 | 0.513571 |     -0.0297165 |     -0.00664133 |      -0.0298444 |        -0.937028 |        -0.935693 |        -0.932975 |        -0.564551 |         0.463763 | -0.931278 | -0.936505 | -0.949245 | -0.783527 |  0.709823 |  0.958427 |\n",
      "+-----------+-----------+-----------+-----------+----------+----------+----------------+-----------------+-----------------+------------------+------------------+------------------+------------------+------------------+-----------+-----------+-----------+-----------+-----------+-----------+\n",
      "0\n",
      "1    0.526867\n",
      "0    0.473133\n",
      "Name: proportion, dtype: float64\n"
     ]
    }
   ],
   "source": [
    "def find_closest_date_index(dates_array, target_date):\n",
    "    target_date = np.datetime64(target_date)\n",
    "    index = np.argmin(np.abs(dates_array - target_date))\n",
    "    return index\n",
    "\n",
    "def get_samples_in_range(start_date, end_date):\n",
    "    beg, end = find_closest_date_index(dates, start_date), find_closest_date_index(dates, end_date)\n",
    "    _x, _y = X[beg:end+1], y[beg:end+1]\n",
    "    return _x, _y, beg, end\n",
    "\n",
    "X_train_val, y_train_val = [], []\n",
    "for beg, end in TRAINING_RANGE:\n",
    "    _x, _y, _, _ = get_samples_in_range(beg, end)\n",
    "    X_train_val.extend(_x)\n",
    "    y_train_val.extend(_y)\n",
    "\n",
    "split_index = int(len(X_train_val) * (1 - VAL_SPLIT))\n",
    "X_train, y_train = X_train_val[:split_index], y_train_val[:split_index]\n",
    "X_val, y_val = X_train_val[split_index:], y_train_val[split_index:]\n",
    "X_test, y_test = [], []\n",
    "test_dates = []\n",
    "for beg, end in TESTING_RANGE:\n",
    "    _x, _y, d_beg, d_end = get_samples_in_range(beg, end)\n",
    "    X_test.extend(_x)\n",
    "    y_test.extend(_y)\n",
    "    test_dates.extend(dates[d_beg:d_end+1])\n",
    "    \n",
    "X_train, y_train = np.array(X_train), np.array(y_train)\n",
    "X_val, y_val = np.array(X_val), np.array(y_val)\n",
    "X_test, y_test = np.array(X_test), np.array(y_test)\n",
    "\n",
    "print(f\"X_train shape: {X_train.shape}, y_train shape: {y_train.shape}\")\n",
    "print(f\"X_val shape: {X_val.shape}, y_val shape: {y_val.shape}\")\n",
    "print(f\"X_test shape: {X_test.shape}, y_test shape: {y_test.shape}\")\n",
    "\n",
    "feature_scaler = StandardScaler()#MinMaxScaler()\n",
    "feature_scaler.fit(X_train.reshape(-1, X_train.shape[-1]))\n",
    "X_train = feature_scaler.transform(X_train.reshape(-1, X_train.shape[-1])).reshape(X_train.shape)\n",
    "X_val = feature_scaler.transform(X_val.reshape(-1, X_val.shape[-1])).reshape(X_val.shape)\n",
    "X_test = feature_scaler.transform(X_test.reshape(-1, X_test.shape[-1])).reshape(X_test.shape)\n",
    "\n",
    "print(tb.tabulate(X_train[0][:5], headers=FEATURES, tablefmt='psql'))\n",
    "\n",
    "print(pd.DataFrame(y_train).value_counts(normalize=True))"
   ]
  },
  {
   "cell_type": "code",
   "execution_count": 37,
   "id": "ef10e5c3",
   "metadata": {},
   "outputs": [
    {
     "data": {
      "text/html": [
       "<pre style=\"white-space:pre;overflow-x:auto;line-height:normal;font-family:Menlo,'DejaVu Sans Mono',consolas,'Courier New',monospace\"><span style=\"font-weight: bold\">Model: \"functional_3\"</span>\n",
       "</pre>\n"
      ],
      "text/plain": [
       "\u001b[1mModel: \"functional_3\"\u001b[0m\n"
      ]
     },
     "metadata": {},
     "output_type": "display_data"
    },
    {
     "data": {
      "text/html": [
       "<pre style=\"white-space:pre;overflow-x:auto;line-height:normal;font-family:Menlo,'DejaVu Sans Mono',consolas,'Courier New',monospace\">┏━━━━━━━━━━━━━━━━━━━━━━━━━━━━━━━━━┳━━━━━━━━━━━━━━━━━━━━━━━━┳━━━━━━━━━━━━━━━┓\n",
       "┃<span style=\"font-weight: bold\"> Layer (type)                    </span>┃<span style=\"font-weight: bold\"> Output Shape           </span>┃<span style=\"font-weight: bold\">       Param # </span>┃\n",
       "┡━━━━━━━━━━━━━━━━━━━━━━━━━━━━━━━━━╇━━━━━━━━━━━━━━━━━━━━━━━━╇━━━━━━━━━━━━━━━┩\n",
       "│ input_layer_3 (<span style=\"color: #0087ff; text-decoration-color: #0087ff\">InputLayer</span>)      │ (<span style=\"color: #00d7ff; text-decoration-color: #00d7ff\">None</span>, <span style=\"color: #00af00; text-decoration-color: #00af00\">90</span>, <span style=\"color: #00af00; text-decoration-color: #00af00\">20</span>)         │             <span style=\"color: #00af00; text-decoration-color: #00af00\">0</span> │\n",
       "├─────────────────────────────────┼────────────────────────┼───────────────┤\n",
       "│ lstm_6 (<span style=\"color: #0087ff; text-decoration-color: #0087ff\">LSTM</span>)                   │ (<span style=\"color: #00d7ff; text-decoration-color: #00d7ff\">None</span>, <span style=\"color: #00af00; text-decoration-color: #00af00\">90</span>, <span style=\"color: #00af00; text-decoration-color: #00af00\">128</span>)        │        <span style=\"color: #00af00; text-decoration-color: #00af00\">76,288</span> │\n",
       "├─────────────────────────────────┼────────────────────────┼───────────────┤\n",
       "│ layer_normalization_6           │ (<span style=\"color: #00d7ff; text-decoration-color: #00d7ff\">None</span>, <span style=\"color: #00af00; text-decoration-color: #00af00\">90</span>, <span style=\"color: #00af00; text-decoration-color: #00af00\">128</span>)        │           <span style=\"color: #00af00; text-decoration-color: #00af00\">256</span> │\n",
       "│ (<span style=\"color: #0087ff; text-decoration-color: #0087ff\">LayerNormalization</span>)            │                        │               │\n",
       "├─────────────────────────────────┼────────────────────────┼───────────────┤\n",
       "│ lstm_7 (<span style=\"color: #0087ff; text-decoration-color: #0087ff\">LSTM</span>)                   │ (<span style=\"color: #00d7ff; text-decoration-color: #00d7ff\">None</span>, <span style=\"color: #00af00; text-decoration-color: #00af00\">128</span>)            │       <span style=\"color: #00af00; text-decoration-color: #00af00\">131,584</span> │\n",
       "├─────────────────────────────────┼────────────────────────┼───────────────┤\n",
       "│ layer_normalization_7           │ (<span style=\"color: #00d7ff; text-decoration-color: #00d7ff\">None</span>, <span style=\"color: #00af00; text-decoration-color: #00af00\">128</span>)            │           <span style=\"color: #00af00; text-decoration-color: #00af00\">256</span> │\n",
       "│ (<span style=\"color: #0087ff; text-decoration-color: #0087ff\">LayerNormalization</span>)            │                        │               │\n",
       "├─────────────────────────────────┼────────────────────────┼───────────────┤\n",
       "│ dense_9 (<span style=\"color: #0087ff; text-decoration-color: #0087ff\">Dense</span>)                 │ (<span style=\"color: #00d7ff; text-decoration-color: #00d7ff\">None</span>, <span style=\"color: #00af00; text-decoration-color: #00af00\">256</span>)            │        <span style=\"color: #00af00; text-decoration-color: #00af00\">33,024</span> │\n",
       "├─────────────────────────────────┼────────────────────────┼───────────────┤\n",
       "│ batch_normalization_6           │ (<span style=\"color: #00d7ff; text-decoration-color: #00d7ff\">None</span>, <span style=\"color: #00af00; text-decoration-color: #00af00\">256</span>)            │         <span style=\"color: #00af00; text-decoration-color: #00af00\">1,024</span> │\n",
       "│ (<span style=\"color: #0087ff; text-decoration-color: #0087ff\">BatchNormalization</span>)            │                        │               │\n",
       "├─────────────────────────────────┼────────────────────────┼───────────────┤\n",
       "│ dropout_3 (<span style=\"color: #0087ff; text-decoration-color: #0087ff\">Dropout</span>)             │ (<span style=\"color: #00d7ff; text-decoration-color: #00d7ff\">None</span>, <span style=\"color: #00af00; text-decoration-color: #00af00\">256</span>)            │             <span style=\"color: #00af00; text-decoration-color: #00af00\">0</span> │\n",
       "├─────────────────────────────────┼────────────────────────┼───────────────┤\n",
       "│ dense_10 (<span style=\"color: #0087ff; text-decoration-color: #0087ff\">Dense</span>)                │ (<span style=\"color: #00d7ff; text-decoration-color: #00d7ff\">None</span>, <span style=\"color: #00af00; text-decoration-color: #00af00\">64</span>)             │        <span style=\"color: #00af00; text-decoration-color: #00af00\">16,448</span> │\n",
       "├─────────────────────────────────┼────────────────────────┼───────────────┤\n",
       "│ batch_normalization_7           │ (<span style=\"color: #00d7ff; text-decoration-color: #00d7ff\">None</span>, <span style=\"color: #00af00; text-decoration-color: #00af00\">64</span>)             │           <span style=\"color: #00af00; text-decoration-color: #00af00\">256</span> │\n",
       "│ (<span style=\"color: #0087ff; text-decoration-color: #0087ff\">BatchNormalization</span>)            │                        │               │\n",
       "├─────────────────────────────────┼────────────────────────┼───────────────┤\n",
       "│ dense_11 (<span style=\"color: #0087ff; text-decoration-color: #0087ff\">Dense</span>)                │ (<span style=\"color: #00d7ff; text-decoration-color: #00d7ff\">None</span>, <span style=\"color: #00af00; text-decoration-color: #00af00\">1</span>)              │            <span style=\"color: #00af00; text-decoration-color: #00af00\">65</span> │\n",
       "└─────────────────────────────────┴────────────────────────┴───────────────┘\n",
       "</pre>\n"
      ],
      "text/plain": [
       "┏━━━━━━━━━━━━━━━━━━━━━━━━━━━━━━━━━┳━━━━━━━━━━━━━━━━━━━━━━━━┳━━━━━━━━━━━━━━━┓\n",
       "┃\u001b[1m \u001b[0m\u001b[1mLayer (type)                   \u001b[0m\u001b[1m \u001b[0m┃\u001b[1m \u001b[0m\u001b[1mOutput Shape          \u001b[0m\u001b[1m \u001b[0m┃\u001b[1m \u001b[0m\u001b[1m      Param #\u001b[0m\u001b[1m \u001b[0m┃\n",
       "┡━━━━━━━━━━━━━━━━━━━━━━━━━━━━━━━━━╇━━━━━━━━━━━━━━━━━━━━━━━━╇━━━━━━━━━━━━━━━┩\n",
       "│ input_layer_3 (\u001b[38;5;33mInputLayer\u001b[0m)      │ (\u001b[38;5;45mNone\u001b[0m, \u001b[38;5;34m90\u001b[0m, \u001b[38;5;34m20\u001b[0m)         │             \u001b[38;5;34m0\u001b[0m │\n",
       "├─────────────────────────────────┼────────────────────────┼───────────────┤\n",
       "│ lstm_6 (\u001b[38;5;33mLSTM\u001b[0m)                   │ (\u001b[38;5;45mNone\u001b[0m, \u001b[38;5;34m90\u001b[0m, \u001b[38;5;34m128\u001b[0m)        │        \u001b[38;5;34m76,288\u001b[0m │\n",
       "├─────────────────────────────────┼────────────────────────┼───────────────┤\n",
       "│ layer_normalization_6           │ (\u001b[38;5;45mNone\u001b[0m, \u001b[38;5;34m90\u001b[0m, \u001b[38;5;34m128\u001b[0m)        │           \u001b[38;5;34m256\u001b[0m │\n",
       "│ (\u001b[38;5;33mLayerNormalization\u001b[0m)            │                        │               │\n",
       "├─────────────────────────────────┼────────────────────────┼───────────────┤\n",
       "│ lstm_7 (\u001b[38;5;33mLSTM\u001b[0m)                   │ (\u001b[38;5;45mNone\u001b[0m, \u001b[38;5;34m128\u001b[0m)            │       \u001b[38;5;34m131,584\u001b[0m │\n",
       "├─────────────────────────────────┼────────────────────────┼───────────────┤\n",
       "│ layer_normalization_7           │ (\u001b[38;5;45mNone\u001b[0m, \u001b[38;5;34m128\u001b[0m)            │           \u001b[38;5;34m256\u001b[0m │\n",
       "│ (\u001b[38;5;33mLayerNormalization\u001b[0m)            │                        │               │\n",
       "├─────────────────────────────────┼────────────────────────┼───────────────┤\n",
       "│ dense_9 (\u001b[38;5;33mDense\u001b[0m)                 │ (\u001b[38;5;45mNone\u001b[0m, \u001b[38;5;34m256\u001b[0m)            │        \u001b[38;5;34m33,024\u001b[0m │\n",
       "├─────────────────────────────────┼────────────────────────┼───────────────┤\n",
       "│ batch_normalization_6           │ (\u001b[38;5;45mNone\u001b[0m, \u001b[38;5;34m256\u001b[0m)            │         \u001b[38;5;34m1,024\u001b[0m │\n",
       "│ (\u001b[38;5;33mBatchNormalization\u001b[0m)            │                        │               │\n",
       "├─────────────────────────────────┼────────────────────────┼───────────────┤\n",
       "│ dropout_3 (\u001b[38;5;33mDropout\u001b[0m)             │ (\u001b[38;5;45mNone\u001b[0m, \u001b[38;5;34m256\u001b[0m)            │             \u001b[38;5;34m0\u001b[0m │\n",
       "├─────────────────────────────────┼────────────────────────┼───────────────┤\n",
       "│ dense_10 (\u001b[38;5;33mDense\u001b[0m)                │ (\u001b[38;5;45mNone\u001b[0m, \u001b[38;5;34m64\u001b[0m)             │        \u001b[38;5;34m16,448\u001b[0m │\n",
       "├─────────────────────────────────┼────────────────────────┼───────────────┤\n",
       "│ batch_normalization_7           │ (\u001b[38;5;45mNone\u001b[0m, \u001b[38;5;34m64\u001b[0m)             │           \u001b[38;5;34m256\u001b[0m │\n",
       "│ (\u001b[38;5;33mBatchNormalization\u001b[0m)            │                        │               │\n",
       "├─────────────────────────────────┼────────────────────────┼───────────────┤\n",
       "│ dense_11 (\u001b[38;5;33mDense\u001b[0m)                │ (\u001b[38;5;45mNone\u001b[0m, \u001b[38;5;34m1\u001b[0m)              │            \u001b[38;5;34m65\u001b[0m │\n",
       "└─────────────────────────────────┴────────────────────────┴───────────────┘\n"
      ]
     },
     "metadata": {},
     "output_type": "display_data"
    },
    {
     "data": {
      "text/html": [
       "<pre style=\"white-space:pre;overflow-x:auto;line-height:normal;font-family:Menlo,'DejaVu Sans Mono',consolas,'Courier New',monospace\"><span style=\"font-weight: bold\"> Total params: </span><span style=\"color: #00af00; text-decoration-color: #00af00\">259,201</span> (1012.50 KB)\n",
       "</pre>\n"
      ],
      "text/plain": [
       "\u001b[1m Total params: \u001b[0m\u001b[38;5;34m259,201\u001b[0m (1012.50 KB)\n"
      ]
     },
     "metadata": {},
     "output_type": "display_data"
    },
    {
     "data": {
      "text/html": [
       "<pre style=\"white-space:pre;overflow-x:auto;line-height:normal;font-family:Menlo,'DejaVu Sans Mono',consolas,'Courier New',monospace\"><span style=\"font-weight: bold\"> Trainable params: </span><span style=\"color: #00af00; text-decoration-color: #00af00\">258,561</span> (1010.00 KB)\n",
       "</pre>\n"
      ],
      "text/plain": [
       "\u001b[1m Trainable params: \u001b[0m\u001b[38;5;34m258,561\u001b[0m (1010.00 KB)\n"
      ]
     },
     "metadata": {},
     "output_type": "display_data"
    },
    {
     "data": {
      "text/html": [
       "<pre style=\"white-space:pre;overflow-x:auto;line-height:normal;font-family:Menlo,'DejaVu Sans Mono',consolas,'Courier New',monospace\"><span style=\"font-weight: bold\"> Non-trainable params: </span><span style=\"color: #00af00; text-decoration-color: #00af00\">640</span> (2.50 KB)\n",
       "</pre>\n"
      ],
      "text/plain": [
       "\u001b[1m Non-trainable params: \u001b[0m\u001b[38;5;34m640\u001b[0m (2.50 KB)\n"
      ]
     },
     "metadata": {},
     "output_type": "display_data"
    }
   ],
   "source": [
    "def create_financial_model(seq_length, feature_count, learning_rate):\n",
    "    inputs = layers.Input(shape=(seq_length, feature_count))\n",
    "    x = layers.LSTM(128, return_sequences=True, recurrent_dropout=0.2)(inputs)\n",
    "    x = layers.LayerNormalization()(x)\n",
    "    \n",
    "    x = layers.LSTM(128, return_sequences=False, recurrent_dropout=0.1)(x)\n",
    "    x = layers.LayerNormalization()(x)\n",
    "    \n",
    "    x = layers.Dense(256, activation='relu')(x)\n",
    "    x = layers.BatchNormalization()(x)\n",
    "    x = layers.Dropout(0.3)(x)\n",
    "    \n",
    "    x = layers.Dense(64, activation='relu')(x)\n",
    "    x = layers.BatchNormalization()(x)\n",
    "    \n",
    "    outputs = layers.Dense(1, activation='sigmoid')(x)\n",
    "\n",
    "    model = tf.keras.Model(inputs, outputs)\n",
    "    model.compile(\n",
    "        optimizer=optimizers.Adam(learning_rate=learning_rate),\n",
    "        loss='binary_crossentropy',\n",
    "        metrics=['accuracy']\n",
    "    )\n",
    "    model.summary()\n",
    "    return model\n",
    "\n",
    "\n",
    "model = create_financial_model(SEQ_LENGTH, len(FEATURES), LEARNING_RATE)"
   ]
  },
  {
   "cell_type": "code",
   "execution_count": 38,
   "id": "efe752fb",
   "metadata": {},
   "outputs": [
    {
     "name": "stdout",
     "output_type": "stream",
     "text": [
      "Epoch 1/100\n",
      "\u001b[1m90/90\u001b[0m \u001b[32m━━━━━━━━━━━━━━━━━━━━\u001b[0m\u001b[37m\u001b[0m \u001b[1m16s\u001b[0m 122ms/step - accuracy: 0.5080 - loss: 0.7840 - val_accuracy: 0.4765 - val_loss: 0.7207 - learning_rate: 0.0010\n",
      "Epoch 2/100\n",
      "\u001b[1m90/90\u001b[0m \u001b[32m━━━━━━━━━━━━━━━━━━━━\u001b[0m\u001b[37m\u001b[0m \u001b[1m9s\u001b[0m 105ms/step - accuracy: 0.4993 - loss: 0.7329 - val_accuracy: 0.5329 - val_loss: 0.6950 - learning_rate: 0.0010\n",
      "Epoch 3/100\n",
      "\u001b[1m90/90\u001b[0m \u001b[32m━━━━━━━━━━━━━━━━━━━━\u001b[0m\u001b[37m\u001b[0m \u001b[1m10s\u001b[0m 112ms/step - accuracy: 0.4990 - loss: 0.7141 - val_accuracy: 0.4765 - val_loss: 0.6976 - learning_rate: 0.0010\n",
      "Epoch 4/100\n",
      "\u001b[1m90/90\u001b[0m \u001b[32m━━━━━━━━━━━━━━━━━━━━\u001b[0m\u001b[37m\u001b[0m \u001b[1m11s\u001b[0m 121ms/step - accuracy: 0.5098 - loss: 0.7061 - val_accuracy: 0.5486 - val_loss: 0.6948 - learning_rate: 0.0010\n",
      "Epoch 5/100\n",
      "\u001b[1m90/90\u001b[0m \u001b[32m━━━━━━━━━━━━━━━━━━━━\u001b[0m\u001b[37m\u001b[0m \u001b[1m11s\u001b[0m 120ms/step - accuracy: 0.5070 - loss: 0.7007 - val_accuracy: 0.5361 - val_loss: 0.6933 - learning_rate: 0.0010\n",
      "Epoch 6/100\n",
      "\u001b[1m90/90\u001b[0m \u001b[32m━━━━━━━━━━━━━━━━━━━━\u001b[0m\u001b[37m\u001b[0m \u001b[1m10s\u001b[0m 113ms/step - accuracy: 0.5223 - loss: 0.6973 - val_accuracy: 0.5486 - val_loss: 0.7145 - learning_rate: 0.0010\n",
      "Epoch 7/100\n",
      "\u001b[1m90/90\u001b[0m \u001b[32m━━━━━━━━━━━━━━━━━━━━\u001b[0m\u001b[37m\u001b[0m \u001b[1m10s\u001b[0m 106ms/step - accuracy: 0.5195 - loss: 0.7001 - val_accuracy: 0.5486 - val_loss: 0.6898 - learning_rate: 0.0010\n",
      "Epoch 8/100\n",
      "\u001b[1m90/90\u001b[0m \u001b[32m━━━━━━━━━━━━━━━━━━━━\u001b[0m\u001b[37m\u001b[0m \u001b[1m9s\u001b[0m 104ms/step - accuracy: 0.5133 - loss: 0.6978 - val_accuracy: 0.5486 - val_loss: 0.6916 - learning_rate: 0.0010\n",
      "Epoch 9/100\n",
      "\u001b[1m90/90\u001b[0m \u001b[32m━━━━━━━━━━━━━━━━━━━━\u001b[0m\u001b[37m\u001b[0m \u001b[1m10s\u001b[0m 115ms/step - accuracy: 0.5185 - loss: 0.6948 - val_accuracy: 0.5486 - val_loss: 0.6919 - learning_rate: 0.0010\n",
      "Epoch 10/100\n",
      "\u001b[1m90/90\u001b[0m \u001b[32m━━━━━━━━━━━━━━━━━━━━\u001b[0m\u001b[37m\u001b[0m \u001b[1m10s\u001b[0m 116ms/step - accuracy: 0.5140 - loss: 0.6955 - val_accuracy: 0.5486 - val_loss: 0.6940 - learning_rate: 0.0010\n",
      "Epoch 11/100\n",
      "\u001b[1m90/90\u001b[0m \u001b[32m━━━━━━━━━━━━━━━━━━━━\u001b[0m\u001b[37m\u001b[0m \u001b[1m11s\u001b[0m 117ms/step - accuracy: 0.5126 - loss: 0.6941 - val_accuracy: 0.5486 - val_loss: 0.6925 - learning_rate: 0.0010\n",
      "Epoch 12/100\n",
      "\u001b[1m90/90\u001b[0m \u001b[32m━━━━━━━━━━━━━━━━━━━━\u001b[0m\u001b[37m\u001b[0m \u001b[1m10s\u001b[0m 116ms/step - accuracy: 0.5213 - loss: 0.6937 - val_accuracy: 0.5486 - val_loss: 0.6977 - learning_rate: 0.0010\n",
      "Epoch 13/100\n",
      "\u001b[1m90/90\u001b[0m \u001b[32m━━━━━━━━━━━━━━━━━━━━\u001b[0m\u001b[37m\u001b[0m \u001b[1m10s\u001b[0m 110ms/step - accuracy: 0.5328 - loss: 0.6916 - val_accuracy: 0.5486 - val_loss: 0.7027 - learning_rate: 0.0010\n",
      "Epoch 14/100\n",
      "\u001b[1m90/90\u001b[0m \u001b[32m━━━━━━━━━━━━━━━━━━━━\u001b[0m\u001b[37m\u001b[0m \u001b[1m11s\u001b[0m 117ms/step - accuracy: 0.5342 - loss: 0.6928 - val_accuracy: 0.5486 - val_loss: 0.6950 - learning_rate: 0.0010\n",
      "Epoch 15/100\n",
      "\u001b[1m90/90\u001b[0m \u001b[32m━━━━━━━━━━━━━━━━━━━━\u001b[0m\u001b[37m\u001b[0m \u001b[1m13s\u001b[0m 139ms/step - accuracy: 0.5276 - loss: 0.6937 - val_accuracy: 0.5486 - val_loss: 0.6984 - learning_rate: 0.0010\n",
      "Epoch 16/100\n",
      "\u001b[1m90/90\u001b[0m \u001b[32m━━━━━━━━━━━━━━━━━━━━\u001b[0m\u001b[37m\u001b[0m \u001b[1m11s\u001b[0m 124ms/step - accuracy: 0.5216 - loss: 0.6930 - val_accuracy: 0.5486 - val_loss: 0.6989 - learning_rate: 0.0010\n",
      "Epoch 17/100\n",
      "\u001b[1m90/90\u001b[0m \u001b[32m━━━━━━━━━━━━━━━━━━━━\u001b[0m\u001b[37m\u001b[0m \u001b[1m11s\u001b[0m 124ms/step - accuracy: 0.5405 - loss: 0.6920 - val_accuracy: 0.5643 - val_loss: 0.6971 - learning_rate: 0.0010\n",
      "Epoch 18/100\n",
      "\u001b[1m90/90\u001b[0m \u001b[32m━━━━━━━━━━━━━━━━━━━━\u001b[0m\u001b[37m\u001b[0m \u001b[1m11s\u001b[0m 128ms/step - accuracy: 0.5314 - loss: 0.6894 - val_accuracy: 0.5486 - val_loss: 0.6967 - learning_rate: 0.0010\n",
      "Epoch 19/100\n",
      "\u001b[1m90/90\u001b[0m \u001b[32m━━━━━━━━━━━━━━━━━━━━\u001b[0m\u001b[37m\u001b[0m \u001b[1m11s\u001b[0m 123ms/step - accuracy: 0.5265 - loss: 0.6943 - val_accuracy: 0.5611 - val_loss: 0.6946 - learning_rate: 0.0010\n",
      "Epoch 20/100\n",
      "\u001b[1m90/90\u001b[0m \u001b[32m━━━━━━━━━━━━━━━━━━━━\u001b[0m\u001b[37m\u001b[0m \u001b[1m12s\u001b[0m 130ms/step - accuracy: 0.5342 - loss: 0.6900 - val_accuracy: 0.4922 - val_loss: 0.6968 - learning_rate: 0.0010\n",
      "Epoch 21/100\n",
      "\u001b[1m90/90\u001b[0m \u001b[32m━━━━━━━━━━━━━━━━━━━━\u001b[0m\u001b[37m\u001b[0m \u001b[1m10s\u001b[0m 110ms/step - accuracy: 0.5213 - loss: 0.6931 - val_accuracy: 0.5486 - val_loss: 0.6977 - learning_rate: 0.0010\n",
      "Epoch 22/100\n",
      "\u001b[1m90/90\u001b[0m \u001b[32m━━━━━━━━━━━━━━━━━━━━\u001b[0m\u001b[37m\u001b[0m \u001b[1m10s\u001b[0m 110ms/step - accuracy: 0.5370 - loss: 0.6909 - val_accuracy: 0.5486 - val_loss: 0.6923 - learning_rate: 0.0010\n",
      "Epoch 22: early stopping\n",
      "Restoring model weights from the end of the best epoch: 7.\n"
     ]
    }
   ],
   "source": [
    "callbacks = [\n",
    "    tf.keras.callbacks.ReduceLROnPlateau(monitor='loss', factor=0.5, patience=5, verbose=1),\n",
    "    tf.keras.callbacks.EarlyStopping(monitor='val_loss', patience=15, restore_best_weights=True, verbose=1)\n",
    "]\n",
    "\n",
    "history = model.fit(\n",
    "    X_train, y_train,\n",
    "    epochs=EPOCHS,\n",
    "    validation_data=(X_val, y_val),\n",
    "    batch_size=BATCH_SIZE,\n",
    "    callbacks=callbacks,\n",
    "    verbose=1\n",
    ")"
   ]
  },
  {
   "cell_type": "code",
   "execution_count": 39,
   "id": "e3c6164f",
   "metadata": {},
   "outputs": [
    {
     "name": "stdout",
     "output_type": "stream",
     "text": [
      "\u001b[1m2/2\u001b[0m \u001b[32m━━━━━━━━━━━━━━━━━━━━\u001b[0m\u001b[37m\u001b[0m \u001b[1m1s\u001b[0m 455ms/step\n",
      "Accuracy:  0.541\n",
      "F1 Score:  0.702\n",
      "Confusion Matrix:\n",
      "[[ 0 17]\n",
      " [ 0 20]]\n"
     ]
    }
   ],
   "source": [
    "pred_probs = model.predict(X_test)\n",
    "pred_labels = (pred_probs > 0.5).astype(int).flatten()\n",
    "y_true = y_test.flatten()\n",
    "\n",
    "acc = accuracy_score(y_true, pred_labels)\n",
    "f1 = f1_score(y_true, pred_labels)\n",
    "\n",
    "print(f\"Accuracy:  {acc:.3f}\")\n",
    "print(f\"F1 Score:  {f1:.3f}\")\n",
    "print(\"Confusion Matrix:\")\n",
    "print(confusion_matrix(y_true, pred_labels))"
   ]
  },
  {
   "cell_type": "code",
   "execution_count": 40,
   "id": "be03cc9a",
   "metadata": {},
   "outputs": [
    {
     "data": {
      "image/png": "[encoded data removed]",
      "text/plain": [
       "<Figure size 1400x500 with 1 Axes>"
      ]
     },
     "metadata": {},
     "output_type": "display_data"
    }
   ],
   "source": [
    "dates = test_dates\n",
    "plt.figure(figsize=(14, 5))\n",
    "plt.plot(dates, y_true, label='Actual Direction', color='blue', marker='o')\n",
    "plt.plot(dates, pred_labels, label='Predicted Direction', color='red', marker='x')\n",
    "plt.title('Actual vs Predicted Price Direction (1=Up, 0=Down)')\n",
    "plt.xticks(rotation=45) \n",
    "plt.legend()\n",
    "plt.show()"
   ]
  }
 ],
 "metadata": {
  "kernelspec": {
   "display_name": ".venv",
   "language": "python",
   "name": "python3"
  },
  "language_info": {
   "codemirror_mode": {
    "name": "ipython",
    "version": 3
   },
   "file_extension": ".py",
   "mimetype": "text/x-python",
   "name": "python",
   "nbconvert_exporter": "python",
   "pygments_lexer": "ipython3",
   "version": "3.13.9"
  }
 },
 "nbformat": 4,
 "nbformat_minor": 5
}
