{
 "cells": [
  {
   "cell_type": "code",
   "execution_count": 61,
   "id": "872719e5",
   "metadata": {},
   "outputs": [],
   "source": [
    "import pandas as pd\n",
    "import numpy as np\n",
    "import matplotlib.pyplot as plt\n",
    "from sklearn.preprocessing import MinMaxScaler, StandardScaler\n",
    "from sklearn.metrics import mean_squared_error, mean_absolute_error, r2_score\n",
    "from sklearn.model_selection import train_test_split\n",
    "import tensorflow as tf\n",
    "from tensorflow import keras\n",
    "import joblib\n",
    "import tabulate as tb\n",
    "from tensorflow.keras.layers import LSTM, Dense, Dropout, Input\n",
    "from tensorflow.keras.models import Sequential\n",
    "from tensorflow.keras.losses import Huber\n",
    "from tensorflow.keras import Sequential, layers, optimizers, losses\n",
    "from sklearn.metrics import accuracy_score, precision_score, recall_score, f1_score, confusion_matrix\n",
    "\n"
   ]
  },
  {
   "cell_type": "code",
   "execution_count": null,
   "id": "e8788a3a",
   "metadata": {},
   "outputs": [],
   "source": [
    "CSV_PATH = './../data/GOOGL.csv'\n",
    "DATE_COL = 'Date'\n",
    "\n",
    "SEQ_LENGTH = 60\n",
    "BATCH_SIZE = 32\n",
    "LEARNING_RATE = 0.1\n",
    "EPOCHS = 60\n",
    "\n",
    "# FEATURES = [\n",
    "#     'Open', 'High', 'Low', 'Close', 'Volume',\n",
    "#     'rsi', 'MACD_12_26_9', 'MACDh_12_26_9', 'MACDs_12_26_9',\n",
    "#     'BBL_20_2.0_2.0','BBM_20_2.0_2.0','BBU_20_2.0_2.0','BBB_20_2.0_2.0','BBP_20_2.0_2.0',\n",
    "#     'ema_10','ema_20','ema_50','atr','stoch_k','stoch_d'\n",
    "# ]\n",
    "\n",
    "FEATURES = [\n",
    "    'rsi', 'MACD_12_26_9', 'MACDh_12_26_9', 'MACDs_12_26_9',\n",
    "    'ema_10','ema_20','ema_50','atr','stoch_k','stoch_d'\n",
    "]\n",
    "\n",
    "TARGET = 'direction'\n",
    "\n",
    "TRAINING_RANGE = ('2010-01-01', '2024-12-31')\n",
    "TESTING_RANGE = ('2025-01-01', '2025-10-22')"
   ]
  },
  {
   "cell_type": "code",
   "execution_count": 63,
   "id": "533b6fa3",
   "metadata": {},
   "outputs": [],
   "source": [
    "SEED = 42\n",
    "np.random.seed(SEED)\n",
    "tf.random.set_seed(SEED)"
   ]
  },
  {
   "cell_type": "code",
   "execution_count": 64,
   "id": "0d57f806",
   "metadata": {},
   "outputs": [
    {
     "name": "stdout",
     "output_type": "stream",
     "text": [
      "+---------+----------------+-----------------+-----------------+-----------+-----------+-----------+-----------+-----------+-----------+\n",
      "|     rsi |   MACD_12_26_9 |   MACDh_12_26_9 |   MACDs_12_26_9 |    ema_10 |    ema_20 |    ema_50 |       atr |   stoch_k |   stoch_d |\n",
      "|---------+----------------+-----------------+-----------------+-----------+-----------+-----------+-----------+-----------+-----------|\n",
      "| 2.26036 |      0.069751  |        0.240104 |      0.00367968 | -0.933339 | -0.942117 | -0.960079 | -0.758485 |   1.08159 |   1.02797 |\n",
      "| 2.02674 |      0.0807454 |        0.222327 |      0.0204574  | -0.931558 | -0.940525 | -0.958869 | -0.757412 |   1.16055 |   1.10351 |\n",
      "| 2.14373 |      0.0930748 |        0.211974 |      0.0364814  | -0.929636 | -0.93884  | -0.957604 | -0.759417 |   1.2486  |   1.20006 |\n",
      "| 2.03773 |      0.0978294 |        0.181734 |      0.050304   | -0.928164 | -0.937368 | -0.95641  | -0.76273  |   1.17295 |   1.23147 |\n",
      "| 1.7423  |      0.0939541 |        0.132526 |      0.0605443  | -0.927236 | -0.936182 | -0.955324 | -0.759411 |   1.14909 |   1.22753 |\n",
      "+---------+----------------+-----------------+-----------------+-----------+-----------+-----------+-----------+-----------+-----------+\n",
      "+-------------+\n",
      "|   direction |\n",
      "|-------------|\n",
      "|           1 |\n",
      "|           0 |\n",
      "|           1 |\n",
      "|           0 |\n",
      "|           0 |\n",
      "+-------------+\n"
     ]
    }
   ],
   "source": [
    "df = pd.read_csv(CSV_PATH, parse_dates=[DATE_COL])\n",
    "df = df.sort_values(DATE_COL).reset_index(drop=True)\n",
    "df = df[[DATE_COL] + FEATURES + [TARGET]]\n",
    "df.dropna(inplace=True)\n",
    "\n",
    "feature_scaler = StandardScaler()#MinMaxScaler()\n",
    "\n",
    "feature_data = feature_scaler.fit_transform(df[FEATURES])\n",
    "target_data = df[[TARGET]].values\n",
    "\n",
    "print(tb.tabulate(feature_data[:5], headers=FEATURES, tablefmt='psql'))\n",
    "print(tb.tabulate(target_data[:5], headers=[TARGET], tablefmt='psql'))"
   ]
  },
  {
   "cell_type": "code",
   "execution_count": 65,
   "id": "ee50b76e",
   "metadata": {},
   "outputs": [
    {
     "name": "stdout",
     "output_type": "stream",
     "text": [
      "Feature data shape: (5219, 60, 10)\n",
      "Target data shape: (5219, 1)\n"
     ]
    }
   ],
   "source": [
    "X, y = [], []\n",
    "dates = []\n",
    "for i in range(SEQ_LENGTH, len(feature_data)):\n",
    "    tmp = feature_data[i - SEQ_LENGTH:i]\n",
    "    X.append(tmp)\n",
    "    dates.append(df[DATE_COL].values[i])\n",
    "    y.append(target_data[i])\n",
    "\n",
    "X, y = np.array(X), np.array(y)\n",
    "\n",
    "print(f\"Feature data shape: {X.shape}\")\n",
    "print(f\"Target data shape: {y.shape}\")"
   ]
  },
  {
   "cell_type": "code",
   "execution_count": 66,
   "id": "0b96f6ba",
   "metadata": {},
   "outputs": [
    {
     "name": "stdout",
     "output_type": "stream",
     "text": [
      "Training: beg_idx=1243 -> beg=2009-12-31T00:00:00.000000000 || end_idx=5017 -> end=2024-12-31T00:00:00.000000000\n",
      "Testing:  beg_idx=5017 -> beg=2024-12-31T00:00:00.000000000 || end_idx=5218 -> end=2025-10-21T00:00:00.000000000\n",
      "X_train shape: (3775, 60, 10), y_train shape: (3775, 1)\n",
      "X_test shape: (202, 60, 10), y_test shape: (202, 1)\n"
     ]
    }
   ],
   "source": [
    "def find_closest_date_index(dates_array, target_date):\n",
    "    target_date = np.datetime64(target_date)\n",
    "    index = np.argmin(np.abs(dates_array - target_date))\n",
    "    return index\n",
    "\n",
    "train_beg, train_end = find_closest_date_index(dates, TRAINING_RANGE[0]), find_closest_date_index(dates, TRAINING_RANGE[1])\n",
    "test_beg, test_end = find_closest_date_index(dates, TESTING_RANGE[0]), find_closest_date_index(dates, TESTING_RANGE[1])\n",
    "\n",
    "print(f\"Training: beg_idx={train_beg} -> beg={dates[train_beg]} || end_idx={train_end} -> end={dates[train_end]}\")\n",
    "print(f\"Testing:  beg_idx={test_beg} -> beg={dates[test_beg]} || end_idx={test_end} -> end={dates[test_end]}\")\n",
    "\n",
    "X_train, y_train = X[train_beg:train_end+1], y[train_beg:train_end+1]\n",
    "X_test, y_test = X[test_beg:test_end+1], y[test_beg:test_end+1]\n",
    "\n",
    "print(f\"X_train shape: {X_train.shape}, y_train shape: {y_train.shape}\")\n",
    "print(f\"X_test shape: {X_test.shape}, y_test shape: {y_test.shape}\")"
   ]
  },
  {
   "cell_type": "code",
   "execution_count": null,
   "id": "ef10e5c3",
   "metadata": {},
   "outputs": [
    {
     "data": {
      "text/html": [
       "<pre style=\"white-space:pre;overflow-x:auto;line-height:normal;font-family:Menlo,'DejaVu Sans Mono',consolas,'Courier New',monospace\"><span style=\"font-weight: bold\">Model: \"sequential_6\"</span>\n",
       "</pre>\n"
      ],
      "text/plain": [
       "\u001b[1mModel: \"sequential_6\"\u001b[0m\n"
      ]
     },
     "metadata": {},
     "output_type": "display_data"
    },
    {
     "data": {
      "text/html": [
       "<pre style=\"white-space:pre;overflow-x:auto;line-height:normal;font-family:Menlo,'DejaVu Sans Mono',consolas,'Courier New',monospace\">┏━━━━━━━━━━━━━━━━━━━━━━━━━━━━━━━━━┳━━━━━━━━━━━━━━━━━━━━━━━━┳━━━━━━━━━━━━━━━┓\n",
       "┃<span style=\"font-weight: bold\"> Layer (type)                    </span>┃<span style=\"font-weight: bold\"> Output Shape           </span>┃<span style=\"font-weight: bold\">       Param # </span>┃\n",
       "┡━━━━━━━━━━━━━━━━━━━━━━━━━━━━━━━━━╇━━━━━━━━━━━━━━━━━━━━━━━━╇━━━━━━━━━━━━━━━┩\n",
       "│ lstm_18 (<span style=\"color: #0087ff; text-decoration-color: #0087ff\">LSTM</span>)                  │ (<span style=\"color: #00d7ff; text-decoration-color: #00d7ff\">None</span>, <span style=\"color: #00af00; text-decoration-color: #00af00\">60</span>, <span style=\"color: #00af00; text-decoration-color: #00af00\">96</span>)         │        <span style=\"color: #00af00; text-decoration-color: #00af00\">41,088</span> │\n",
       "├─────────────────────────────────┼────────────────────────┼───────────────┤\n",
       "│ dropout_18 (<span style=\"color: #0087ff; text-decoration-color: #0087ff\">Dropout</span>)            │ (<span style=\"color: #00d7ff; text-decoration-color: #00d7ff\">None</span>, <span style=\"color: #00af00; text-decoration-color: #00af00\">60</span>, <span style=\"color: #00af00; text-decoration-color: #00af00\">96</span>)         │             <span style=\"color: #00af00; text-decoration-color: #00af00\">0</span> │\n",
       "├─────────────────────────────────┼────────────────────────┼───────────────┤\n",
       "│ lstm_19 (<span style=\"color: #0087ff; text-decoration-color: #0087ff\">LSTM</span>)                  │ (<span style=\"color: #00d7ff; text-decoration-color: #00d7ff\">None</span>, <span style=\"color: #00af00; text-decoration-color: #00af00\">60</span>, <span style=\"color: #00af00; text-decoration-color: #00af00\">96</span>)         │        <span style=\"color: #00af00; text-decoration-color: #00af00\">74,112</span> │\n",
       "├─────────────────────────────────┼────────────────────────┼───────────────┤\n",
       "│ dropout_19 (<span style=\"color: #0087ff; text-decoration-color: #0087ff\">Dropout</span>)            │ (<span style=\"color: #00d7ff; text-decoration-color: #00d7ff\">None</span>, <span style=\"color: #00af00; text-decoration-color: #00af00\">60</span>, <span style=\"color: #00af00; text-decoration-color: #00af00\">96</span>)         │             <span style=\"color: #00af00; text-decoration-color: #00af00\">0</span> │\n",
       "├─────────────────────────────────┼────────────────────────┼───────────────┤\n",
       "│ lstm_20 (<span style=\"color: #0087ff; text-decoration-color: #0087ff\">LSTM</span>)                  │ (<span style=\"color: #00d7ff; text-decoration-color: #00d7ff\">None</span>, <span style=\"color: #00af00; text-decoration-color: #00af00\">96</span>)             │        <span style=\"color: #00af00; text-decoration-color: #00af00\">74,112</span> │\n",
       "├─────────────────────────────────┼────────────────────────┼───────────────┤\n",
       "│ dropout_20 (<span style=\"color: #0087ff; text-decoration-color: #0087ff\">Dropout</span>)            │ (<span style=\"color: #00d7ff; text-decoration-color: #00d7ff\">None</span>, <span style=\"color: #00af00; text-decoration-color: #00af00\">96</span>)             │             <span style=\"color: #00af00; text-decoration-color: #00af00\">0</span> │\n",
       "├─────────────────────────────────┼────────────────────────┼───────────────┤\n",
       "│ dense_18 (<span style=\"color: #0087ff; text-decoration-color: #0087ff\">Dense</span>)                │ (<span style=\"color: #00d7ff; text-decoration-color: #00d7ff\">None</span>, <span style=\"color: #00af00; text-decoration-color: #00af00\">128</span>)            │        <span style=\"color: #00af00; text-decoration-color: #00af00\">12,416</span> │\n",
       "├─────────────────────────────────┼────────────────────────┼───────────────┤\n",
       "│ dense_19 (<span style=\"color: #0087ff; text-decoration-color: #0087ff\">Dense</span>)                │ (<span style=\"color: #00d7ff; text-decoration-color: #00d7ff\">None</span>, <span style=\"color: #00af00; text-decoration-color: #00af00\">64</span>)             │         <span style=\"color: #00af00; text-decoration-color: #00af00\">8,256</span> │\n",
       "├─────────────────────────────────┼────────────────────────┼───────────────┤\n",
       "│ dense_20 (<span style=\"color: #0087ff; text-decoration-color: #0087ff\">Dense</span>)                │ (<span style=\"color: #00d7ff; text-decoration-color: #00d7ff\">None</span>, <span style=\"color: #00af00; text-decoration-color: #00af00\">1</span>)              │            <span style=\"color: #00af00; text-decoration-color: #00af00\">65</span> │\n",
       "└─────────────────────────────────┴────────────────────────┴───────────────┘\n",
       "</pre>\n"
      ],
      "text/plain": [
       "┏━━━━━━━━━━━━━━━━━━━━━━━━━━━━━━━━━┳━━━━━━━━━━━━━━━━━━━━━━━━┳━━━━━━━━━━━━━━━┓\n",
       "┃\u001b[1m \u001b[0m\u001b[1mLayer (type)                   \u001b[0m\u001b[1m \u001b[0m┃\u001b[1m \u001b[0m\u001b[1mOutput Shape          \u001b[0m\u001b[1m \u001b[0m┃\u001b[1m \u001b[0m\u001b[1m      Param #\u001b[0m\u001b[1m \u001b[0m┃\n",
       "┡━━━━━━━━━━━━━━━━━━━━━━━━━━━━━━━━━╇━━━━━━━━━━━━━━━━━━━━━━━━╇━━━━━━━━━━━━━━━┩\n",
       "│ lstm_18 (\u001b[38;5;33mLSTM\u001b[0m)                  │ (\u001b[38;5;45mNone\u001b[0m, \u001b[38;5;34m60\u001b[0m, \u001b[38;5;34m96\u001b[0m)         │        \u001b[38;5;34m41,088\u001b[0m │\n",
       "├─────────────────────────────────┼────────────────────────┼───────────────┤\n",
       "│ dropout_18 (\u001b[38;5;33mDropout\u001b[0m)            │ (\u001b[38;5;45mNone\u001b[0m, \u001b[38;5;34m60\u001b[0m, \u001b[38;5;34m96\u001b[0m)         │             \u001b[38;5;34m0\u001b[0m │\n",
       "├─────────────────────────────────┼────────────────────────┼───────────────┤\n",
       "│ lstm_19 (\u001b[38;5;33mLSTM\u001b[0m)                  │ (\u001b[38;5;45mNone\u001b[0m, \u001b[38;5;34m60\u001b[0m, \u001b[38;5;34m96\u001b[0m)         │        \u001b[38;5;34m74,112\u001b[0m │\n",
       "├─────────────────────────────────┼────────────────────────┼───────────────┤\n",
       "│ dropout_19 (\u001b[38;5;33mDropout\u001b[0m)            │ (\u001b[38;5;45mNone\u001b[0m, \u001b[38;5;34m60\u001b[0m, \u001b[38;5;34m96\u001b[0m)         │             \u001b[38;5;34m0\u001b[0m │\n",
       "├─────────────────────────────────┼────────────────────────┼───────────────┤\n",
       "│ lstm_20 (\u001b[38;5;33mLSTM\u001b[0m)                  │ (\u001b[38;5;45mNone\u001b[0m, \u001b[38;5;34m96\u001b[0m)             │        \u001b[38;5;34m74,112\u001b[0m │\n",
       "├─────────────────────────────────┼────────────────────────┼───────────────┤\n",
       "│ dropout_20 (\u001b[38;5;33mDropout\u001b[0m)            │ (\u001b[38;5;45mNone\u001b[0m, \u001b[38;5;34m96\u001b[0m)             │             \u001b[38;5;34m0\u001b[0m │\n",
       "├─────────────────────────────────┼────────────────────────┼───────────────┤\n",
       "│ dense_18 (\u001b[38;5;33mDense\u001b[0m)                │ (\u001b[38;5;45mNone\u001b[0m, \u001b[38;5;34m128\u001b[0m)            │        \u001b[38;5;34m12,416\u001b[0m │\n",
       "├─────────────────────────────────┼────────────────────────┼───────────────┤\n",
       "│ dense_19 (\u001b[38;5;33mDense\u001b[0m)                │ (\u001b[38;5;45mNone\u001b[0m, \u001b[38;5;34m64\u001b[0m)             │         \u001b[38;5;34m8,256\u001b[0m │\n",
       "├─────────────────────────────────┼────────────────────────┼───────────────┤\n",
       "│ dense_20 (\u001b[38;5;33mDense\u001b[0m)                │ (\u001b[38;5;45mNone\u001b[0m, \u001b[38;5;34m1\u001b[0m)              │            \u001b[38;5;34m65\u001b[0m │\n",
       "└─────────────────────────────────┴────────────────────────┴───────────────┘\n"
      ]
     },
     "metadata": {},
     "output_type": "display_data"
    },
    {
     "data": {
      "text/html": [
       "<pre style=\"white-space:pre;overflow-x:auto;line-height:normal;font-family:Menlo,'DejaVu Sans Mono',consolas,'Courier New',monospace\"><span style=\"font-weight: bold\"> Total params: </span><span style=\"color: #00af00; text-decoration-color: #00af00\">210,049</span> (820.50 KB)\n",
       "</pre>\n"
      ],
      "text/plain": [
       "\u001b[1m Total params: \u001b[0m\u001b[38;5;34m210,049\u001b[0m (820.50 KB)\n"
      ]
     },
     "metadata": {},
     "output_type": "display_data"
    },
    {
     "data": {
      "text/html": [
       "<pre style=\"white-space:pre;overflow-x:auto;line-height:normal;font-family:Menlo,'DejaVu Sans Mono',consolas,'Courier New',monospace\"><span style=\"font-weight: bold\"> Trainable params: </span><span style=\"color: #00af00; text-decoration-color: #00af00\">210,049</span> (820.50 KB)\n",
       "</pre>\n"
      ],
      "text/plain": [
       "\u001b[1m Trainable params: \u001b[0m\u001b[38;5;34m210,049\u001b[0m (820.50 KB)\n"
      ]
     },
     "metadata": {},
     "output_type": "display_data"
    },
    {
     "data": {
      "text/html": [
       "<pre style=\"white-space:pre;overflow-x:auto;line-height:normal;font-family:Menlo,'DejaVu Sans Mono',consolas,'Courier New',monospace\"><span style=\"font-weight: bold\"> Non-trainable params: </span><span style=\"color: #00af00; text-decoration-color: #00af00\">0</span> (0.00 B)\n",
       "</pre>\n"
      ],
      "text/plain": [
       "\u001b[1m Non-trainable params: \u001b[0m\u001b[38;5;34m0\u001b[0m (0.00 B)\n"
      ]
     },
     "metadata": {},
     "output_type": "display_data"
    }
   ],
   "source": [
    "def create_financial_model(seq_length, feature_count, learning_rate):\n",
    "    inputs = layers.Input(shape=(seq_length, feature_count))\n",
    "\n",
    "    x = layers.Bidirectional(layers.LSTM(64, return_sequences=True, recurrent_dropout=0.2))(inputs)\n",
    "    x = layers.LayerNormalization()(x)\n",
    "    x = layers.Bidirectional(layers.LSTM(64, return_sequences=False))(x)\n",
    "    x = layers.LayerNormalization()(x)\n",
    "    \n",
    "    x = layers.Dense(128, activation='relu')(x)\n",
    "    x = layers.BatchNormalization()(x)\n",
    "    x = layers.Dropout(0.3)(x)\n",
    "    \n",
    "    x = layers.Dense(64, activation='relu')(x)\n",
    "    x = layers.BatchNormalization()(x)\n",
    "    \n",
    "    outputs = layers.Dense(1, activation='sigmoid')(x)\n",
    "\n",
    "    model = tf.keras.Model(inputs, outputs)\n",
    "    model.compile(\n",
    "        optimizer=optimizers.Adam(learning_rate=learning_rate),\n",
    "        loss='binary_crossentropy',\n",
    "        metrics=['accuracy', tf.keras.metrics.Precision(), tf.keras.metrics.Recall()]\n",
    "    )\n",
    "    return model\n",
    "\n",
    "\n",
    "model = create_financial_model(SEQ_LENGTH, len(FEATURES), LEARNING_RATE)"
   ]
  },
  {
   "cell_type": "code",
   "execution_count": null,
   "id": "efe752fb",
   "metadata": {},
   "outputs": [
    {
     "name": "stdout",
     "output_type": "stream",
     "text": [
      "Epoch 1/60\n",
      "\u001b[1m118/118\u001b[0m \u001b[32m━━━━━━━━━━━━━━━━━━━━\u001b[0m\u001b[37m\u001b[0m \u001b[1m9s\u001b[0m 45ms/step - accuracy: 0.5158 - loss: 0.6974 - precision_5: 0.5308 - recall_5: 0.7369 - learning_rate: 0.0100\n",
      "Epoch 2/60\n",
      "\u001b[1m118/118\u001b[0m \u001b[32m━━━━━━━━━━━━━━━━━━━━\u001b[0m\u001b[37m\u001b[0m \u001b[1m5s\u001b[0m 45ms/step - accuracy: 0.5245 - loss: 0.6935 - precision_5: 0.5290 - recall_5: 0.9315 - learning_rate: 0.0100\n",
      "Epoch 3/60\n",
      "\u001b[1m118/118\u001b[0m \u001b[32m━━━━━━━━━━━━━━━━━━━━\u001b[0m\u001b[37m\u001b[0m \u001b[1m5s\u001b[0m 43ms/step - accuracy: 0.5295 - loss: 0.6917 - precision_5: 0.5295 - recall_5: 1.0000 - learning_rate: 0.0100\n",
      "Epoch 4/60\n",
      "\u001b[1m118/118\u001b[0m \u001b[32m━━━━━━━━━━━━━━━━━━━━\u001b[0m\u001b[37m\u001b[0m \u001b[1m5s\u001b[0m 46ms/step - accuracy: 0.5295 - loss: 0.6916 - precision_5: 0.5295 - recall_5: 1.0000 - learning_rate: 0.0100\n",
      "Epoch 5/60\n",
      "\u001b[1m118/118\u001b[0m \u001b[32m━━━━━━━━━━━━━━━━━━━━\u001b[0m\u001b[37m\u001b[0m \u001b[1m5s\u001b[0m 44ms/step - accuracy: 0.5295 - loss: 0.6916 - precision_5: 0.5295 - recall_5: 1.0000 - learning_rate: 0.0100\n",
      "Epoch 6/60\n",
      "\u001b[1m118/118\u001b[0m \u001b[32m━━━━━━━━━━━━━━━━━━━━\u001b[0m\u001b[37m\u001b[0m \u001b[1m5s\u001b[0m 44ms/step - accuracy: 0.5295 - loss: 0.6917 - precision_5: 0.5295 - recall_5: 1.0000 - learning_rate: 0.0100\n",
      "Epoch 7/60\n",
      "\u001b[1m118/118\u001b[0m \u001b[32m━━━━━━━━━━━━━━━━━━━━\u001b[0m\u001b[37m\u001b[0m \u001b[1m6s\u001b[0m 48ms/step - accuracy: 0.5295 - loss: 0.6916 - precision_5: 0.5295 - recall_5: 1.0000 - learning_rate: 0.0100\n",
      "Epoch 8/60\n",
      "\u001b[1m117/118\u001b[0m \u001b[32m━━━━━━━━━━━━━━━━━━━\u001b[0m\u001b[37m━\u001b[0m \u001b[1m0s\u001b[0m 50ms/step - accuracy: 0.5233 - loss: 0.6925 - precision_5: 0.5233 - recall_5: 1.0000\n",
      "Epoch 8: ReduceLROnPlateau reducing learning rate to 0.004999999888241291.\n",
      "\u001b[1m118/118\u001b[0m \u001b[32m━━━━━━━━━━━━━━━━━━━━\u001b[0m\u001b[37m\u001b[0m \u001b[1m6s\u001b[0m 50ms/step - accuracy: 0.5295 - loss: 0.6917 - precision_5: 0.5295 - recall_5: 1.0000 - learning_rate: 0.0100\n",
      "Epoch 9/60\n",
      "\u001b[1m118/118\u001b[0m \u001b[32m━━━━━━━━━━━━━━━━━━━━\u001b[0m\u001b[37m\u001b[0m \u001b[1m6s\u001b[0m 48ms/step - accuracy: 0.5295 - loss: 0.6915 - precision_5: 0.5295 - recall_5: 1.0000 - learning_rate: 0.0050\n",
      "Epoch 10/60\n",
      "\u001b[1m118/118\u001b[0m \u001b[32m━━━━━━━━━━━━━━━━━━━━\u001b[0m\u001b[37m\u001b[0m \u001b[1m6s\u001b[0m 50ms/step - accuracy: 0.5295 - loss: 0.6915 - precision_5: 0.5295 - recall_5: 1.0000 - learning_rate: 0.0050\n",
      "Epoch 11/60\n",
      "\u001b[1m118/118\u001b[0m \u001b[32m━━━━━━━━━━━━━━━━━━━━\u001b[0m\u001b[37m\u001b[0m \u001b[1m6s\u001b[0m 52ms/step - accuracy: 0.5295 - loss: 0.6916 - precision_5: 0.5295 - recall_5: 1.0000 - learning_rate: 0.0050\n",
      "Epoch 12/60\n",
      "\u001b[1m118/118\u001b[0m \u001b[32m━━━━━━━━━━━━━━━━━━━━\u001b[0m\u001b[37m\u001b[0m \u001b[1m6s\u001b[0m 50ms/step - accuracy: 0.5295 - loss: 0.6915 - precision_5: 0.5295 - recall_5: 1.0000 - learning_rate: 0.0050\n",
      "Epoch 13/60\n",
      "\u001b[1m118/118\u001b[0m \u001b[32m━━━━━━━━━━━━━━━━━━━━\u001b[0m\u001b[37m\u001b[0m \u001b[1m6s\u001b[0m 50ms/step - accuracy: 0.5295 - loss: 0.6915 - precision_5: 0.5295 - recall_5: 1.0000 - learning_rate: 0.0050\n",
      "Epoch 14/60\n",
      "\u001b[1m118/118\u001b[0m \u001b[32m━━━━━━━━━━━━━━━━━━━━\u001b[0m\u001b[37m\u001b[0m \u001b[1m0s\u001b[0m 51ms/step - accuracy: 0.5234 - loss: 0.6923 - precision_5: 0.5234 - recall_5: 1.0000\n",
      "Epoch 14: ReduceLROnPlateau reducing learning rate to 0.0024999999441206455.\n",
      "\u001b[1m118/118\u001b[0m \u001b[32m━━━━━━━━━━━━━━━━━━━━\u001b[0m\u001b[37m\u001b[0m \u001b[1m6s\u001b[0m 51ms/step - accuracy: 0.5295 - loss: 0.6916 - precision_5: 0.5295 - recall_5: 1.0000 - learning_rate: 0.0050\n",
      "Epoch 15/60\n",
      "\u001b[1m118/118\u001b[0m \u001b[32m━━━━━━━━━━━━━━━━━━━━\u001b[0m\u001b[37m\u001b[0m \u001b[1m7s\u001b[0m 60ms/step - accuracy: 0.5295 - loss: 0.6915 - precision_5: 0.5295 - recall_5: 1.0000 - learning_rate: 0.0025\n",
      "Epoch 16/60\n",
      "\u001b[1m118/118\u001b[0m \u001b[32m━━━━━━━━━━━━━━━━━━━━\u001b[0m\u001b[37m\u001b[0m \u001b[1m8s\u001b[0m 69ms/step - accuracy: 0.5295 - loss: 0.6915 - precision_5: 0.5295 - recall_5: 1.0000 - learning_rate: 0.0025\n",
      "Epoch 17/60\n",
      "\u001b[1m118/118\u001b[0m \u001b[32m━━━━━━━━━━━━━━━━━━━━\u001b[0m\u001b[37m\u001b[0m \u001b[1m8s\u001b[0m 70ms/step - accuracy: 0.5295 - loss: 0.6914 - precision_5: 0.5295 - recall_5: 1.0000 - learning_rate: 0.0025\n",
      "Epoch 18/60\n",
      "\u001b[1m118/118\u001b[0m \u001b[32m━━━━━━━━━━━━━━━━━━━━\u001b[0m\u001b[37m\u001b[0m \u001b[1m7s\u001b[0m 57ms/step - accuracy: 0.5295 - loss: 0.6915 - precision_5: 0.5295 - recall_5: 1.0000 - learning_rate: 0.0025\n",
      "Epoch 19/60\n",
      "\u001b[1m117/118\u001b[0m \u001b[32m━━━━━━━━━━━━━━━━━━━\u001b[0m\u001b[37m━\u001b[0m \u001b[1m0s\u001b[0m 47ms/step - accuracy: 0.5233 - loss: 0.6922 - precision_5: 0.5233 - recall_5: 1.0000\n",
      "Epoch 19: ReduceLROnPlateau reducing learning rate to 0.0012499999720603228.\n",
      "\u001b[1m118/118\u001b[0m \u001b[32m━━━━━━━━━━━━━━━━━━━━\u001b[0m\u001b[37m\u001b[0m \u001b[1m6s\u001b[0m 47ms/step - accuracy: 0.5295 - loss: 0.6915 - precision_5: 0.5295 - recall_5: 1.0000 - learning_rate: 0.0025\n",
      "Epoch 20/60\n",
      "\u001b[1m118/118\u001b[0m \u001b[32m━━━━━━━━━━━━━━━━━━━━\u001b[0m\u001b[37m\u001b[0m \u001b[1m6s\u001b[0m 49ms/step - accuracy: 0.5295 - loss: 0.6914 - precision_5: 0.5295 - recall_5: 1.0000 - learning_rate: 0.0012\n",
      "Epoch 21/60\n",
      "\u001b[1m118/118\u001b[0m \u001b[32m━━━━━━━━━━━━━━━━━━━━\u001b[0m\u001b[37m\u001b[0m \u001b[1m6s\u001b[0m 49ms/step - accuracy: 0.5295 - loss: 0.6913 - precision_5: 0.5295 - recall_5: 1.0000 - learning_rate: 0.0012\n",
      "Epoch 22/60\n",
      "\u001b[1m118/118\u001b[0m \u001b[32m━━━━━━━━━━━━━━━━━━━━\u001b[0m\u001b[37m\u001b[0m \u001b[1m7s\u001b[0m 56ms/step - accuracy: 0.5295 - loss: 0.6914 - precision_5: 0.5295 - recall_5: 1.0000 - learning_rate: 0.0012\n",
      "Epoch 23/60\n",
      "\u001b[1m118/118\u001b[0m \u001b[32m━━━━━━━━━━━━━━━━━━━━\u001b[0m\u001b[37m\u001b[0m \u001b[1m7s\u001b[0m 59ms/step - accuracy: 0.5295 - loss: 0.6914 - precision_5: 0.5295 - recall_5: 1.0000 - learning_rate: 0.0012\n",
      "Epoch 24/60\n",
      "\u001b[1m118/118\u001b[0m \u001b[32m━━━━━━━━━━━━━━━━━━━━\u001b[0m\u001b[37m\u001b[0m \u001b[1m6s\u001b[0m 53ms/step - accuracy: 0.5295 - loss: 0.6914 - precision_5: 0.5295 - recall_5: 1.0000 - learning_rate: 0.0012\n",
      "Epoch 25/60\n",
      "\u001b[1m118/118\u001b[0m \u001b[32m━━━━━━━━━━━━━━━━━━━━\u001b[0m\u001b[37m\u001b[0m \u001b[1m0s\u001b[0m 48ms/step - accuracy: 0.5234 - loss: 0.6920 - precision_5: 0.5234 - recall_5: 1.0000\n",
      "Epoch 25: ReduceLROnPlateau reducing learning rate to 0.0006249999860301614.\n",
      "\u001b[1m118/118\u001b[0m \u001b[32m━━━━━━━━━━━━━━━━━━━━\u001b[0m\u001b[37m\u001b[0m \u001b[1m6s\u001b[0m 48ms/step - accuracy: 0.5295 - loss: 0.6913 - precision_5: 0.5295 - recall_5: 1.0000 - learning_rate: 0.0012\n",
      "Epoch 26/60\n",
      "\u001b[1m118/118\u001b[0m \u001b[32m━━━━━━━━━━━━━━━━━━━━\u001b[0m\u001b[37m\u001b[0m \u001b[1m6s\u001b[0m 48ms/step - accuracy: 0.5295 - loss: 0.6912 - precision_5: 0.5295 - recall_5: 1.0000 - learning_rate: 6.2500e-04\n",
      "Epoch 27/60\n",
      "\u001b[1m118/118\u001b[0m \u001b[32m━━━━━━━━━━━━━━━━━━━━\u001b[0m\u001b[37m\u001b[0m \u001b[1m6s\u001b[0m 46ms/step - accuracy: 0.5295 - loss: 0.6912 - precision_5: 0.5295 - recall_5: 1.0000 - learning_rate: 6.2500e-04\n",
      "Epoch 28/60\n",
      "\u001b[1m118/118\u001b[0m \u001b[32m━━━━━━━━━━━━━━━━━━━━\u001b[0m\u001b[37m\u001b[0m \u001b[1m6s\u001b[0m 50ms/step - accuracy: 0.5295 - loss: 0.6911 - precision_5: 0.5295 - recall_5: 1.0000 - learning_rate: 6.2500e-04\n",
      "Epoch 29/60\n",
      "\u001b[1m118/118\u001b[0m \u001b[32m━━━━━━━━━━━━━━━━━━━━\u001b[0m\u001b[37m\u001b[0m \u001b[1m7s\u001b[0m 55ms/step - accuracy: 0.5295 - loss: 0.6910 - precision_5: 0.5295 - recall_5: 1.0000 - learning_rate: 6.2500e-04\n",
      "Epoch 30/60\n",
      "\u001b[1m118/118\u001b[0m \u001b[32m━━━━━━━━━━━━━━━━━━━━\u001b[0m\u001b[37m\u001b[0m \u001b[1m6s\u001b[0m 54ms/step - accuracy: 0.5295 - loss: 0.6909 - precision_5: 0.5295 - recall_5: 1.0000 - learning_rate: 6.2500e-04\n",
      "Epoch 31/60\n",
      "\u001b[1m118/118\u001b[0m \u001b[32m━━━━━━━━━━━━━━━━━━━━\u001b[0m\u001b[37m\u001b[0m \u001b[1m6s\u001b[0m 54ms/step - accuracy: 0.5295 - loss: 0.6906 - precision_5: 0.5295 - recall_5: 1.0000 - learning_rate: 6.2500e-04\n",
      "Epoch 32/60\n",
      "\u001b[1m118/118\u001b[0m \u001b[32m━━━━━━━━━━━━━━━━━━━━\u001b[0m\u001b[37m\u001b[0m \u001b[1m6s\u001b[0m 54ms/step - accuracy: 0.5295 - loss: 0.6903 - precision_5: 0.5295 - recall_5: 1.0000 - learning_rate: 6.2500e-04\n",
      "Epoch 33/60\n",
      "\u001b[1m118/118\u001b[0m \u001b[32m━━━━━━━━━━━━━━━━━━━━\u001b[0m\u001b[37m\u001b[0m \u001b[1m6s\u001b[0m 54ms/step - accuracy: 0.5295 - loss: 0.6908 - precision_5: 0.5295 - recall_5: 1.0000 - learning_rate: 6.2500e-04\n",
      "Epoch 34/60\n",
      "\u001b[1m118/118\u001b[0m \u001b[32m━━━━━━━━━━━━━━━━━━━━\u001b[0m\u001b[37m\u001b[0m \u001b[1m6s\u001b[0m 54ms/step - accuracy: 0.5295 - loss: 0.6906 - precision_5: 0.5295 - recall_5: 1.0000 - learning_rate: 6.2500e-04\n",
      "Epoch 35/60\n",
      "\u001b[1m118/118\u001b[0m \u001b[32m━━━━━━━━━━━━━━━━━━━━\u001b[0m\u001b[37m\u001b[0m \u001b[1m7s\u001b[0m 55ms/step - accuracy: 0.5295 - loss: 0.6908 - precision_5: 0.5295 - recall_5: 1.0000 - learning_rate: 6.2500e-04\n",
      "Epoch 36/60\n",
      "\u001b[1m118/118\u001b[0m \u001b[32m━━━━━━━━━━━━━━━━━━━━\u001b[0m\u001b[37m\u001b[0m \u001b[1m7s\u001b[0m 56ms/step - accuracy: 0.5295 - loss: 0.6896 - precision_5: 0.5295 - recall_5: 1.0000 - learning_rate: 6.2500e-04\n",
      "Epoch 37/60\n",
      "\u001b[1m118/118\u001b[0m \u001b[32m━━━━━━━━━━━━━━━━━━━━\u001b[0m\u001b[37m\u001b[0m \u001b[1m7s\u001b[0m 56ms/step - accuracy: 0.5295 - loss: 0.6899 - precision_5: 0.5295 - recall_5: 1.0000 - learning_rate: 6.2500e-04\n",
      "Epoch 38/60\n",
      "\u001b[1m118/118\u001b[0m \u001b[32m━━━━━━━━━━━━━━━━━━━━\u001b[0m\u001b[37m\u001b[0m \u001b[1m7s\u001b[0m 55ms/step - accuracy: 0.5295 - loss: 0.6884 - precision_5: 0.5295 - recall_5: 1.0000 - learning_rate: 6.2500e-04\n",
      "Epoch 39/60\n",
      "\u001b[1m118/118\u001b[0m \u001b[32m━━━━━━━━━━━━━━━━━━━━\u001b[0m\u001b[37m\u001b[0m \u001b[1m6s\u001b[0m 54ms/step - accuracy: 0.5295 - loss: 0.6895 - precision_5: 0.5295 - recall_5: 1.0000 - learning_rate: 6.2500e-04\n",
      "Epoch 40/60\n",
      "\u001b[1m118/118\u001b[0m \u001b[32m━━━━━━━━━━━━━━━━━━━━\u001b[0m\u001b[37m\u001b[0m \u001b[1m6s\u001b[0m 49ms/step - accuracy: 0.5295 - loss: 0.6877 - precision_5: 0.5295 - recall_5: 1.0000 - learning_rate: 6.2500e-04\n",
      "Epoch 41/60\n",
      "\u001b[1m118/118\u001b[0m \u001b[32m━━━━━━━━━━━━━━━━━━━━\u001b[0m\u001b[37m\u001b[0m \u001b[1m6s\u001b[0m 53ms/step - accuracy: 0.5295 - loss: 0.6880 - precision_5: 0.5295 - recall_5: 1.0000 - learning_rate: 6.2500e-04\n",
      "Epoch 42/60\n",
      "\u001b[1m118/118\u001b[0m \u001b[32m━━━━━━━━━━━━━━━━━━━━\u001b[0m\u001b[37m\u001b[0m \u001b[1m6s\u001b[0m 51ms/step - accuracy: 0.5295 - loss: 0.6873 - precision_5: 0.5295 - recall_5: 1.0000 - learning_rate: 6.2500e-04\n",
      "Epoch 43/60\n",
      "\u001b[1m118/118\u001b[0m \u001b[32m━━━━━━━━━━━━━━━━━━━━\u001b[0m\u001b[37m\u001b[0m \u001b[1m6s\u001b[0m 50ms/step - accuracy: 0.5295 - loss: 0.6878 - precision_5: 0.5295 - recall_5: 1.0000 - learning_rate: 6.2500e-04\n",
      "Epoch 44/60\n",
      "\u001b[1m118/118\u001b[0m \u001b[32m━━━━━━━━━━━━━━━━━━━━\u001b[0m\u001b[37m\u001b[0m \u001b[1m5s\u001b[0m 46ms/step - accuracy: 0.5295 - loss: 0.6850 - precision_5: 0.5295 - recall_5: 1.0000 - learning_rate: 6.2500e-04\n",
      "Epoch 45/60\n",
      "\u001b[1m118/118\u001b[0m \u001b[32m━━━━━━━━━━━━━━━━━━━━\u001b[0m\u001b[37m\u001b[0m \u001b[1m10s\u001b[0m 44ms/step - accuracy: 0.5295 - loss: 0.6853 - precision_5: 0.5295 - recall_5: 1.0000 - learning_rate: 6.2500e-04\n",
      "Epoch 46/60\n",
      "\u001b[1m105/118\u001b[0m \u001b[32m━━━━━━━━━━━━━━━━━\u001b[0m\u001b[37m━━━\u001b[0m \u001b[1m0s\u001b[0m 44ms/step - accuracy: 0.5228 - loss: 0.6842 - precision_5: 0.5228 - recall_5: 1.0000"
     ]
    }
   ],
   "source": [
    "callbacks = [\n",
    "    tf.keras.callbacks.ReduceLROnPlateau(monitor='loss', factor=0.5, patience=5, verbose=1),\n",
    "    tf.keras.callbacks.EarlyStopping(monitor='loss', patience=10, restore_best_weights=True, verbose=1)\n",
    "]\n",
    "\n",
    "history = model.fit(\n",
    "    X_train, y_train,\n",
    "    epochs=EPOCHS,\n",
    "    batch_size=BATCH_SIZE,\n",
    "    callbacks=callbacks,\n",
    "    verbose=1\n",
    ")\n"
   ]
  },
  {
   "cell_type": "code",
   "execution_count": null,
   "id": "e3c6164f",
   "metadata": {},
   "outputs": [
    {
     "name": "stdout",
     "output_type": "stream",
     "text": [
      "WARNING:tensorflow:6 out of the last 9 calls to <function TensorFlowTrainer.make_predict_function.<locals>.one_step_on_data_distributed at 0x000001A4CF667B00> triggered tf.function retracing. Tracing is expensive and the excessive number of tracings could be due to (1) creating @tf.function repeatedly in a loop, (2) passing tensors with different shapes, (3) passing Python objects instead of tensors. For (1), please define your @tf.function outside of the loop. For (2), @tf.function has reduce_retracing=True option that can avoid unnecessary retracing. For (3), please refer to https://www.tensorflow.org/guide/function#controlling_retracing and https://www.tensorflow.org/api_docs/python/tf/function for  more details.\n",
      "\u001b[1m1/1\u001b[0m \u001b[32m━━━━━━━━━━━━━━━━━━━━\u001b[0m\u001b[37m\u001b[0m \u001b[1m0s\u001b[0m 315ms/step\n",
      "Accuracy:  0.600\n",
      "Precision: 0.600\n",
      "Recall:    1.000\n",
      "F1 Score:  0.750\n",
      "Confusion Matrix:\n",
      "[[0 6]\n",
      " [0 9]]\n"
     ]
    }
   ],
   "source": [
    "pred_probs = model.predict(X_test)\n",
    "pred_labels = (pred_probs > 0.5).astype(int).flatten()\n",
    "y_true = y_test.flatten()\n",
    "\n",
    "acc = accuracy_score(y_true, pred_labels)\n",
    "prec = precision_score(y_true, pred_labels)\n",
    "rec = recall_score(y_true, pred_labels)\n",
    "f1 = f1_score(y_true, pred_labels)\n",
    "\n",
    "print(f\"Accuracy:  {acc:.3f}\")\n",
    "print(f\"Precision: {prec:.3f}\")\n",
    "print(f\"Recall:    {rec:.3f}\")\n",
    "print(f\"F1 Score:  {f1:.3f}\")\n",
    "print(\"Confusion Matrix:\")\n",
    "print(confusion_matrix(y_true, pred_labels))"
   ]
  },
  {
   "cell_type": "code",
   "execution_count": null,
   "id": "be03cc9a",
   "metadata": {},
   "outputs": [
    {
     "data": {
      "image/png": "[encoded data removed]",
      "text/plain": [
       "<Figure size 1400x500 with 1 Axes>"
      ]
     },
     "metadata": {},
     "output_type": "display_data"
    }
   ],
   "source": [
    "plt.figure(figsize=(14, 5))\n",
    "plt.plot(y_true, label='Actual Direction', color='blue', marker='o')\n",
    "plt.plot(pred_labels, label='Predicted Direction', color='red', marker='x')\n",
    "plt.title('Actual vs Predicted Price Direction (1=Up, 0=Down)')\n",
    "plt.legend()\n",
    "plt.show()"
   ]
  }
 ],
 "metadata": {
  "kernelspec": {
   "display_name": ".venv",
   "language": "python",
   "name": "python3"
  },
  "language_info": {
   "codemirror_mode": {
    "name": "ipython",
    "version": 3
   },
   "file_extension": ".py",
   "mimetype": "text/x-python",
   "name": "python",
   "nbconvert_exporter": "python",
   "pygments_lexer": "ipython3",
   "version": "3.13.9"
  }
 },
 "nbformat": 4,
 "nbformat_minor": 5
}
