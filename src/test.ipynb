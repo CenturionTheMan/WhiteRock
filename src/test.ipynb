{
 "cells": [
  {
   "cell_type": "code",
   "execution_count": 27,
   "id": "872719e5",
   "metadata": {},
   "outputs": [],
   "source": [
    "import pandas as pd\n",
    "import numpy as np\n",
    "import matplotlib.pyplot as plt\n",
    "from sklearn.preprocessing import MinMaxScaler, StandardScaler\n",
    "from sklearn.metrics import mean_squared_error, mean_absolute_error, r2_score\n",
    "from sklearn.model_selection import train_test_split\n",
    "import tensorflow as tf\n",
    "from tensorflow import keras\n",
    "import joblib\n",
    "import tabulate as tb\n",
    "from tensorflow.keras.layers import LSTM, Dense, Dropout, Input\n",
    "from tensorflow.keras.models import Sequential\n",
    "from tensorflow.keras.losses import Huber\n"
   ]
  },
  {
   "cell_type": "code",
   "execution_count": 28,
   "id": "e8788a3a",
   "metadata": {},
   "outputs": [],
   "source": [
    "CSV_PATH = './../data/GOOGL.csv'\n",
    "DATE_COL = 'Date'\n",
    "\n",
    "SEQ_LENGTH = 50\n",
    "BATCH_SIZE = 32\n",
    "LEARNING_RATE = 1e-4\n",
    "EPOCHS = 15\n",
    "\n",
    "# FEATURES = [\n",
    "#     'Open', 'High', 'Low', 'Close', 'Volume',\n",
    "#     'rsi', 'MACD_12_26_9', 'MACDh_12_26_9', 'MACDs_12_26_9',\n",
    "#     'BBL_20_2.0_2.0','BBM_20_2.0_2.0','BBU_20_2.0_2.0','BBB_20_2.0_2.0','BBP_20_2.0_2.0',\n",
    "#     'ema_10','ema_20','ema_50','atr','stoch_k','stoch_d'\n",
    "# ]\n",
    "\n",
    "FEATURES = [\n",
    "    'Close', 'Volume',\n",
    "    'rsi', 'MACD_12_26_9', 'MACDs_12_26_9',\n",
    "    'ema_10','ema_20'\n",
    "]\n",
    "\n",
    "TARGET = 'returns'\n",
    "\n",
    "TRAINING_RANGE = ('2023-01-01', '2025-09-30')\n",
    "TESTING_RANGE = ('2025-10-01', '2025-10-20')"
   ]
  },
  {
   "cell_type": "code",
   "execution_count": 29,
   "id": "0d57f806",
   "metadata": {},
   "outputs": [
    {
     "name": "stdout",
     "output_type": "stream",
     "text": [
      "+----+---------------------+---------+-----------+---------+----------------+-----------------+----------+----------+-------------+\n",
      "|    | Date                |   Close |    Volume |     rsi |   MACD_12_26_9 |   MACDs_12_26_9 |   ema_10 |   ema_20 |     returns |\n",
      "|----+---------------------+---------+-----------+---------+----------------+-----------------+----------+----------+-------------|\n",
      "|  0 | 2004-10-28 00:00:00 | 4.8042  | 593278128 | 82.5206 |       0.421614 |        0.316699 |  4.22416 |  3.86713 |  0.0394149  |\n",
      "|  1 | 2004-10-29 00:00:00 | 4.73809 | 845653500 | 79.6037 |       0.438451 |        0.34105  |  4.31761 |  3.95008 | -0.0137608  |\n",
      "|  2 | 2004-11-01 00:00:00 | 4.87205 | 488507004 | 81.0643 |       0.457332 |        0.364306 |  4.41841 |  4.03788 |  0.0282731  |\n",
      "|  3 | 2004-11-02 00:00:00 | 4.84322 | 453398148 | 79.7408 |       0.464613 |        0.384367 |  4.49565 |  4.11458 | -0.00591743 |\n",
      "|  4 | 2004-11-03 00:00:00 | 4.76369 | 554992452 | 76.052  |       0.458679 |        0.39923  |  4.54439 |  4.1764  | -0.0164211  |\n",
      "+----+---------------------+---------+-----------+---------+----------------+-----------------+----------+----------+-------------+\n",
      "+------------+----------+----------+----------------+-----------------+-------------+-------------+\n",
      "|      Close |   Volume |      rsi |   MACD_12_26_9 |   MACDs_12_26_9 |      ema_10 |      ema_20 |\n",
      "|------------+----------+----------+----------------+-----------------+-------------+-------------|\n",
      "| 0.00279659 | 0.357448 | 0.879182 |       0.359553 |        0.33678  | 0           | 0           |\n",
      "| 0.0025328  | 0.511927 | 0.837271 |       0.360364 |        0.33809  | 0.000383819 | 0.000343858 |\n",
      "| 0.00306732 | 0.293317 | 0.858258 |       0.361273 |        0.339341 | 0.000797899 | 0.000707856 |\n",
      "| 0.00295229 | 0.271827 | 0.839242 |       0.361624 |        0.340421 | 0.00111516  | 0.0010258   |\n",
      "| 0.00263495 | 0.334013 | 0.786241 |       0.361338 |        0.34122  | 0.00131534  | 0.00128207  |\n",
      "+------------+----------+----------+----------------+-----------------+-------------+-------------+\n",
      "+-----------+\n",
      "|   returns |\n",
      "|-----------|\n",
      "|  2.01651  |\n",
      "| -0.770489 |\n",
      "|  1.43256  |\n",
      "| -0.359408 |\n",
      "| -0.90992  |\n",
      "+-----------+\n"
     ]
    }
   ],
   "source": [
    "df = pd.read_csv(CSV_PATH, parse_dates=[DATE_COL])\n",
    "df = df.sort_values(DATE_COL).reset_index(drop=True)\n",
    "# df[f\"next_{TARGET}\"] = df[TARGET].shift(1)\n",
    "# df = df[[DATE_COL] + FEATURES + [f\"next_{TARGET}\"]]\n",
    "df = df[[DATE_COL] + FEATURES + [TARGET]]\n",
    "df.dropna(inplace=True)\n",
    "print(tb.tabulate(df.head(), headers='keys', tablefmt='psql'))\n",
    "\n",
    "feature_scaler = MinMaxScaler()\n",
    "target_scaler = StandardScaler()\n",
    "\n",
    "feature_data = feature_scaler.fit_transform(df[FEATURES])\n",
    "target_data = target_scaler.fit_transform(df[[TARGET]])\n",
    "\n",
    "print(tb.tabulate(feature_data[:5], headers=FEATURES, tablefmt='psql'))\n",
    "print(tb.tabulate(target_data[:5], headers=[TARGET], tablefmt='psql'))"
   ]
  },
  {
   "cell_type": "code",
   "execution_count": 30,
   "id": "ee50b76e",
   "metadata": {},
   "outputs": [
    {
     "name": "stdout",
     "output_type": "stream",
     "text": [
      "Feature data shape: (5227, 50, 7)\n",
      "Target data shape: (5227, 1)\n"
     ]
    }
   ],
   "source": [
    "X, y = [], []\n",
    "dates = []\n",
    "for i in range(SEQ_LENGTH, len(feature_data)):\n",
    "    tmp = feature_data[i - SEQ_LENGTH:i]\n",
    "    X.append(tmp)\n",
    "    dates.append(df[DATE_COL].values[i])\n",
    "    y.append(target_data[i])\n",
    "\n",
    "X, y = np.array(X), np.array(y)\n",
    "\n",
    "print(f\"Feature data shape: {X.shape}\")\n",
    "print(f\"Target data shape: {y.shape}\")"
   ]
  },
  {
   "cell_type": "code",
   "execution_count": 31,
   "id": "0b96f6ba",
   "metadata": {},
   "outputs": [
    {
     "name": "stdout",
     "output_type": "stream",
     "text": [
      "Training: beg_idx=4525 -> beg=2022-12-30T00:00:00.000000000 || end_idx=5213 -> end=2025-09-30T00:00:00.000000000\n",
      "Testing:  beg_idx=5214 -> beg=2025-10-01T00:00:00.000000000 || end_idx=5226 -> end=2025-10-17T00:00:00.000000000\n",
      "X_train shape: (689, 50, 7), y_train shape: (689, 1)\n",
      "X_test shape: (13, 50, 7), y_test shape: (13, 1)\n"
     ]
    }
   ],
   "source": [
    "def find_closest_date_index(dates_array, target_date):\n",
    "    target_date = np.datetime64(target_date)\n",
    "    index = np.argmin(np.abs(dates_array - target_date))\n",
    "    return index\n",
    "\n",
    "train_beg, train_end = find_closest_date_index(dates, TRAINING_RANGE[0]), find_closest_date_index(dates, TRAINING_RANGE[1])\n",
    "test_beg, test_end = find_closest_date_index(dates, TESTING_RANGE[0]), find_closest_date_index(dates, TESTING_RANGE[1])\n",
    "\n",
    "print(f\"Training: beg_idx={train_beg} -> beg={dates[train_beg]} || end_idx={train_end} -> end={dates[train_end]}\")\n",
    "print(f\"Testing:  beg_idx={test_beg} -> beg={dates[test_beg]} || end_idx={test_end} -> end={dates[test_end]}\")\n",
    "\n",
    "X_train, y_train = X[train_beg:train_end+1], y[train_beg:train_end+1]\n",
    "X_test, y_test = X[test_beg:test_end+1], y[test_beg:test_end+1]\n",
    "\n",
    "print(f\"X_train shape: {X_train.shape}, y_train shape: {y_train.shape}\")\n",
    "print(f\"X_test shape: {X_test.shape}, y_test shape: {y_test.shape}\")"
   ]
  },
  {
   "cell_type": "code",
   "execution_count": 32,
   "id": "ef10e5c3",
   "metadata": {},
   "outputs": [
    {
     "data": {
      "text/html": [
       "<pre style=\"white-space:pre;overflow-x:auto;line-height:normal;font-family:Menlo,'DejaVu Sans Mono',consolas,'Courier New',monospace\"><span style=\"font-weight: bold\">Model: \"sequential_3\"</span>\n",
       "</pre>\n"
      ],
      "text/plain": [
       "\u001b[1mModel: \"sequential_3\"\u001b[0m\n"
      ]
     },
     "metadata": {},
     "output_type": "display_data"
    },
    {
     "data": {
      "text/html": [
       "<pre style=\"white-space:pre;overflow-x:auto;line-height:normal;font-family:Menlo,'DejaVu Sans Mono',consolas,'Courier New',monospace\">┏━━━━━━━━━━━━━━━━━━━━━━━━━━━━━━━━━┳━━━━━━━━━━━━━━━━━━━━━━━━┳━━━━━━━━━━━━━━━┓\n",
       "┃<span style=\"font-weight: bold\"> Layer (type)                    </span>┃<span style=\"font-weight: bold\"> Output Shape           </span>┃<span style=\"font-weight: bold\">       Param # </span>┃\n",
       "┡━━━━━━━━━━━━━━━━━━━━━━━━━━━━━━━━━╇━━━━━━━━━━━━━━━━━━━━━━━━╇━━━━━━━━━━━━━━━┩\n",
       "│ lstm_9 (<span style=\"color: #0087ff; text-decoration-color: #0087ff\">LSTM</span>)                   │ (<span style=\"color: #00d7ff; text-decoration-color: #00d7ff\">None</span>, <span style=\"color: #00af00; text-decoration-color: #00af00\">50</span>, <span style=\"color: #00af00; text-decoration-color: #00af00\">96</span>)         │        <span style=\"color: #00af00; text-decoration-color: #00af00\">39,936</span> │\n",
       "├─────────────────────────────────┼────────────────────────┼───────────────┤\n",
       "│ dropout_9 (<span style=\"color: #0087ff; text-decoration-color: #0087ff\">Dropout</span>)             │ (<span style=\"color: #00d7ff; text-decoration-color: #00d7ff\">None</span>, <span style=\"color: #00af00; text-decoration-color: #00af00\">50</span>, <span style=\"color: #00af00; text-decoration-color: #00af00\">96</span>)         │             <span style=\"color: #00af00; text-decoration-color: #00af00\">0</span> │\n",
       "├─────────────────────────────────┼────────────────────────┼───────────────┤\n",
       "│ lstm_10 (<span style=\"color: #0087ff; text-decoration-color: #0087ff\">LSTM</span>)                  │ (<span style=\"color: #00d7ff; text-decoration-color: #00d7ff\">None</span>, <span style=\"color: #00af00; text-decoration-color: #00af00\">50</span>, <span style=\"color: #00af00; text-decoration-color: #00af00\">96</span>)         │        <span style=\"color: #00af00; text-decoration-color: #00af00\">74,112</span> │\n",
       "├─────────────────────────────────┼────────────────────────┼───────────────┤\n",
       "│ dropout_10 (<span style=\"color: #0087ff; text-decoration-color: #0087ff\">Dropout</span>)            │ (<span style=\"color: #00d7ff; text-decoration-color: #00d7ff\">None</span>, <span style=\"color: #00af00; text-decoration-color: #00af00\">50</span>, <span style=\"color: #00af00; text-decoration-color: #00af00\">96</span>)         │             <span style=\"color: #00af00; text-decoration-color: #00af00\">0</span> │\n",
       "├─────────────────────────────────┼────────────────────────┼───────────────┤\n",
       "│ lstm_11 (<span style=\"color: #0087ff; text-decoration-color: #0087ff\">LSTM</span>)                  │ (<span style=\"color: #00d7ff; text-decoration-color: #00d7ff\">None</span>, <span style=\"color: #00af00; text-decoration-color: #00af00\">96</span>)             │        <span style=\"color: #00af00; text-decoration-color: #00af00\">74,112</span> │\n",
       "├─────────────────────────────────┼────────────────────────┼───────────────┤\n",
       "│ dropout_11 (<span style=\"color: #0087ff; text-decoration-color: #0087ff\">Dropout</span>)            │ (<span style=\"color: #00d7ff; text-decoration-color: #00d7ff\">None</span>, <span style=\"color: #00af00; text-decoration-color: #00af00\">96</span>)             │             <span style=\"color: #00af00; text-decoration-color: #00af00\">0</span> │\n",
       "├─────────────────────────────────┼────────────────────────┼───────────────┤\n",
       "│ dense_3 (<span style=\"color: #0087ff; text-decoration-color: #0087ff\">Dense</span>)                 │ (<span style=\"color: #00d7ff; text-decoration-color: #00d7ff\">None</span>, <span style=\"color: #00af00; text-decoration-color: #00af00\">32</span>)             │         <span style=\"color: #00af00; text-decoration-color: #00af00\">3,104</span> │\n",
       "├─────────────────────────────────┼────────────────────────┼───────────────┤\n",
       "│ dense_4 (<span style=\"color: #0087ff; text-decoration-color: #0087ff\">Dense</span>)                 │ (<span style=\"color: #00d7ff; text-decoration-color: #00d7ff\">None</span>, <span style=\"color: #00af00; text-decoration-color: #00af00\">1</span>)              │            <span style=\"color: #00af00; text-decoration-color: #00af00\">33</span> │\n",
       "└─────────────────────────────────┴────────────────────────┴───────────────┘\n",
       "</pre>\n"
      ],
      "text/plain": [
       "┏━━━━━━━━━━━━━━━━━━━━━━━━━━━━━━━━━┳━━━━━━━━━━━━━━━━━━━━━━━━┳━━━━━━━━━━━━━━━┓\n",
       "┃\u001b[1m \u001b[0m\u001b[1mLayer (type)                   \u001b[0m\u001b[1m \u001b[0m┃\u001b[1m \u001b[0m\u001b[1mOutput Shape          \u001b[0m\u001b[1m \u001b[0m┃\u001b[1m \u001b[0m\u001b[1m      Param #\u001b[0m\u001b[1m \u001b[0m┃\n",
       "┡━━━━━━━━━━━━━━━━━━━━━━━━━━━━━━━━━╇━━━━━━━━━━━━━━━━━━━━━━━━╇━━━━━━━━━━━━━━━┩\n",
       "│ lstm_9 (\u001b[38;5;33mLSTM\u001b[0m)                   │ (\u001b[38;5;45mNone\u001b[0m, \u001b[38;5;34m50\u001b[0m, \u001b[38;5;34m96\u001b[0m)         │        \u001b[38;5;34m39,936\u001b[0m │\n",
       "├─────────────────────────────────┼────────────────────────┼───────────────┤\n",
       "│ dropout_9 (\u001b[38;5;33mDropout\u001b[0m)             │ (\u001b[38;5;45mNone\u001b[0m, \u001b[38;5;34m50\u001b[0m, \u001b[38;5;34m96\u001b[0m)         │             \u001b[38;5;34m0\u001b[0m │\n",
       "├─────────────────────────────────┼────────────────────────┼───────────────┤\n",
       "│ lstm_10 (\u001b[38;5;33mLSTM\u001b[0m)                  │ (\u001b[38;5;45mNone\u001b[0m, \u001b[38;5;34m50\u001b[0m, \u001b[38;5;34m96\u001b[0m)         │        \u001b[38;5;34m74,112\u001b[0m │\n",
       "├─────────────────────────────────┼────────────────────────┼───────────────┤\n",
       "│ dropout_10 (\u001b[38;5;33mDropout\u001b[0m)            │ (\u001b[38;5;45mNone\u001b[0m, \u001b[38;5;34m50\u001b[0m, \u001b[38;5;34m96\u001b[0m)         │             \u001b[38;5;34m0\u001b[0m │\n",
       "├─────────────────────────────────┼────────────────────────┼───────────────┤\n",
       "│ lstm_11 (\u001b[38;5;33mLSTM\u001b[0m)                  │ (\u001b[38;5;45mNone\u001b[0m, \u001b[38;5;34m96\u001b[0m)             │        \u001b[38;5;34m74,112\u001b[0m │\n",
       "├─────────────────────────────────┼────────────────────────┼───────────────┤\n",
       "│ dropout_11 (\u001b[38;5;33mDropout\u001b[0m)            │ (\u001b[38;5;45mNone\u001b[0m, \u001b[38;5;34m96\u001b[0m)             │             \u001b[38;5;34m0\u001b[0m │\n",
       "├─────────────────────────────────┼────────────────────────┼───────────────┤\n",
       "│ dense_3 (\u001b[38;5;33mDense\u001b[0m)                 │ (\u001b[38;5;45mNone\u001b[0m, \u001b[38;5;34m32\u001b[0m)             │         \u001b[38;5;34m3,104\u001b[0m │\n",
       "├─────────────────────────────────┼────────────────────────┼───────────────┤\n",
       "│ dense_4 (\u001b[38;5;33mDense\u001b[0m)                 │ (\u001b[38;5;45mNone\u001b[0m, \u001b[38;5;34m1\u001b[0m)              │            \u001b[38;5;34m33\u001b[0m │\n",
       "└─────────────────────────────────┴────────────────────────┴───────────────┘\n"
      ]
     },
     "metadata": {},
     "output_type": "display_data"
    },
    {
     "data": {
      "text/html": [
       "<pre style=\"white-space:pre;overflow-x:auto;line-height:normal;font-family:Menlo,'DejaVu Sans Mono',consolas,'Courier New',monospace\"><span style=\"font-weight: bold\"> Total params: </span><span style=\"color: #00af00; text-decoration-color: #00af00\">191,297</span> (747.25 KB)\n",
       "</pre>\n"
      ],
      "text/plain": [
       "\u001b[1m Total params: \u001b[0m\u001b[38;5;34m191,297\u001b[0m (747.25 KB)\n"
      ]
     },
     "metadata": {},
     "output_type": "display_data"
    },
    {
     "data": {
      "text/html": [
       "<pre style=\"white-space:pre;overflow-x:auto;line-height:normal;font-family:Menlo,'DejaVu Sans Mono',consolas,'Courier New',monospace\"><span style=\"font-weight: bold\"> Trainable params: </span><span style=\"color: #00af00; text-decoration-color: #00af00\">191,297</span> (747.25 KB)\n",
       "</pre>\n"
      ],
      "text/plain": [
       "\u001b[1m Trainable params: \u001b[0m\u001b[38;5;34m191,297\u001b[0m (747.25 KB)\n"
      ]
     },
     "metadata": {},
     "output_type": "display_data"
    },
    {
     "data": {
      "text/html": [
       "<pre style=\"white-space:pre;overflow-x:auto;line-height:normal;font-family:Menlo,'DejaVu Sans Mono',consolas,'Courier New',monospace\"><span style=\"font-weight: bold\"> Non-trainable params: </span><span style=\"color: #00af00; text-decoration-color: #00af00\">0</span> (0.00 B)\n",
       "</pre>\n"
      ],
      "text/plain": [
       "\u001b[1m Non-trainable params: \u001b[0m\u001b[38;5;34m0\u001b[0m (0.00 B)\n"
      ]
     },
     "metadata": {},
     "output_type": "display_data"
    }
   ],
   "source": [
    "def create_model():\n",
    "    model = Sequential()\n",
    "    \n",
    "    model.add(Input(shape=(SEQ_LENGTH, len(FEATURES))))\n",
    "    \n",
    "    model.add(LSTM(96, return_sequences=True))\n",
    "    model.add(Dropout(0.1))\n",
    "    \n",
    "    model.add(LSTM(96, return_sequences=True))\n",
    "    model.add(Dropout(0.05))\n",
    "    \n",
    "    model.add(LSTM(96))\n",
    "    model.add(Dropout(0.05))\n",
    "    \n",
    "    model.add(Dense(32, activation='relu'))\n",
    "    model.add(Dense(1))\n",
    "    \n",
    "    model.compile(\n",
    "        optimizer=keras.optimizers.Adam(learning_rate=LEARNING_RATE),\n",
    "        loss=Huber(delta=1.0),\n",
    "        metrics=[\"mae\"]\n",
    "    )\n",
    "    model.summary()\n",
    "    return model\n",
    "\n",
    "model = create_model()"
   ]
  },
  {
   "cell_type": "code",
   "execution_count": 33,
   "id": "efe752fb",
   "metadata": {},
   "outputs": [
    {
     "name": "stdout",
     "output_type": "stream",
     "text": [
      "Epoch 1/15\n",
      "\u001b[1m22/22\u001b[0m \u001b[32m━━━━━━━━━━━━━━━━━━━━\u001b[0m\u001b[37m\u001b[0m \u001b[1m10s\u001b[0m 74ms/step - loss: 0.3694 - mae: 0.7168\n",
      "Epoch 2/15\n",
      "\u001b[1m22/22\u001b[0m \u001b[32m━━━━━━━━━━━━━━━━━━━━\u001b[0m\u001b[37m\u001b[0m \u001b[1m2s\u001b[0m 73ms/step - loss: 0.3692 - mae: 0.7167\n",
      "Epoch 3/15\n",
      "\u001b[1m22/22\u001b[0m \u001b[32m━━━━━━━━━━━━━━━━━━━━\u001b[0m\u001b[37m\u001b[0m \u001b[1m2s\u001b[0m 72ms/step - loss: 0.3685 - mae: 0.7158\n",
      "Epoch 4/15\n",
      "\u001b[1m22/22\u001b[0m \u001b[32m━━━━━━━━━━━━━━━━━━━━\u001b[0m\u001b[37m\u001b[0m \u001b[1m2s\u001b[0m 71ms/step - loss: 0.3691 - mae: 0.7176\n",
      "Epoch 5/15\n",
      "\u001b[1m22/22\u001b[0m \u001b[32m━━━━━━━━━━━━━━━━━━━━\u001b[0m\u001b[37m\u001b[0m \u001b[1m2s\u001b[0m 74ms/step - loss: 0.3688 - mae: 0.7161\n",
      "Epoch 6/15\n",
      "\u001b[1m22/22\u001b[0m \u001b[32m━━━━━━━━━━━━━━━━━━━━\u001b[0m\u001b[37m\u001b[0m \u001b[1m2s\u001b[0m 74ms/step - loss: 0.3685 - mae: 0.7159\n",
      "Epoch 7/15\n",
      "\u001b[1m22/22\u001b[0m \u001b[32m━━━━━━━━━━━━━━━━━━━━\u001b[0m\u001b[37m\u001b[0m \u001b[1m2s\u001b[0m 72ms/step - loss: 0.3681 - mae: 0.7153\n",
      "Epoch 8/15\n",
      "\u001b[1m22/22\u001b[0m \u001b[32m━━━━━━━━━━━━━━━━━━━━\u001b[0m\u001b[37m\u001b[0m \u001b[1m2s\u001b[0m 78ms/step - loss: 0.3689 - mae: 0.7163\n",
      "Epoch 9/15\n",
      "\u001b[1m22/22\u001b[0m \u001b[32m━━━━━━━━━━━━━━━━━━━━\u001b[0m\u001b[37m\u001b[0m \u001b[1m2s\u001b[0m 73ms/step - loss: 0.3684 - mae: 0.7159\n",
      "Epoch 10/15\n",
      "\u001b[1m22/22\u001b[0m \u001b[32m━━━━━━━━━━━━━━━━━━━━\u001b[0m\u001b[37m\u001b[0m \u001b[1m2s\u001b[0m 74ms/step - loss: 0.3688 - mae: 0.7156\n",
      "Epoch 11/15\n",
      "\u001b[1m22/22\u001b[0m \u001b[32m━━━━━━━━━━━━━━━━━━━━\u001b[0m\u001b[37m\u001b[0m \u001b[1m2s\u001b[0m 73ms/step - loss: 0.3686 - mae: 0.7160\n",
      "Epoch 12/15\n",
      "\u001b[1m22/22\u001b[0m \u001b[32m━━━━━━━━━━━━━━━━━━━━\u001b[0m\u001b[37m\u001b[0m \u001b[1m2s\u001b[0m 74ms/step - loss: 0.3691 - mae: 0.7173\n",
      "Epoch 13/15\n",
      "\u001b[1m22/22\u001b[0m \u001b[32m━━━━━━━━━━━━━━━━━━━━\u001b[0m\u001b[37m\u001b[0m \u001b[1m2s\u001b[0m 72ms/step - loss: 0.3688 - mae: 0.7165\n",
      "Epoch 14/15\n",
      "\u001b[1m22/22\u001b[0m \u001b[32m━━━━━━━━━━━━━━━━━━━━\u001b[0m\u001b[37m\u001b[0m \u001b[1m2s\u001b[0m 75ms/step - loss: 0.3690 - mae: 0.7172\n",
      "Epoch 15/15\n",
      "\u001b[1m22/22\u001b[0m \u001b[32m━━━━━━━━━━━━━━━━━━━━\u001b[0m\u001b[37m\u001b[0m \u001b[1m2s\u001b[0m 75ms/step - loss: 0.3686 - mae: 0.7161\n"
     ]
    }
   ],
   "source": [
    "history = model.fit(\n",
    "    X_train, y_train,\n",
    "    epochs=EPOCHS,\n",
    "    batch_size=BATCH_SIZE,\n",
    "    verbose=1\n",
    ")"
   ]
  },
  {
   "cell_type": "code",
   "execution_count": 34,
   "id": "e3c6164f",
   "metadata": {},
   "outputs": [
    {
     "name": "stdout",
     "output_type": "stream",
     "text": [
      "\u001b[1m1/1\u001b[0m \u001b[32m━━━━━━━━━━━━━━━━━━━━\u001b[0m\u001b[37m\u001b[0m \u001b[1m1s\u001b[0m 734ms/step\n",
      "+----+---------------------+-------------+-------------+\n",
      "|    | Date                |      Actual |   Predicted |\n",
      "|----+---------------------+-------------+-------------|\n",
      "|  0 | 2025-10-01 00:00:00 |  0.00740431 |  0.0017833  |\n",
      "|  1 | 2025-10-02 00:00:00 |  0.00322584 |  0.00179546 |\n",
      "|  2 | 2025-10-03 00:00:00 | -0.00138384 |  0.00180805 |\n",
      "|  3 | 2025-10-06 00:00:00 |  0.0207051  |  0.00182039 |\n",
      "|  4 | 2025-10-07 00:00:00 | -0.0186479  |  0.00183127 |\n",
      "|  5 | 2025-10-08 00:00:00 | -0.00463867 |  0.00184102 |\n",
      "|  6 | 2025-10-09 00:00:00 | -0.0126318  |  0.00184948 |\n",
      "|  7 | 2025-10-10 00:00:00 | -0.0205357  |  0.00185708 |\n",
      "|  8 | 2025-10-13 00:00:00 |  0.0320412  |  0.00186454 |\n",
      "|  9 | 2025-10-14 00:00:00 |  0.00532461 |  0.00187091 |\n",
      "| 10 | 2025-10-15 00:00:00 |  0.0227338  |  0.00187591 |\n",
      "| 11 | 2025-10-16 00:00:00 |  0.00171297 |  0.00187876 |\n",
      "| 12 | 2025-10-17 00:00:00 |  0.00731725 |  0.00187916 |\n",
      "+----+---------------------+-------------+-------------+\n",
      "Test MSE: 0.000\n",
      "Test MAE: 0.012\n",
      "Test R2: -0.009\n",
      "Direction Prediction Accuracy: 61.54%\n"
     ]
    },
    {
     "data": {
      "image/png": "[encoded data removed]",
      "text/plain": [
       "<Figure size 1400x500 with 1 Axes>"
      ]
     },
     "metadata": {},
     "output_type": "display_data"
    }
   ],
   "source": [
    "predictions_scaled = model.predict(X_test)\n",
    "predictions = target_scaler.inverse_transform(predictions_scaled).flatten()\n",
    "y_test_unscaled = target_scaler.inverse_transform(y_test).flatten()\n",
    "\n",
    "comp_df = pd.DataFrame({\n",
    "    'Date': df[DATE_COL].values[test_beg + SEQ_LENGTH:test_end + SEQ_LENGTH + 1],\n",
    "    'Actual': y_test_unscaled,\n",
    "    'Predicted': predictions\n",
    "})\n",
    "print(tb.tabulate(comp_df, headers='keys', tablefmt='psql'))\n",
    "\n",
    "mse = mean_squared_error(y_test_unscaled, predictions)\n",
    "mae = mean_absolute_error(y_test_unscaled, predictions)\n",
    "r2 = r2_score(y_test_unscaled, predictions)\n",
    "print(f\"Test MSE: {mse:.3f}\")\n",
    "print(f\"Test MAE: {mae:.3f}\")\n",
    "print(f\"Test R2: {r2:.3f}\")\n",
    "\n",
    "direction_correct = np.sum((np.sign(y_test_unscaled) == np.sign(predictions)).astype(int))\n",
    "direction_accuracy = direction_correct / len(y_test_unscaled)\n",
    "print(f\"Direction Prediction Accuracy: {direction_accuracy * 100:.2f}%\")\n",
    "\n",
    "plt.figure(figsize=(14, 5))\n",
    "plt.plot(y_test_unscaled, color='blue', label='Actual Returns')\n",
    "plt.plot(predictions, color='red', label='Predicted Returns')\n",
    "plt.title('Actual vs Predicted Returns')\n",
    "plt.xlabel('Time')\n",
    "plt.ylabel('Returns')\n",
    "plt.legend()\n",
    "plt.show()"
   ]
  }
 ],
 "metadata": {
  "kernelspec": {
   "display_name": ".venv",
   "language": "python",
   "name": "python3"
  },
  "language_info": {
   "codemirror_mode": {
    "name": "ipython",
    "version": 3
   },
   "file_extension": ".py",
   "mimetype": "text/x-python",
   "name": "python",
   "nbconvert_exporter": "python",
   "pygments_lexer": "ipython3",
   "version": "3.12.3"
  }
 },
 "nbformat": 4,
 "nbformat_minor": 5
}
