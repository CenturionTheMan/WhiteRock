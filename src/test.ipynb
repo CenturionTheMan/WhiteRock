{
 "cells": [
  {
   "cell_type": "code",
   "execution_count": 130,
   "id": "872719e5",
   "metadata": {},
   "outputs": [],
   "source": [
    "import pandas as pd\n",
    "import numpy as np\n",
    "import matplotlib.pyplot as plt\n",
    "from sklearn.preprocessing import MinMaxScaler, StandardScaler\n",
    "from sklearn.metrics import mean_squared_error, mean_absolute_error, r2_score\n",
    "from sklearn.model_selection import train_test_split\n",
    "import tensorflow as tf\n",
    "from tensorflow import keras\n",
    "import joblib\n",
    "import tabulate as tb\n",
    "from tensorflow.keras.layers import LSTM, Dense, Dropout, Input\n",
    "from tensorflow.keras.models import Sequential\n",
    "from tensorflow.keras.losses import Huber\n",
    "from tensorflow.keras import Sequential, layers, optimizers, losses\n",
    "from sklearn.metrics import accuracy_score, precision_score, recall_score, f1_score, confusion_matrix\n",
    "\n"
   ]
  },
  {
   "cell_type": "code",
   "execution_count": 131,
   "id": "e8788a3a",
   "metadata": {},
   "outputs": [],
   "source": [
    "CSV_PATH = './../data/GOOGL.csv'\n",
    "DATE_COL = 'Date'\n",
    "\n",
    "SEQ_LENGTH = 30\n",
    "BATCH_SIZE = 32\n",
    "LEARNING_RATE = 0.001\n",
    "EPOCHS = 100\n",
    "VAL_SPLIT = 0.1\n",
    "\n",
    "FEATURES = [\n",
    "    'Open', 'High', 'Low', 'Close', 'Volume',\n",
    "    'rsi', 'MACD_12_26_9', 'MACDh_12_26_9', 'MACDs_12_26_9',\n",
    "    'BBL_20_2.0_2.0','BBM_20_2.0_2.0','BBU_20_2.0_2.0','BBB_20_2.0_2.0','BBP_20_2.0_2.0',\n",
    "    'ema_10','ema_20','ema_50','atr','stoch_k','stoch_d'\n",
    "]\n",
    "\n",
    "TARGET = 'direction'\n",
    "\n",
    "TRAINING_RANGE = ('2022-01-01', '2025-09-30')\n",
    "TESTING_RANGE = ('2025-10-01', '2025-10-22')"
   ]
  },
  {
   "cell_type": "code",
   "execution_count": 132,
   "id": "533b6fa3",
   "metadata": {},
   "outputs": [],
   "source": [
    "SEED = 42\n",
    "np.random.seed(SEED)\n",
    "tf.random.set_seed(SEED)"
   ]
  },
  {
   "cell_type": "code",
   "execution_count": 133,
   "id": "0d57f806",
   "metadata": {},
   "outputs": [
    {
     "name": "stdout",
     "output_type": "stream",
     "text": [
      "+----+---------+---------+---------+---------+-------------+---------+----------------+-----------------+-----------------+------------------+------------------+------------------+------------------+------------------+----------+----------+----------+----------+-----------+-----------+\n",
      "|    |    Open |    High |     Low |   Close |      Volume |     rsi |   MACD_12_26_9 |   MACDh_12_26_9 |   MACDs_12_26_9 |   BBL_20_2.0_2.0 |   BBM_20_2.0_2.0 |   BBU_20_2.0_2.0 |   BBB_20_2.0_2.0 |   BBP_20_2.0_2.0 |   ema_10 |   ema_20 |   ema_50 |      atr |   stoch_k |   stoch_d |\n",
      "|----+---------+---------+---------+---------+-------------+---------+----------------+-----------------+-----------------+------------------+------------------+------------------+------------------+------------------+----------+----------+----------+----------+-----------+-----------|\n",
      "|  0 | 4.63967 | 4.83129 | 4.61283 | 4.8042  | 5.93278e+08 | 82.5207 |       0.421614 |       0.104915  |        0.316699 |          2.7546  |          3.76185 |          4.76911 |          53.5512 |         1.01742  |  4.22416 |  3.86713 |  3.15757 | 0.211765 |   87.8639 |   85.4616 |\n",
      "|  1 | 4.94313 | 4.96948 | 4.7371  | 4.73809 | 8.45654e+08 | 79.6037 |       0.438451 |       0.0974012 |        0.34105  |          2.76283 |          3.834   |          4.90518 |          55.8778 |         0.922006 |  4.31761 |  3.95008 |  3.21955 | 0.213238 |   90.099  |   87.5348 |\n",
      "|  2 | 4.81042 | 4.91281 | 4.75375 | 4.87205 | 4.88507e+08 | 81.0644 |       0.457332 |       0.0930258 |        0.364306 |          2.76865 |          3.90977 |          5.05089 |          58.3726 |         0.92164  |  4.41841 |  4.03788 |  3.28436 | 0.210486 |   92.5912 |   90.1847 |\n",
      "|  3 | 4.9404  | 4.95208 | 4.8052  | 4.84322 | 4.53398e+08 | 79.7408 |       0.464613 |       0.0802455 |        0.384367 |          2.78911 |          3.97998 |          5.17085 |          59.843  |         0.862441 |  4.49565 |  4.11458 |  3.34549 | 0.205944 |   90.45   |   91.0467 |\n",
      "|  4 | 4.92549 | 5.01049 | 4.74083 | 4.76369 | 5.54992e+08 | 76.0521 |       0.458678 |       0.0594488 |        0.39923  |          2.83994 |          4.04782 |          5.2557  |          59.6804 |         0.796334 |  4.54439 |  4.1764  |  3.4011  | 0.210495 |   89.7745 |   90.9386 |\n",
      "+----+---------+---------+---------+---------+-------------+---------+----------------+-----------------+-----------------+------------------+------------------+------------------+------------------+------------------+----------+----------+----------+----------+-----------+-----------+\n",
      "+-------------+\n",
      "|   direction |\n",
      "|-------------|\n",
      "|           1 |\n",
      "|           0 |\n",
      "|           1 |\n",
      "|           0 |\n",
      "|           0 |\n",
      "+-------------+\n",
      "direction\n",
      "1    0.525289\n",
      "0    0.474711\n",
      "Name: proportion, dtype: float64\n"
     ]
    }
   ],
   "source": [
    "df = pd.read_csv(CSV_PATH, parse_dates=[DATE_COL])\n",
    "df = df.sort_values(DATE_COL).reset_index(drop=True)\n",
    "df = df[[DATE_COL] + FEATURES + [TARGET]]\n",
    "df.dropna(inplace=True)\n",
    "\n",
    "feature_data = df[FEATURES]\n",
    "target_data = df[[TARGET]].values\n",
    "\n",
    "print(tb.tabulate(feature_data[:5], headers=FEATURES, tablefmt='psql'))\n",
    "print(tb.tabulate(target_data[:5], headers=[TARGET], tablefmt='psql'))\n",
    "print(df[TARGET].value_counts(normalize=True))"
   ]
  },
  {
   "cell_type": "code",
   "execution_count": 134,
   "id": "ee50b76e",
   "metadata": {},
   "outputs": [
    {
     "name": "stdout",
     "output_type": "stream",
     "text": [
      "Feature data shape: (5249, 30, 20)\n",
      "Target data shape: (5249, 1)\n"
     ]
    }
   ],
   "source": [
    "X, y = [], []\n",
    "dates = []\n",
    "for i in range(SEQ_LENGTH, len(feature_data)):\n",
    "    tmp = feature_data[i - SEQ_LENGTH:i]\n",
    "    X.append(tmp)\n",
    "    dates.append(df[DATE_COL].values[i])\n",
    "    y.append(target_data[i])\n",
    "\n",
    "X, y = np.array(X), np.array(y)\n",
    "\n",
    "print(f\"Feature data shape: {X.shape}\")\n",
    "print(f\"Target data shape: {y.shape}\")"
   ]
  },
  {
   "cell_type": "code",
   "execution_count": 135,
   "id": "0b96f6ba",
   "metadata": {},
   "outputs": [
    {
     "name": "stdout",
     "output_type": "stream",
     "text": [
      "Training: beg_idx=4294 -> beg=2021-12-31T00:00:00.000000000 || end_idx=5233 -> end=2025-09-30T00:00:00.000000000\n",
      "Testing:  beg_idx=5234 -> beg=2025-10-01T00:00:00.000000000 || end_idx=5248 -> end=2025-10-21T00:00:00.000000000\n",
      "X_train shape: (846, 30, 20), y_train shape: (846, 1)\n",
      "X_val shape: (94, 30, 20), y_val shape: (94, 1)\n",
      "X_test shape: (15, 30, 20), y_test shape: (15, 1)\n",
      "+----------+----------+----------+----------+------------+------------+----------------+-----------------+-----------------+------------------+------------------+------------------+------------------+------------------+----------+----------+----------+----------+-----------+-----------+\n",
      "|     Open |     High |      Low |    Close |     Volume |        rsi |   MACD_12_26_9 |   MACDh_12_26_9 |   MACDs_12_26_9 |   BBL_20_2.0_2.0 |   BBM_20_2.0_2.0 |   BBU_20_2.0_2.0 |   BBB_20_2.0_2.0 |   BBP_20_2.0_2.0 |   ema_10 |   ema_20 |   ema_50 |      atr |   stoch_k |   stoch_d |\n",
      "|----------+----------+----------+----------+------------+------------+----------------+-----------------+-----------------+------------------+------------------+------------------+------------------+------------------+----------+----------+----------+----------+-----------+-----------|\n",
      "| 0.386327 | 0.345866 | 0.415261 | 0.385621 | -0.927253  |  0.635003  |       0.684396 |      0.00379742 |        0.731524 |         0.365986 |         0.310264 |         0.254495 |        -0.545232 |         0.450115 | 0.36913  | 0.324109 | 0.233642 | -1.11001 |  0.614595 |  0.8128   |\n",
      "| 0.393642 | 0.414579 | 0.437454 | 0.446943 |  0.298442  |  0.969198  |       0.710932 |      0.0773933  |        0.735852 |         0.379598 |         0.324081 |         0.268317 |        -0.545794 |         0.736955 | 0.384534 | 0.337213 | 0.243991 | -1.11329 |  0.718846 |  0.749871 |\n",
      "| 0.452909 | 0.427703 | 0.472389 | 0.415725 |  0.151028  |  0.709626  |       0.695899 |      0.0274636  |        0.736095 |         0.437078 |         0.343819 |         0.252843 |        -0.829183 |         0.509721 | 0.391401 | 0.346033 | 0.252635 | -1.17527 |  0.793603 |  0.733796 |\n",
      "| 0.430932 | 0.389045 | 0.377639 | 0.325891 | -0.0853243 |  0.0388724 |       0.597587 |     -0.230458   |        0.715238 |         0.510854 |         0.359204 |         0.213956 |        -1.26316  |        -0.280473 | 0.38051  | 0.345275 | 0.257203 | -1.08143 |  0.345122 |  0.640852 |\n",
      "| 0.322255 | 0.281283 | 0.307648 | 0.308092 | -0.34372   | -0.0830045 |       0.497677 |     -0.440977   |        0.677157 |         0.577685 |         0.370451 |         0.173585 |        -1.6741   |        -0.777402 | 0.368328 | 0.342858 | 0.260851 | -1.10091 | -0.427944 |  0.245307 |\n",
      "+----------+----------+----------+----------+------------+------------+----------------+-----------------+-----------------+------------------+------------------+------------------+------------------+------------------+----------+----------+----------+----------+-----------+-----------+\n"
     ]
    }
   ],
   "source": [
    "def find_closest_date_index(dates_array, target_date):\n",
    "    target_date = np.datetime64(target_date)\n",
    "    index = np.argmin(np.abs(dates_array - target_date))\n",
    "    return index\n",
    "\n",
    "train_beg, train_end = find_closest_date_index(dates, TRAINING_RANGE[0]), find_closest_date_index(dates, TRAINING_RANGE[1])\n",
    "test_beg, test_end = find_closest_date_index(dates, TESTING_RANGE[0]), find_closest_date_index(dates, TESTING_RANGE[1])\n",
    "\n",
    "print(f\"Training: beg_idx={train_beg} -> beg={dates[train_beg]} || end_idx={train_end} -> end={dates[train_end]}\")\n",
    "print(f\"Testing:  beg_idx={test_beg} -> beg={dates[test_beg]} || end_idx={test_end} -> end={dates[test_end]}\")\n",
    "\n",
    "X_train_val, y_train_val = X[train_beg:train_end+1], y[train_beg:train_end+1]\n",
    "split_index = int(len(X_train_val) * (1 - VAL_SPLIT))\n",
    "\n",
    "X_train, y_train = X_train_val[:split_index], y_train_val[:split_index]\n",
    "X_val, y_val = X_train_val[split_index:], y_train_val[split_index:]\n",
    "X_test, y_test = X[test_beg:test_end+1], y[test_beg:test_end+1]\n",
    "\n",
    "print(f\"X_train shape: {X_train.shape}, y_train shape: {y_train.shape}\")\n",
    "print(f\"X_val shape: {X_val.shape}, y_val shape: {y_val.shape}\")\n",
    "print(f\"X_test shape: {X_test.shape}, y_test shape: {y_test.shape}\")\n",
    "\n",
    "feature_scaler = StandardScaler()#MinMaxScaler()\n",
    "feature_scaler.fit(X_train.reshape(-1, X_train.shape[-1]))\n",
    "X_train = feature_scaler.transform(X_train.reshape(-1, X_train.shape[-1])).reshape(X_train.shape)\n",
    "X_val = feature_scaler.transform(X_val.reshape(-1, X_val.shape[-1])).reshape(X_val.shape)\n",
    "X_test = feature_scaler.transform(X_test.reshape(-1, X_test.shape[-1])).reshape(X_test.shape)\n",
    "\n",
    "print(tb.tabulate(X_train[0][:5], headers=FEATURES, tablefmt='psql'))"
   ]
  },
  {
   "cell_type": "code",
   "execution_count": 136,
   "id": "ef10e5c3",
   "metadata": {},
   "outputs": [],
   "source": [
    "def create_financial_model(seq_length, feature_count, learning_rate):\n",
    "    inputs = layers.Input(shape=(seq_length, feature_count))\n",
    "\n",
    "    x = layers.Bidirectional(layers.LSTM(96, return_sequences=True, recurrent_dropout=0.2))(inputs)\n",
    "    x = layers.LayerNormalization()(x)\n",
    "    x = layers.Bidirectional(layers.LSTM(96, return_sequences=False))(x)\n",
    "    x = layers.LayerNormalization()(x)\n",
    "    \n",
    "    x = layers.Dense(128, activation='relu')(x)\n",
    "    x = layers.BatchNormalization()(x)\n",
    "    x = layers.Dropout(0.3)(x)\n",
    "    \n",
    "    x = layers.Dense(64, activation='relu')(x)\n",
    "    x = layers.BatchNormalization()(x)\n",
    "    \n",
    "    outputs = layers.Dense(1, activation='sigmoid')(x)\n",
    "\n",
    "    model = tf.keras.Model(inputs, outputs)\n",
    "    model.compile(\n",
    "        optimizer=optimizers.Adam(learning_rate=learning_rate),\n",
    "        loss='binary_crossentropy',\n",
    "        metrics=['accuracy']\n",
    "    )\n",
    "    return model\n",
    "\n",
    "\n",
    "model = create_financial_model(SEQ_LENGTH, len(FEATURES), LEARNING_RATE)"
   ]
  },
  {
   "cell_type": "code",
   "execution_count": 137,
   "id": "efe752fb",
   "metadata": {},
   "outputs": [
    {
     "name": "stdout",
     "output_type": "stream",
     "text": [
      "Epoch 1/100\n",
      "\u001b[1m27/27\u001b[0m \u001b[32m━━━━━━━━━━━━━━━━━━━━\u001b[0m\u001b[37m\u001b[0m \u001b[1m10s\u001b[0m 69ms/step - accuracy: 0.5012 - loss: 0.8777 - val_accuracy: 0.5745 - val_loss: 0.7874 - learning_rate: 0.0010\n",
      "Epoch 2/100\n",
      "\u001b[1m27/27\u001b[0m \u001b[32m━━━━━━━━━━━━━━━━━━━━\u001b[0m\u001b[37m\u001b[0m \u001b[1m1s\u001b[0m 47ms/step - accuracy: 0.5319 - loss: 0.7547 - val_accuracy: 0.5745 - val_loss: 0.7308 - learning_rate: 0.0010\n",
      "Epoch 3/100\n",
      "\u001b[1m27/27\u001b[0m \u001b[32m━━━━━━━━━━━━━━━━━━━━\u001b[0m\u001b[37m\u001b[0m \u001b[1m1s\u001b[0m 48ms/step - accuracy: 0.5697 - loss: 0.7109 - val_accuracy: 0.5745 - val_loss: 0.8080 - learning_rate: 0.0010\n",
      "Epoch 4/100\n",
      "\u001b[1m27/27\u001b[0m \u001b[32m━━━━━━━━━━━━━━━━━━━━\u001b[0m\u001b[37m\u001b[0m \u001b[1m1s\u001b[0m 44ms/step - accuracy: 0.5603 - loss: 0.6990 - val_accuracy: 0.5745 - val_loss: 0.7581 - learning_rate: 0.0010\n",
      "Epoch 5/100\n",
      "\u001b[1m27/27\u001b[0m \u001b[32m━━━━━━━━━━━━━━━━━━━━\u001b[0m\u001b[37m\u001b[0m \u001b[1m1s\u001b[0m 41ms/step - accuracy: 0.5969 - loss: 0.6767 - val_accuracy: 0.5957 - val_loss: 0.7073 - learning_rate: 0.0010\n",
      "Epoch 6/100\n",
      "\u001b[1m27/27\u001b[0m \u001b[32m━━━━━━━━━━━━━━━━━━━━\u001b[0m\u001b[37m\u001b[0m \u001b[1m1s\u001b[0m 42ms/step - accuracy: 0.6123 - loss: 0.6685 - val_accuracy: 0.5745 - val_loss: 0.6879 - learning_rate: 0.0010\n",
      "Epoch 7/100\n",
      "\u001b[1m27/27\u001b[0m \u001b[32m━━━━━━━━━━━━━━━━━━━━\u001b[0m\u001b[37m\u001b[0m \u001b[1m1s\u001b[0m 42ms/step - accuracy: 0.5816 - loss: 0.6802 - val_accuracy: 0.5213 - val_loss: 0.6953 - learning_rate: 0.0010\n",
      "Epoch 8/100\n",
      "\u001b[1m27/27\u001b[0m \u001b[32m━━━━━━━━━━━━━━━━━━━━\u001b[0m\u001b[37m\u001b[0m \u001b[1m1s\u001b[0m 41ms/step - accuracy: 0.6005 - loss: 0.6688 - val_accuracy: 0.5638 - val_loss: 0.6812 - learning_rate: 0.0010\n",
      "Epoch 9/100\n",
      "\u001b[1m27/27\u001b[0m \u001b[32m━━━━━━━━━━━━━━━━━━━━\u001b[0m\u001b[37m\u001b[0m \u001b[1m1s\u001b[0m 43ms/step - accuracy: 0.6206 - loss: 0.6525 - val_accuracy: 0.5745 - val_loss: 0.6896 - learning_rate: 0.0010\n",
      "Epoch 10/100\n",
      "\u001b[1m27/27\u001b[0m \u001b[32m━━━━━━━━━━━━━━━━━━━━\u001b[0m\u001b[37m\u001b[0m \u001b[1m1s\u001b[0m 42ms/step - accuracy: 0.6348 - loss: 0.6413 - val_accuracy: 0.5106 - val_loss: 0.6901 - learning_rate: 0.0010\n",
      "Epoch 11/100\n",
      "\u001b[1m27/27\u001b[0m \u001b[32m━━━━━━━━━━━━━━━━━━━━\u001b[0m\u001b[37m\u001b[0m \u001b[1m1s\u001b[0m 42ms/step - accuracy: 0.6288 - loss: 0.6357 - val_accuracy: 0.5638 - val_loss: 0.7119 - learning_rate: 0.0010\n",
      "Epoch 12/100\n",
      "\u001b[1m27/27\u001b[0m \u001b[32m━━━━━━━━━━━━━━━━━━━━\u001b[0m\u001b[37m\u001b[0m \u001b[1m1s\u001b[0m 42ms/step - accuracy: 0.6300 - loss: 0.6273 - val_accuracy: 0.5426 - val_loss: 0.7193 - learning_rate: 0.0010\n",
      "Epoch 13/100\n",
      "\u001b[1m27/27\u001b[0m \u001b[32m━━━━━━━━━━━━━━━━━━━━\u001b[0m\u001b[37m\u001b[0m \u001b[1m1s\u001b[0m 43ms/step - accuracy: 0.6608 - loss: 0.6129 - val_accuracy: 0.5213 - val_loss: 0.6931 - learning_rate: 0.0010\n",
      "Epoch 14/100\n",
      "\u001b[1m27/27\u001b[0m \u001b[32m━━━━━━━━━━━━━━━━━━━━\u001b[0m\u001b[37m\u001b[0m \u001b[1m1s\u001b[0m 42ms/step - accuracy: 0.6454 - loss: 0.6264 - val_accuracy: 0.5319 - val_loss: 0.7402 - learning_rate: 0.0010\n",
      "Epoch 15/100\n",
      "\u001b[1m27/27\u001b[0m \u001b[32m━━━━━━━━━━━━━━━━━━━━\u001b[0m\u001b[37m\u001b[0m \u001b[1m1s\u001b[0m 41ms/step - accuracy: 0.6596 - loss: 0.6184 - val_accuracy: 0.5000 - val_loss: 0.7009 - learning_rate: 0.0010\n",
      "Epoch 16/100\n",
      "\u001b[1m27/27\u001b[0m \u001b[32m━━━━━━━━━━━━━━━━━━━━\u001b[0m\u001b[37m\u001b[0m \u001b[1m1s\u001b[0m 43ms/step - accuracy: 0.6430 - loss: 0.6223 - val_accuracy: 0.5106 - val_loss: 0.7097 - learning_rate: 0.0010\n",
      "Epoch 17/100\n",
      "\u001b[1m27/27\u001b[0m \u001b[32m━━━━━━━━━━━━━━━━━━━━\u001b[0m\u001b[37m\u001b[0m \u001b[1m1s\u001b[0m 42ms/step - accuracy: 0.6548 - loss: 0.6239 - val_accuracy: 0.5638 - val_loss: 0.6797 - learning_rate: 0.0010\n",
      "Epoch 18/100\n",
      "\u001b[1m26/27\u001b[0m \u001b[32m━━━━━━━━━━━━━━━━━━━\u001b[0m\u001b[37m━\u001b[0m \u001b[1m0s\u001b[0m 39ms/step - accuracy: 0.6338 - loss: 0.6273\n",
      "Epoch 18: ReduceLROnPlateau reducing learning rate to 0.0005000000237487257.\n",
      "\u001b[1m27/27\u001b[0m \u001b[32m━━━━━━━━━━━━━━━━━━━━\u001b[0m\u001b[37m\u001b[0m \u001b[1m1s\u001b[0m 42ms/step - accuracy: 0.6336 - loss: 0.6215 - val_accuracy: 0.4787 - val_loss: 0.7209 - learning_rate: 0.0010\n",
      "Epoch 19/100\n",
      "\u001b[1m27/27\u001b[0m \u001b[32m━━━━━━━━━━━━━━━━━━━━\u001b[0m\u001b[37m\u001b[0m \u001b[1m1s\u001b[0m 41ms/step - accuracy: 0.6738 - loss: 0.5908 - val_accuracy: 0.5106 - val_loss: 0.7059 - learning_rate: 5.0000e-04\n",
      "Epoch 20/100\n",
      "\u001b[1m27/27\u001b[0m \u001b[32m━━━━━━━━━━━━━━━━━━━━\u001b[0m\u001b[37m\u001b[0m \u001b[1m1s\u001b[0m 41ms/step - accuracy: 0.7045 - loss: 0.5587 - val_accuracy: 0.5319 - val_loss: 0.7262 - learning_rate: 5.0000e-04\n",
      "Epoch 21/100\n",
      "\u001b[1m27/27\u001b[0m \u001b[32m━━━━━━━━━━━━━━━━━━━━\u001b[0m\u001b[37m\u001b[0m \u001b[1m1s\u001b[0m 41ms/step - accuracy: 0.7116 - loss: 0.5554 - val_accuracy: 0.5106 - val_loss: 0.7431 - learning_rate: 5.0000e-04\n",
      "Epoch 22/100\n",
      "\u001b[1m27/27\u001b[0m \u001b[32m━━━━━━━━━━━━━━━━━━━━\u001b[0m\u001b[37m\u001b[0m \u001b[1m1s\u001b[0m 41ms/step - accuracy: 0.7139 - loss: 0.5517 - val_accuracy: 0.5426 - val_loss: 0.8057 - learning_rate: 5.0000e-04\n",
      "Epoch 23/100\n",
      "\u001b[1m27/27\u001b[0m \u001b[32m━━━━━━━━━━━━━━━━━━━━\u001b[0m\u001b[37m\u001b[0m \u001b[1m1s\u001b[0m 41ms/step - accuracy: 0.7459 - loss: 0.5425 - val_accuracy: 0.5319 - val_loss: 0.7632 - learning_rate: 5.0000e-04\n",
      "Epoch 24/100\n",
      "\u001b[1m27/27\u001b[0m \u001b[32m━━━━━━━━━━━━━━━━━━━━\u001b[0m\u001b[37m\u001b[0m \u001b[1m1s\u001b[0m 41ms/step - accuracy: 0.7281 - loss: 0.5390 - val_accuracy: 0.5319 - val_loss: 0.8026 - learning_rate: 5.0000e-04\n",
      "Epoch 25/100\n",
      "\u001b[1m27/27\u001b[0m \u001b[32m━━━━━━━━━━━━━━━━━━━━\u001b[0m\u001b[37m\u001b[0m \u001b[1m1s\u001b[0m 41ms/step - accuracy: 0.7293 - loss: 0.5330 - val_accuracy: 0.5532 - val_loss: 0.7628 - learning_rate: 5.0000e-04\n",
      "Epoch 26/100\n",
      "\u001b[1m27/27\u001b[0m \u001b[32m━━━━━━━━━━━━━━━━━━━━\u001b[0m\u001b[37m\u001b[0m \u001b[1m1s\u001b[0m 42ms/step - accuracy: 0.7305 - loss: 0.5206 - val_accuracy: 0.5426 - val_loss: 0.7889 - learning_rate: 5.0000e-04\n",
      "Epoch 27/100\n",
      "\u001b[1m27/27\u001b[0m \u001b[32m━━━━━━━━━━━━━━━━━━━━\u001b[0m\u001b[37m\u001b[0m \u001b[1m1s\u001b[0m 41ms/step - accuracy: 0.7364 - loss: 0.5166 - val_accuracy: 0.5213 - val_loss: 0.8808 - learning_rate: 5.0000e-04\n",
      "Epoch 28/100\n",
      "\u001b[1m27/27\u001b[0m \u001b[32m━━━━━━━━━━━━━━━━━━━━\u001b[0m\u001b[37m\u001b[0m \u001b[1m1s\u001b[0m 42ms/step - accuracy: 0.7506 - loss: 0.5030 - val_accuracy: 0.5426 - val_loss: 0.8511 - learning_rate: 5.0000e-04\n",
      "Epoch 29/100\n",
      "\u001b[1m27/27\u001b[0m \u001b[32m━━━━━━━━━━━━━━━━━━━━\u001b[0m\u001b[37m\u001b[0m \u001b[1m1s\u001b[0m 42ms/step - accuracy: 0.7518 - loss: 0.4929 - val_accuracy: 0.5426 - val_loss: 0.8804 - learning_rate: 5.0000e-04\n",
      "Epoch 30/100\n",
      "\u001b[1m27/27\u001b[0m \u001b[32m━━━━━━━━━━━━━━━━━━━━\u001b[0m\u001b[37m\u001b[0m \u001b[1m1s\u001b[0m 43ms/step - accuracy: 0.7435 - loss: 0.4970 - val_accuracy: 0.5106 - val_loss: 0.8725 - learning_rate: 5.0000e-04\n",
      "Epoch 31/100\n",
      "\u001b[1m27/27\u001b[0m \u001b[32m━━━━━━━━━━━━━━━━━━━━\u001b[0m\u001b[37m\u001b[0m \u001b[1m1s\u001b[0m 41ms/step - accuracy: 0.7813 - loss: 0.4748 - val_accuracy: 0.5319 - val_loss: 1.0687 - learning_rate: 5.0000e-04\n",
      "Epoch 32/100\n",
      "\u001b[1m27/27\u001b[0m \u001b[32m━━━━━━━━━━━━━━━━━━━━\u001b[0m\u001b[37m\u001b[0m \u001b[1m1s\u001b[0m 41ms/step - accuracy: 0.7683 - loss: 0.4878 - val_accuracy: 0.5213 - val_loss: 0.8417 - learning_rate: 5.0000e-04\n",
      "Epoch 32: early stopping\n",
      "Restoring model weights from the end of the best epoch: 17.\n"
     ]
    }
   ],
   "source": [
    "callbacks = [\n",
    "    tf.keras.callbacks.ReduceLROnPlateau(monitor='loss', factor=0.5, patience=5, verbose=1),\n",
    "    tf.keras.callbacks.EarlyStopping(monitor='val_loss', patience=15, restore_best_weights=True, verbose=1)\n",
    "]\n",
    "\n",
    "history = model.fit(\n",
    "    X_train, y_train,\n",
    "    epochs=EPOCHS,\n",
    "    validation_data=(X_val, y_val),\n",
    "    batch_size=BATCH_SIZE,\n",
    "    callbacks=callbacks,\n",
    "    verbose=1\n",
    ")"
   ]
  },
  {
   "cell_type": "code",
   "execution_count": 138,
   "id": "e3c6164f",
   "metadata": {},
   "outputs": [
    {
     "name": "stdout",
     "output_type": "stream",
     "text": [
      "\u001b[1m1/1\u001b[0m \u001b[32m━━━━━━━━━━━━━━━━━━━━\u001b[0m\u001b[37m\u001b[0m \u001b[1m1s\u001b[0m 642ms/step\n",
      "Accuracy:  0.600\n",
      "F1 Score:  0.750\n",
      "Confusion Matrix:\n",
      "[[0 6]\n",
      " [0 9]]\n"
     ]
    }
   ],
   "source": [
    "pred_probs = model.predict(X_test)\n",
    "pred_labels = (pred_probs > 0.5).astype(int).flatten()\n",
    "y_true = y_test.flatten()\n",
    "\n",
    "acc = accuracy_score(y_true, pred_labels)\n",
    "f1 = f1_score(y_true, pred_labels)\n",
    "\n",
    "print(f\"Accuracy:  {acc:.3f}\")\n",
    "print(f\"F1 Score:  {f1:.3f}\")\n",
    "print(\"Confusion Matrix:\")\n",
    "print(confusion_matrix(y_true, pred_labels))"
   ]
  },
  {
   "cell_type": "code",
   "execution_count": 139,
   "id": "be03cc9a",
   "metadata": {},
   "outputs": [
    {
     "data": {
      "image/png": "[encoded data removed]",
      "text/plain": [
       "<Figure size 1400x500 with 1 Axes>"
      ]
     },
     "metadata": {},
     "output_type": "display_data"
    }
   ],
   "source": [
    "plt.figure(figsize=(14, 5))\n",
    "plt.plot(y_true, label='Actual Direction', color='blue', marker='o')\n",
    "plt.plot(pred_labels, label='Predicted Direction', color='red', marker='x')\n",
    "plt.title('Actual vs Predicted Price Direction (1=Up, 0=Down)')\n",
    "plt.legend()\n",
    "plt.show()"
   ]
  }
 ],
 "metadata": {
  "kernelspec": {
   "display_name": ".venv",
   "language": "python",
   "name": "python3"
  },
  "language_info": {
   "codemirror_mode": {
    "name": "ipython",
    "version": 3
   },
   "file_extension": ".py",
   "mimetype": "text/x-python",
   "name": "python",
   "nbconvert_exporter": "python",
   "pygments_lexer": "ipython3",
   "version": "3.12.3"
  }
 },
 "nbformat": 4,
 "nbformat_minor": 5
}
