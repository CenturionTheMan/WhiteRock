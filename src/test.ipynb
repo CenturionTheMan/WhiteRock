{
 "cells": [
  {
   "cell_type": "code",
   "execution_count": 145,
   "id": "872719e5",
   "metadata": {},
   "outputs": [],
   "source": [
    "import pandas as pd\n",
    "import numpy as np\n",
    "import matplotlib.pyplot as plt\n",
    "from sklearn.preprocessing import MinMaxScaler, StandardScaler\n",
    "from sklearn.metrics import mean_squared_error, mean_absolute_error, r2_score\n",
    "from sklearn.model_selection import train_test_split\n",
    "import tensorflow as tf\n",
    "from tensorflow import keras\n",
    "import joblib\n",
    "import tabulate as tb\n",
    "from tensorflow.keras.layers import LSTM, Dense, Dropout, Input\n",
    "from tensorflow.keras.models import Sequential\n",
    "from tensorflow.keras.losses import Huber\n",
    "from tensorflow.keras import Sequential, layers, optimizers, losses\n",
    "\n"
   ]
  },
  {
   "cell_type": "code",
   "execution_count": 146,
   "id": "e8788a3a",
   "metadata": {},
   "outputs": [],
   "source": [
    "CSV_PATH = './../data/GOOGL.csv'\n",
    "DATE_COL = 'Date'\n",
    "\n",
    "SEQ_LENGTH = 90\n",
    "BATCH_SIZE = 32\n",
    "LEARNING_RATE = 0.001\n",
    "EPOCHS = 30\n",
    "\n",
    "# FEATURES = [\n",
    "#     'Open', 'High', 'Low', 'Close', 'Volume',\n",
    "#     'rsi', 'MACD_12_26_9', 'MACDh_12_26_9', 'MACDs_12_26_9',\n",
    "#     'BBL_20_2.0_2.0','BBM_20_2.0_2.0','BBU_20_2.0_2.0','BBB_20_2.0_2.0','BBP_20_2.0_2.0',\n",
    "#     'ema_10','ema_20','ema_50','atr','stoch_k','stoch_d'\n",
    "# ]\n",
    "\n",
    "FEATURES = [\n",
    "    'rsi', 'MACD_12_26_9', 'MACDh_12_26_9', 'MACDs_12_26_9',\n",
    "    'BBL_20_2.0_2.0','BBM_20_2.0_2.0','BBU_20_2.0_2.0','BBB_20_2.0_2.0','BBP_20_2.0_2.0',\n",
    "    'ema_10','ema_20','ema_50','atr','stoch_k','stoch_d'\n",
    "]\n",
    "\n",
    "TARGET = 'Close'\n",
    "\n",
    "TRAINING_RANGE = ('2022-01-01', '2025-09-30')\n",
    "TESTING_RANGE = ('2025-10-01', '2025-10-20')"
   ]
  },
  {
   "cell_type": "code",
   "execution_count": 147,
   "id": "0d57f806",
   "metadata": {},
   "outputs": [
    {
     "name": "stdout",
     "output_type": "stream",
     "text": [
      "+----------+----------------+-----------------+-----------------+------------------+------------------+------------------+------------------+------------------+-------------+-------------+-------------+-----------+-----------+-----------+\n",
      "|      rsi |   MACD_12_26_9 |   MACDh_12_26_9 |   MACDs_12_26_9 |   BBL_20_2.0_2.0 |   BBM_20_2.0_2.0 |   BBU_20_2.0_2.0 |   BBB_20_2.0_2.0 |   BBP_20_2.0_2.0 |      ema_10 |      ema_20 |      ema_50 |       atr |   stoch_k |   stoch_d |\n",
      "|----------+----------------+-----------------+-----------------+------------------+------------------+------------------+------------------+------------------+-------------+-------------+-------------+-----------+-----------+-----------|\n",
      "| 0.879182 |       0.359553 |        0.507202 |        0.33678  |      0           |      0           |      0.000696864 |         0.890176 |         0.752319 | 0           | 0           | 0           | 0.0160677 |  0.884602 |  0.865236 |\n",
      "| 0.837271 |       0.360364 |        0.505806 |        0.33809  |      3.47613e-05 |      0.000296079 |      0.00121213  |         0.930788 |         0.70318  | 0.000383819 | 0.000343858 | 0.000271039 | 0.0162919 |  0.907243 |  0.887089 |\n",
      "| 0.858258 |       0.361273 |        0.504993 |        0.339341 |      5.93777e-05 |      0.000606998 |      0.00176389  |         0.974334 |         0.702992 | 0.000797899 | 0.000707856 | 0.000554421 | 0.015873  |  0.932488 |  0.91502  |\n",
      "| 0.839242 |       0.361624 |        0.502618 |        0.340421 |      0.000145794 |      0.000895121 |      0.00221816  |         1        |         0.672503 | 0.00111516  | 0.0010258   | 0.000821746 | 0.0151811 |  0.910799 |  0.924107 |\n",
      "| 0.786241 |       0.361338 |        0.498754 |        0.34122  |      0.000360502 |      0.00117351  |      0.00253945  |         0.997161 |         0.638457 | 0.00131534  | 0.00128207  | 0.00106495  | 0.0158742 |  0.903956 |  0.922967 |\n",
      "+----------+----------------+-----------------+-----------------+------------------+------------------+------------------+------------------+------------------+-------------+-------------+-------------+-----------+-----------+-----------+\n",
      "+------------+\n",
      "|      Close |\n",
      "|------------|\n",
      "| 0.00279659 |\n",
      "| 0.0025328  |\n",
      "| 0.00306732 |\n",
      "| 0.00295229 |\n",
      "| 0.00263495 |\n",
      "+------------+\n"
     ]
    }
   ],
   "source": [
    "df = pd.read_csv(CSV_PATH, parse_dates=[DATE_COL])\n",
    "df = df.sort_values(DATE_COL).reset_index(drop=True)\n",
    "# df[f\"next_{TARGET}\"] = df[TARGET].shift(1)\n",
    "# df = df[[DATE_COL] + FEATURES + [f\"next_{TARGET}\"]]\n",
    "df = df[[DATE_COL] + FEATURES + [TARGET]]\n",
    "df.dropna(inplace=True)\n",
    "# print(tb.tabulate(df.head(), headers='keys', tablefmt='psql'))\n",
    "\n",
    "feature_scaler = MinMaxScaler()#MinMaxScaler()\n",
    "target_scaler = MinMaxScaler()\n",
    "\n",
    "feature_data = feature_scaler.fit_transform(df[FEATURES])\n",
    "target_data = target_scaler.fit_transform(df[[TARGET]].values.reshape(-1, 1))\n",
    "\n",
    "print(tb.tabulate(feature_data[:5], headers=FEATURES, tablefmt='psql'))\n",
    "print(tb.tabulate(target_data[:5], headers=[TARGET], tablefmt='psql'))"
   ]
  },
  {
   "cell_type": "code",
   "execution_count": 148,
   "id": "ee50b76e",
   "metadata": {},
   "outputs": [
    {
     "name": "stdout",
     "output_type": "stream",
     "text": [
      "Feature data shape: (5187, 90, 15)\n",
      "Target data shape: (5187, 1)\n"
     ]
    }
   ],
   "source": [
    "X, y = [], []\n",
    "dates = []\n",
    "for i in range(SEQ_LENGTH, len(feature_data)):\n",
    "    tmp = feature_data[i - SEQ_LENGTH:i]\n",
    "    X.append(tmp)\n",
    "    dates.append(df[DATE_COL].values[i])\n",
    "    y.append(target_data[i])\n",
    "\n",
    "X, y = np.array(X), np.array(y)\n",
    "\n",
    "print(f\"Feature data shape: {X.shape}\")\n",
    "print(f\"Target data shape: {y.shape}\")"
   ]
  },
  {
   "cell_type": "code",
   "execution_count": 149,
   "id": "0b96f6ba",
   "metadata": {},
   "outputs": [
    {
     "name": "stdout",
     "output_type": "stream",
     "text": [
      "Training: beg_idx=4234 -> beg=2021-12-31T00:00:00.000000000 || end_idx=5173 -> end=2025-09-30T00:00:00.000000000\n",
      "Testing:  beg_idx=5174 -> beg=2025-10-01T00:00:00.000000000 || end_idx=5186 -> end=2025-10-17T00:00:00.000000000\n",
      "X_train shape: (940, 90, 15), y_train shape: (940, 1)\n",
      "X_test shape: (13, 90, 15), y_test shape: (13, 1)\n"
     ]
    }
   ],
   "source": [
    "def find_closest_date_index(dates_array, target_date):\n",
    "    target_date = np.datetime64(target_date)\n",
    "    index = np.argmin(np.abs(dates_array - target_date))\n",
    "    return index\n",
    "\n",
    "train_beg, train_end = find_closest_date_index(dates, TRAINING_RANGE[0]), find_closest_date_index(dates, TRAINING_RANGE[1])\n",
    "test_beg, test_end = find_closest_date_index(dates, TESTING_RANGE[0]), find_closest_date_index(dates, TESTING_RANGE[1])\n",
    "\n",
    "print(f\"Training: beg_idx={train_beg} -> beg={dates[train_beg]} || end_idx={train_end} -> end={dates[train_end]}\")\n",
    "print(f\"Testing:  beg_idx={test_beg} -> beg={dates[test_beg]} || end_idx={test_end} -> end={dates[test_end]}\")\n",
    "\n",
    "X_train, y_train = X[train_beg:train_end+1], y[train_beg:train_end+1]\n",
    "X_test, y_test = X[test_beg:test_end+1], y[test_beg:test_end+1]\n",
    "\n",
    "print(f\"X_train shape: {X_train.shape}, y_train shape: {y_train.shape}\")\n",
    "print(f\"X_test shape: {X_test.shape}, y_test shape: {y_test.shape}\")"
   ]
  },
  {
   "cell_type": "code",
   "execution_count": 150,
   "id": "ef10e5c3",
   "metadata": {},
   "outputs": [
    {
     "data": {
      "text/html": [
       "<pre style=\"white-space:pre;overflow-x:auto;line-height:normal;font-family:Menlo,'DejaVu Sans Mono',consolas,'Courier New',monospace\"><span style=\"font-weight: bold\">Model: \"sequential_17\"</span>\n",
       "</pre>\n"
      ],
      "text/plain": [
       "\u001b[1mModel: \"sequential_17\"\u001b[0m\n"
      ]
     },
     "metadata": {},
     "output_type": "display_data"
    },
    {
     "data": {
      "text/html": [
       "<pre style=\"white-space:pre;overflow-x:auto;line-height:normal;font-family:Menlo,'DejaVu Sans Mono',consolas,'Courier New',monospace\">┏━━━━━━━━━━━━━━━━━━━━━━━━━━━━━━━━━┳━━━━━━━━━━━━━━━━━━━━━━━━┳━━━━━━━━━━━━━━━┓\n",
       "┃<span style=\"font-weight: bold\"> Layer (type)                    </span>┃<span style=\"font-weight: bold\"> Output Shape           </span>┃<span style=\"font-weight: bold\">       Param # </span>┃\n",
       "┡━━━━━━━━━━━━━━━━━━━━━━━━━━━━━━━━━╇━━━━━━━━━━━━━━━━━━━━━━━━╇━━━━━━━━━━━━━━━┩\n",
       "│ lstm_51 (<span style=\"color: #0087ff; text-decoration-color: #0087ff\">LSTM</span>)                  │ (<span style=\"color: #00d7ff; text-decoration-color: #00d7ff\">None</span>, <span style=\"color: #00af00; text-decoration-color: #00af00\">90</span>, <span style=\"color: #00af00; text-decoration-color: #00af00\">96</span>)         │        <span style=\"color: #00af00; text-decoration-color: #00af00\">43,008</span> │\n",
       "├─────────────────────────────────┼────────────────────────┼───────────────┤\n",
       "│ layer_normalization_20          │ (<span style=\"color: #00d7ff; text-decoration-color: #00d7ff\">None</span>, <span style=\"color: #00af00; text-decoration-color: #00af00\">90</span>, <span style=\"color: #00af00; text-decoration-color: #00af00\">96</span>)         │           <span style=\"color: #00af00; text-decoration-color: #00af00\">192</span> │\n",
       "│ (<span style=\"color: #0087ff; text-decoration-color: #0087ff\">LayerNormalization</span>)            │                        │               │\n",
       "├─────────────────────────────────┼────────────────────────┼───────────────┤\n",
       "│ dropout_51 (<span style=\"color: #0087ff; text-decoration-color: #0087ff\">Dropout</span>)            │ (<span style=\"color: #00d7ff; text-decoration-color: #00d7ff\">None</span>, <span style=\"color: #00af00; text-decoration-color: #00af00\">90</span>, <span style=\"color: #00af00; text-decoration-color: #00af00\">96</span>)         │             <span style=\"color: #00af00; text-decoration-color: #00af00\">0</span> │\n",
       "├─────────────────────────────────┼────────────────────────┼───────────────┤\n",
       "│ lstm_52 (<span style=\"color: #0087ff; text-decoration-color: #0087ff\">LSTM</span>)                  │ (<span style=\"color: #00d7ff; text-decoration-color: #00d7ff\">None</span>, <span style=\"color: #00af00; text-decoration-color: #00af00\">90</span>, <span style=\"color: #00af00; text-decoration-color: #00af00\">96</span>)         │        <span style=\"color: #00af00; text-decoration-color: #00af00\">74,112</span> │\n",
       "├─────────────────────────────────┼────────────────────────┼───────────────┤\n",
       "│ layer_normalization_21          │ (<span style=\"color: #00d7ff; text-decoration-color: #00d7ff\">None</span>, <span style=\"color: #00af00; text-decoration-color: #00af00\">90</span>, <span style=\"color: #00af00; text-decoration-color: #00af00\">96</span>)         │           <span style=\"color: #00af00; text-decoration-color: #00af00\">192</span> │\n",
       "│ (<span style=\"color: #0087ff; text-decoration-color: #0087ff\">LayerNormalization</span>)            │                        │               │\n",
       "├─────────────────────────────────┼────────────────────────┼───────────────┤\n",
       "│ dropout_52 (<span style=\"color: #0087ff; text-decoration-color: #0087ff\">Dropout</span>)            │ (<span style=\"color: #00d7ff; text-decoration-color: #00d7ff\">None</span>, <span style=\"color: #00af00; text-decoration-color: #00af00\">90</span>, <span style=\"color: #00af00; text-decoration-color: #00af00\">96</span>)         │             <span style=\"color: #00af00; text-decoration-color: #00af00\">0</span> │\n",
       "├─────────────────────────────────┼────────────────────────┼───────────────┤\n",
       "│ lstm_53 (<span style=\"color: #0087ff; text-decoration-color: #0087ff\">LSTM</span>)                  │ (<span style=\"color: #00d7ff; text-decoration-color: #00d7ff\">None</span>, <span style=\"color: #00af00; text-decoration-color: #00af00\">64</span>)             │        <span style=\"color: #00af00; text-decoration-color: #00af00\">41,216</span> │\n",
       "├─────────────────────────────────┼────────────────────────┼───────────────┤\n",
       "│ layer_normalization_22          │ (<span style=\"color: #00d7ff; text-decoration-color: #00d7ff\">None</span>, <span style=\"color: #00af00; text-decoration-color: #00af00\">64</span>)             │           <span style=\"color: #00af00; text-decoration-color: #00af00\">128</span> │\n",
       "│ (<span style=\"color: #0087ff; text-decoration-color: #0087ff\">LayerNormalization</span>)            │                        │               │\n",
       "├─────────────────────────────────┼────────────────────────┼───────────────┤\n",
       "│ dropout_53 (<span style=\"color: #0087ff; text-decoration-color: #0087ff\">Dropout</span>)            │ (<span style=\"color: #00d7ff; text-decoration-color: #00d7ff\">None</span>, <span style=\"color: #00af00; text-decoration-color: #00af00\">64</span>)             │             <span style=\"color: #00af00; text-decoration-color: #00af00\">0</span> │\n",
       "├─────────────────────────────────┼────────────────────────┼───────────────┤\n",
       "│ dense_36 (<span style=\"color: #0087ff; text-decoration-color: #0087ff\">Dense</span>)                │ (<span style=\"color: #00d7ff; text-decoration-color: #00d7ff\">None</span>, <span style=\"color: #00af00; text-decoration-color: #00af00\">64</span>)             │         <span style=\"color: #00af00; text-decoration-color: #00af00\">4,160</span> │\n",
       "├─────────────────────────────────┼────────────────────────┼───────────────┤\n",
       "│ layer_normalization_23          │ (<span style=\"color: #00d7ff; text-decoration-color: #00d7ff\">None</span>, <span style=\"color: #00af00; text-decoration-color: #00af00\">64</span>)             │           <span style=\"color: #00af00; text-decoration-color: #00af00\">128</span> │\n",
       "│ (<span style=\"color: #0087ff; text-decoration-color: #0087ff\">LayerNormalization</span>)            │                        │               │\n",
       "├─────────────────────────────────┼────────────────────────┼───────────────┤\n",
       "│ dense_37 (<span style=\"color: #0087ff; text-decoration-color: #0087ff\">Dense</span>)                │ (<span style=\"color: #00d7ff; text-decoration-color: #00d7ff\">None</span>, <span style=\"color: #00af00; text-decoration-color: #00af00\">32</span>)             │         <span style=\"color: #00af00; text-decoration-color: #00af00\">2,080</span> │\n",
       "├─────────────────────────────────┼────────────────────────┼───────────────┤\n",
       "│ dense_38 (<span style=\"color: #0087ff; text-decoration-color: #0087ff\">Dense</span>)                │ (<span style=\"color: #00d7ff; text-decoration-color: #00d7ff\">None</span>, <span style=\"color: #00af00; text-decoration-color: #00af00\">1</span>)              │            <span style=\"color: #00af00; text-decoration-color: #00af00\">33</span> │\n",
       "└─────────────────────────────────┴────────────────────────┴───────────────┘\n",
       "</pre>\n"
      ],
      "text/plain": [
       "┏━━━━━━━━━━━━━━━━━━━━━━━━━━━━━━━━━┳━━━━━━━━━━━━━━━━━━━━━━━━┳━━━━━━━━━━━━━━━┓\n",
       "┃\u001b[1m \u001b[0m\u001b[1mLayer (type)                   \u001b[0m\u001b[1m \u001b[0m┃\u001b[1m \u001b[0m\u001b[1mOutput Shape          \u001b[0m\u001b[1m \u001b[0m┃\u001b[1m \u001b[0m\u001b[1m      Param #\u001b[0m\u001b[1m \u001b[0m┃\n",
       "┡━━━━━━━━━━━━━━━━━━━━━━━━━━━━━━━━━╇━━━━━━━━━━━━━━━━━━━━━━━━╇━━━━━━━━━━━━━━━┩\n",
       "│ lstm_51 (\u001b[38;5;33mLSTM\u001b[0m)                  │ (\u001b[38;5;45mNone\u001b[0m, \u001b[38;5;34m90\u001b[0m, \u001b[38;5;34m96\u001b[0m)         │        \u001b[38;5;34m43,008\u001b[0m │\n",
       "├─────────────────────────────────┼────────────────────────┼───────────────┤\n",
       "│ layer_normalization_20          │ (\u001b[38;5;45mNone\u001b[0m, \u001b[38;5;34m90\u001b[0m, \u001b[38;5;34m96\u001b[0m)         │           \u001b[38;5;34m192\u001b[0m │\n",
       "│ (\u001b[38;5;33mLayerNormalization\u001b[0m)            │                        │               │\n",
       "├─────────────────────────────────┼────────────────────────┼───────────────┤\n",
       "│ dropout_51 (\u001b[38;5;33mDropout\u001b[0m)            │ (\u001b[38;5;45mNone\u001b[0m, \u001b[38;5;34m90\u001b[0m, \u001b[38;5;34m96\u001b[0m)         │             \u001b[38;5;34m0\u001b[0m │\n",
       "├─────────────────────────────────┼────────────────────────┼───────────────┤\n",
       "│ lstm_52 (\u001b[38;5;33mLSTM\u001b[0m)                  │ (\u001b[38;5;45mNone\u001b[0m, \u001b[38;5;34m90\u001b[0m, \u001b[38;5;34m96\u001b[0m)         │        \u001b[38;5;34m74,112\u001b[0m │\n",
       "├─────────────────────────────────┼────────────────────────┼───────────────┤\n",
       "│ layer_normalization_21          │ (\u001b[38;5;45mNone\u001b[0m, \u001b[38;5;34m90\u001b[0m, \u001b[38;5;34m96\u001b[0m)         │           \u001b[38;5;34m192\u001b[0m │\n",
       "│ (\u001b[38;5;33mLayerNormalization\u001b[0m)            │                        │               │\n",
       "├─────────────────────────────────┼────────────────────────┼───────────────┤\n",
       "│ dropout_52 (\u001b[38;5;33mDropout\u001b[0m)            │ (\u001b[38;5;45mNone\u001b[0m, \u001b[38;5;34m90\u001b[0m, \u001b[38;5;34m96\u001b[0m)         │             \u001b[38;5;34m0\u001b[0m │\n",
       "├─────────────────────────────────┼────────────────────────┼───────────────┤\n",
       "│ lstm_53 (\u001b[38;5;33mLSTM\u001b[0m)                  │ (\u001b[38;5;45mNone\u001b[0m, \u001b[38;5;34m64\u001b[0m)             │        \u001b[38;5;34m41,216\u001b[0m │\n",
       "├─────────────────────────────────┼────────────────────────┼───────────────┤\n",
       "│ layer_normalization_22          │ (\u001b[38;5;45mNone\u001b[0m, \u001b[38;5;34m64\u001b[0m)             │           \u001b[38;5;34m128\u001b[0m │\n",
       "│ (\u001b[38;5;33mLayerNormalization\u001b[0m)            │                        │               │\n",
       "├─────────────────────────────────┼────────────────────────┼───────────────┤\n",
       "│ dropout_53 (\u001b[38;5;33mDropout\u001b[0m)            │ (\u001b[38;5;45mNone\u001b[0m, \u001b[38;5;34m64\u001b[0m)             │             \u001b[38;5;34m0\u001b[0m │\n",
       "├─────────────────────────────────┼────────────────────────┼───────────────┤\n",
       "│ dense_36 (\u001b[38;5;33mDense\u001b[0m)                │ (\u001b[38;5;45mNone\u001b[0m, \u001b[38;5;34m64\u001b[0m)             │         \u001b[38;5;34m4,160\u001b[0m │\n",
       "├─────────────────────────────────┼────────────────────────┼───────────────┤\n",
       "│ layer_normalization_23          │ (\u001b[38;5;45mNone\u001b[0m, \u001b[38;5;34m64\u001b[0m)             │           \u001b[38;5;34m128\u001b[0m │\n",
       "│ (\u001b[38;5;33mLayerNormalization\u001b[0m)            │                        │               │\n",
       "├─────────────────────────────────┼────────────────────────┼───────────────┤\n",
       "│ dense_37 (\u001b[38;5;33mDense\u001b[0m)                │ (\u001b[38;5;45mNone\u001b[0m, \u001b[38;5;34m32\u001b[0m)             │         \u001b[38;5;34m2,080\u001b[0m │\n",
       "├─────────────────────────────────┼────────────────────────┼───────────────┤\n",
       "│ dense_38 (\u001b[38;5;33mDense\u001b[0m)                │ (\u001b[38;5;45mNone\u001b[0m, \u001b[38;5;34m1\u001b[0m)              │            \u001b[38;5;34m33\u001b[0m │\n",
       "└─────────────────────────────────┴────────────────────────┴───────────────┘\n"
      ]
     },
     "metadata": {},
     "output_type": "display_data"
    },
    {
     "data": {
      "text/html": [
       "<pre style=\"white-space:pre;overflow-x:auto;line-height:normal;font-family:Menlo,'DejaVu Sans Mono',consolas,'Courier New',monospace\"><span style=\"font-weight: bold\"> Total params: </span><span style=\"color: #00af00; text-decoration-color: #00af00\">165,249</span> (645.50 KB)\n",
       "</pre>\n"
      ],
      "text/plain": [
       "\u001b[1m Total params: \u001b[0m\u001b[38;5;34m165,249\u001b[0m (645.50 KB)\n"
      ]
     },
     "metadata": {},
     "output_type": "display_data"
    },
    {
     "data": {
      "text/html": [
       "<pre style=\"white-space:pre;overflow-x:auto;line-height:normal;font-family:Menlo,'DejaVu Sans Mono',consolas,'Courier New',monospace\"><span style=\"font-weight: bold\"> Trainable params: </span><span style=\"color: #00af00; text-decoration-color: #00af00\">165,249</span> (645.50 KB)\n",
       "</pre>\n"
      ],
      "text/plain": [
       "\u001b[1m Trainable params: \u001b[0m\u001b[38;5;34m165,249\u001b[0m (645.50 KB)\n"
      ]
     },
     "metadata": {},
     "output_type": "display_data"
    },
    {
     "data": {
      "text/html": [
       "<pre style=\"white-space:pre;overflow-x:auto;line-height:normal;font-family:Menlo,'DejaVu Sans Mono',consolas,'Courier New',monospace\"><span style=\"font-weight: bold\"> Non-trainable params: </span><span style=\"color: #00af00; text-decoration-color: #00af00\">0</span> (0.00 B)\n",
       "</pre>\n"
      ],
      "text/plain": [
       "\u001b[1m Non-trainable params: \u001b[0m\u001b[38;5;34m0\u001b[0m (0.00 B)\n"
      ]
     },
     "metadata": {},
     "output_type": "display_data"
    }
   ],
   "source": [
    "def create_financial_model(seq_length, feature_count, learning_rate):\n",
    "    model = Sequential([\n",
    "        layers.Input(shape=(seq_length, feature_count)),\n",
    "        \n",
    "        # --- Block 1 ---\n",
    "        layers.LSTM(96, return_sequences=True),\n",
    "        layers.LayerNormalization(),\n",
    "        layers.Dropout(0.1),\n",
    "        \n",
    "        # --- Block 2 ---\n",
    "        layers.LSTM(96, return_sequences=True),\n",
    "        layers.LayerNormalization(),\n",
    "        layers.Dropout(0.05),\n",
    "        \n",
    "        # --- Block 3 ---\n",
    "        layers.LSTM(64, return_sequences=False),\n",
    "        layers.LayerNormalization(),\n",
    "        layers.Dropout(0.05),\n",
    "        \n",
    "        # --- Residual dense block ---\n",
    "        layers.Dense(64, activation='relu'),\n",
    "        layers.LayerNormalization(),\n",
    "        layers.Dense(32, activation='relu'),\n",
    "        \n",
    "        # --- Output ---\n",
    "        layers.Dense(1, activation='linear')\n",
    "    ])\n",
    "    \n",
    "    model.compile(\n",
    "        optimizer=optimizers.Adam(learning_rate=learning_rate),\n",
    "        loss=losses.Huber(delta=1.0),\n",
    "        metrics=[\"mae\"]\n",
    "    )\n",
    "    \n",
    "    model.summary()\n",
    "    return model\n",
    "model = create_financial_model(SEQ_LENGTH, len(FEATURES), LEARNING_RATE)"
   ]
  },
  {
   "cell_type": "code",
   "execution_count": 151,
   "id": "efe752fb",
   "metadata": {},
   "outputs": [
    {
     "name": "stdout",
     "output_type": "stream",
     "text": [
      "Epoch 1/30\n",
      "\u001b[1m27/27\u001b[0m \u001b[32m━━━━━━━━━━━━━━━━━━━━\u001b[0m\u001b[37m\u001b[0m \u001b[1m15s\u001b[0m 188ms/step - loss: 0.0873 - mae: 0.2718 - val_loss: 0.0250 - val_mae: 0.2013 - learning_rate: 0.0010\n",
      "Epoch 2/30\n",
      "\u001b[1m27/27\u001b[0m \u001b[32m━━━━━━━━━━━━━━━━━━━━\u001b[0m\u001b[37m\u001b[0m \u001b[1m4s\u001b[0m 139ms/step - loss: 0.0096 - mae: 0.1090 - val_loss: 0.0175 - val_mae: 0.1628 - learning_rate: 0.0010\n",
      "Epoch 3/30\n",
      "\u001b[1m27/27\u001b[0m \u001b[32m━━━━━━━━━━━━━━━━━━━━\u001b[0m\u001b[37m\u001b[0m \u001b[1m4s\u001b[0m 144ms/step - loss: 0.0046 - mae: 0.0766 - val_loss: 0.0125 - val_mae: 0.1417 - learning_rate: 0.0010\n",
      "Epoch 4/30\n",
      "\u001b[1m27/27\u001b[0m \u001b[32m━━━━━━━━━━━━━━━━━━━━\u001b[0m\u001b[37m\u001b[0m \u001b[1m4s\u001b[0m 147ms/step - loss: 0.0034 - mae: 0.0651 - val_loss: 0.0098 - val_mae: 0.1130 - learning_rate: 0.0010\n",
      "Epoch 5/30\n",
      "\u001b[1m27/27\u001b[0m \u001b[32m━━━━━━━━━━━━━━━━━━━━\u001b[0m\u001b[37m\u001b[0m \u001b[1m4s\u001b[0m 134ms/step - loss: 0.0028 - mae: 0.0567 - val_loss: 0.0076 - val_mae: 0.1038 - learning_rate: 0.0010\n",
      "Epoch 6/30\n",
      "\u001b[1m27/27\u001b[0m \u001b[32m━━━━━━━━━━━━━━━━━━━━\u001b[0m\u001b[37m\u001b[0m \u001b[1m4s\u001b[0m 133ms/step - loss: 0.0021 - mae: 0.0513 - val_loss: 0.0068 - val_mae: 0.0950 - learning_rate: 0.0010\n",
      "Epoch 7/30\n",
      "\u001b[1m27/27\u001b[0m \u001b[32m━━━━━━━━━━━━━━━━━━━━\u001b[0m\u001b[37m\u001b[0m \u001b[1m4s\u001b[0m 132ms/step - loss: 0.0019 - mae: 0.0493 - val_loss: 0.0034 - val_mae: 0.0545 - learning_rate: 0.0010\n",
      "Epoch 8/30\n",
      "\u001b[1m27/27\u001b[0m \u001b[32m━━━━━━━━━━━━━━━━━━━━\u001b[0m\u001b[37m\u001b[0m \u001b[1m4s\u001b[0m 133ms/step - loss: 0.0017 - mae: 0.0454 - val_loss: 0.0050 - val_mae: 0.0759 - learning_rate: 0.0010\n",
      "Epoch 9/30\n",
      "\u001b[1m27/27\u001b[0m \u001b[32m━━━━━━━━━━━━━━━━━━━━\u001b[0m\u001b[37m\u001b[0m \u001b[1m4s\u001b[0m 135ms/step - loss: 0.0013 - mae: 0.0408 - val_loss: 0.0036 - val_mae: 0.0633 - learning_rate: 0.0010\n",
      "Epoch 10/30\n",
      "\u001b[1m27/27\u001b[0m \u001b[32m━━━━━━━━━━━━━━━━━━━━\u001b[0m\u001b[37m\u001b[0m \u001b[1m4s\u001b[0m 135ms/step - loss: 0.0013 - mae: 0.0408 - val_loss: 0.0028 - val_mae: 0.0485 - learning_rate: 0.0010\n",
      "Epoch 11/30\n",
      "\u001b[1m27/27\u001b[0m \u001b[32m━━━━━━━━━━━━━━━━━━━━\u001b[0m\u001b[37m\u001b[0m \u001b[1m5s\u001b[0m 135ms/step - loss: 0.0015 - mae: 0.0428 - val_loss: 0.0032 - val_mae: 0.0518 - learning_rate: 0.0010\n",
      "Epoch 12/30\n",
      "\u001b[1m27/27\u001b[0m \u001b[32m━━━━━━━━━━━━━━━━━━━━\u001b[0m\u001b[37m\u001b[0m \u001b[1m4s\u001b[0m 131ms/step - loss: 0.0016 - mae: 0.0439 - val_loss: 0.0027 - val_mae: 0.0474 - learning_rate: 0.0010\n",
      "Epoch 13/30\n",
      "\u001b[1m27/27\u001b[0m \u001b[32m━━━━━━━━━━━━━━━━━━━━\u001b[0m\u001b[37m\u001b[0m \u001b[1m4s\u001b[0m 134ms/step - loss: 9.7527e-04 - mae: 0.0347 - val_loss: 0.0022 - val_mae: 0.0436 - learning_rate: 0.0010\n",
      "Epoch 14/30\n",
      "\u001b[1m27/27\u001b[0m \u001b[32m━━━━━━━━━━━━━━━━━━━━\u001b[0m\u001b[37m\u001b[0m \u001b[1m4s\u001b[0m 136ms/step - loss: 9.1855e-04 - mae: 0.0329 - val_loss: 0.0022 - val_mae: 0.0414 - learning_rate: 0.0010\n",
      "Epoch 15/30\n",
      "\u001b[1m27/27\u001b[0m \u001b[32m━━━━━━━━━━━━━━━━━━━━\u001b[0m\u001b[37m\u001b[0m \u001b[1m4s\u001b[0m 137ms/step - loss: 0.0012 - mae: 0.0395 - val_loss: 0.0052 - val_mae: 0.0835 - learning_rate: 0.0010\n",
      "Epoch 16/30\n",
      "\u001b[1m27/27\u001b[0m \u001b[32m━━━━━━━━━━━━━━━━━━━━\u001b[0m\u001b[37m\u001b[0m \u001b[1m4s\u001b[0m 132ms/step - loss: 9.4336e-04 - mae: 0.0352 - val_loss: 0.0027 - val_mae: 0.0503 - learning_rate: 0.0010\n",
      "Epoch 17/30\n",
      "\u001b[1m27/27\u001b[0m \u001b[32m━━━━━━━━━━━━━━━━━━━━\u001b[0m\u001b[37m\u001b[0m \u001b[1m4s\u001b[0m 137ms/step - loss: 8.9100e-04 - mae: 0.0334 - val_loss: 0.0032 - val_mae: 0.0536 - learning_rate: 0.0010\n",
      "Epoch 18/30\n",
      "\u001b[1m27/27\u001b[0m \u001b[32m━━━━━━━━━━━━━━━━━━━━\u001b[0m\u001b[37m\u001b[0m \u001b[1m4s\u001b[0m 134ms/step - loss: 7.6802e-04 - mae: 0.0305 - val_loss: 0.0026 - val_mae: 0.0460 - learning_rate: 0.0010\n",
      "Epoch 19/30\n",
      "\u001b[1m27/27\u001b[0m \u001b[32m━━━━━━━━━━━━━━━━━━━━\u001b[0m\u001b[37m\u001b[0m \u001b[1m4s\u001b[0m 133ms/step - loss: 7.3525e-04 - mae: 0.0304 - val_loss: 0.0027 - val_mae: 0.0499 - learning_rate: 5.0000e-04\n",
      "Epoch 20/30\n",
      "\u001b[1m27/27\u001b[0m \u001b[32m━━━━━━━━━━━━━━━━━━━━\u001b[0m\u001b[37m\u001b[0m \u001b[1m4s\u001b[0m 136ms/step - loss: 7.0585e-04 - mae: 0.0293 - val_loss: 0.0037 - val_mae: 0.0622 - learning_rate: 5.0000e-04\n",
      "Epoch 21/30\n",
      "\u001b[1m27/27\u001b[0m \u001b[32m━━━━━━━━━━━━━━━━━━━━\u001b[0m\u001b[37m\u001b[0m \u001b[1m4s\u001b[0m 133ms/step - loss: 6.5411e-04 - mae: 0.0284 - val_loss: 0.0037 - val_mae: 0.0637 - learning_rate: 5.0000e-04\n",
      "Epoch 22/30\n",
      "\u001b[1m27/27\u001b[0m \u001b[32m━━━━━━━━━━━━━━━━━━━━\u001b[0m\u001b[37m\u001b[0m \u001b[1m4s\u001b[0m 133ms/step - loss: 6.6073e-04 - mae: 0.0285 - val_loss: 0.0025 - val_mae: 0.0458 - learning_rate: 5.0000e-04\n"
     ]
    }
   ],
   "source": [
    "callbacks = [\n",
    "    tf.keras.callbacks.ReduceLROnPlateau(monitor='val_loss', factor=0.5, patience=5),\n",
    "    tf.keras.callbacks.EarlyStopping(monitor='val_loss', patience=8, restore_best_weights=True)\n",
    "]\n",
    "\n",
    "history = model.fit(\n",
    "    X_train, y_train,\n",
    "    validation_split=0.1,\n",
    "    epochs=EPOCHS,\n",
    "    batch_size=BATCH_SIZE,\n",
    "    callbacks=callbacks,\n",
    "    verbose=1\n",
    ")\n"
   ]
  },
  {
   "cell_type": "code",
   "execution_count": 152,
   "id": "e3c6164f",
   "metadata": {},
   "outputs": [
    {
     "name": "stdout",
     "output_type": "stream",
     "text": [
      "\u001b[1m1/1\u001b[0m \u001b[32m━━━━━━━━━━━━━━━━━━━━\u001b[0m\u001b[37m\u001b[0m \u001b[1m1s\u001b[0m 878ms/step\n",
      "+----+---------------------+----------+-------------+\n",
      "|    | Date                |   Actual |   Predicted |\n",
      "|----+---------------------+----------+-------------|\n",
      "|  0 | 2025-10-01 00:00:00 |   244.9  |     216.819 |\n",
      "|  1 | 2025-10-02 00:00:00 |   245.69 |     217.275 |\n",
      "|  2 | 2025-10-03 00:00:00 |   245.35 |     217.661 |\n",
      "|  3 | 2025-10-06 00:00:00 |   250.43 |     217.989 |\n",
      "|  4 | 2025-10-07 00:00:00 |   245.76 |     218.458 |\n",
      "|  5 | 2025-10-08 00:00:00 |   244.62 |     218.837 |\n",
      "|  6 | 2025-10-09 00:00:00 |   241.53 |     219.22  |\n",
      "|  7 | 2025-10-10 00:00:00 |   236.57 |     219.418 |\n",
      "|  8 | 2025-10-13 00:00:00 |   244.15 |     219.386 |\n",
      "|  9 | 2025-10-14 00:00:00 |   245.45 |     219.422 |\n",
      "| 10 | 2025-10-15 00:00:00 |   251.03 |     219.427 |\n",
      "| 11 | 2025-10-16 00:00:00 |   251.46 |     219.78  |\n",
      "| 12 | 2025-10-17 00:00:00 |   253.3  |     220.35  |\n",
      "+----+---------------------+----------+-------------+\n",
      "Test MSE: 768.920\n",
      "Test MAE: 27.400\n",
      "Test R2: -39.973\n"
     ]
    },
    {
     "data": {
      "image/png": "[encoded data removed]",
      "text/plain": [
       "<Figure size 1400x500 with 1 Axes>"
      ]
     },
     "metadata": {},
     "output_type": "display_data"
    }
   ],
   "source": [
    "predictions_scaled = model.predict(X_test)\n",
    "predictions = target_scaler.inverse_transform(predictions_scaled).flatten()\n",
    "y_test_unscaled = target_scaler.inverse_transform(y_test).flatten()\n",
    "\n",
    "comp_df = pd.DataFrame({\n",
    "    'Date': df[DATE_COL].values[test_beg + SEQ_LENGTH:test_end + SEQ_LENGTH + 1],\n",
    "    'Actual': y_test_unscaled,\n",
    "    'Predicted': predictions\n",
    "})\n",
    "print(tb.tabulate(comp_df, headers='keys', tablefmt='psql'))\n",
    "\n",
    "mse = mean_squared_error(y_test_unscaled, predictions)\n",
    "mae = mean_absolute_error(y_test_unscaled, predictions)\n",
    "r2 = r2_score(y_test_unscaled, predictions)\n",
    "print(f\"Test MSE: {mse:.3f}\")\n",
    "print(f\"Test MAE: {mae:.3f}\")\n",
    "print(f\"Test R2: {r2:.3f}\")\n",
    "\n",
    "\n",
    "plt.figure(figsize=(14, 5))\n",
    "plt.plot(y_test_unscaled, color='blue', label='Actual Returns')\n",
    "plt.plot(predictions, color='red', label='Predicted Returns')\n",
    "plt.title('Actual vs Predicted Returns')\n",
    "plt.xlabel('Time')\n",
    "plt.ylabel('Returns')\n",
    "plt.legend()\n",
    "plt.show()"
   ]
  }
 ],
 "metadata": {
  "kernelspec": {
   "display_name": ".venv",
   "language": "python",
   "name": "python3"
  },
  "language_info": {
   "codemirror_mode": {
    "name": "ipython",
    "version": 3
   },
   "file_extension": ".py",
   "mimetype": "text/x-python",
   "name": "python",
   "nbconvert_exporter": "python",
   "pygments_lexer": "ipython3",
   "version": "3.12.3"
  }
 },
 "nbformat": 4,
 "nbformat_minor": 5
}
